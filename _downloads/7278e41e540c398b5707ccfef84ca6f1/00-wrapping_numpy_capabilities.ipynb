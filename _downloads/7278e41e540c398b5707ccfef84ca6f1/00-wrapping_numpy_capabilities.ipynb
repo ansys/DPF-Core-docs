{
  "cells": [
    {
      "cell_type": "code",
      "execution_count": null,
      "metadata": {
        "collapsed": false
      },
      "outputs": [],
      "source": [
        "%matplotlib inline"
      ]
    },
    {
      "cell_type": "markdown",
      "metadata": {},
      "source": [
        "\n\n# Write user defined Operator\nThis example shows how to create a simple DPF python plugin holding a single Operator.\nThis Operator called \"easy_statistics\" computes simple statistics quantities on a scalar Field with\nthe help of numpy.\nIt's a simple example displaying how routines can be wrapped in DPF python plugins.\n"
      ]
    },
    {
      "cell_type": "markdown",
      "metadata": {},
      "source": [
        "## Write Operator\nTo write the simplest DPF python plugins, a single python script is necessary.\nAn Operator implementation deriving from\n:class:`ansys.dpf.core.custom_operator.CustomOperatorBase`\nand a call to :py:func:`ansys.dpf.core.custom_operator.record_operator`\nare the 2 necessary steps to create a plugin.\nThe \"easy_statistics\" Operator will take a Field in input and return\nthe first quartile, the median,\nthe third quartile and the variance. The python Operator and its recording seat in the\nfile plugins/easy_statistics.py. This file `easy_statistics.py` is downloaded\nand displayed here:\n\n"
      ]
    },
    {
      "cell_type": "code",
      "execution_count": null,
      "metadata": {
        "collapsed": false
      },
      "outputs": [],
      "source": [
        "from ansys.dpf.core import examples\n\nGITHUB_SOURCE_URL = \"https://github.com/pyansys/pydpf-core/\" \\\n                    \"raw/examples/first_python_plugins/python_plugins\"\nEXAMPLE_FILE = GITHUB_SOURCE_URL + \"/easy_statistics.py\"\noperator_file_path = examples.downloads._retrieve_file(\n    EXAMPLE_FILE, \"easy_statistics.py\", \"python_plugins\"\n)\n\nwith open(operator_file_path, \"r\") as f:\n    for line in f.readlines():\n        print('\\t\\t\\t' + line)"
      ]
    },
    {
      "cell_type": "markdown",
      "metadata": {},
      "source": [
        "## Load Plugin\nOnce a python plugin is written, it can be loaded with the function\n:py:func:`ansys.dpf.core.core.load_library`\ntaking as first argument the path to the directory of the plugin, as second argument\n``py_`` + the name of\nthe python script, and as last argument the function's name used to record operators.\n\n"
      ]
    },
    {
      "cell_type": "code",
      "execution_count": null,
      "metadata": {
        "collapsed": false
      },
      "outputs": [],
      "source": [
        "import os\nfrom ansys.dpf import core as dpf\nfrom ansys.dpf.core import examples\n\n# python plugins are not supported in process\ndpf.start_local_server(config=dpf.AvailableServerConfigs.GrpcServer)\n\noperator_server_file_path = dpf.upload_file_in_tmp_folder(operator_file_path)\ndpf.load_library(os.path.dirname(operator_server_file_path), \"py_easy_statistics\", \"load_operators\")"
      ]
    },
    {
      "cell_type": "markdown",
      "metadata": {},
      "source": [
        "Once the Operator loaded, it can be instantiated with:\n\n"
      ]
    },
    {
      "cell_type": "code",
      "execution_count": null,
      "metadata": {
        "collapsed": false
      },
      "outputs": [],
      "source": [
        "new_operator = dpf.Operator(\"easy_statistics\")"
      ]
    },
    {
      "cell_type": "markdown",
      "metadata": {},
      "source": [
        "To use this new Operator, a workflow computing the norm of the displacement\nis connected to the \"easy_statistics\" Operator.\nMethods of the class ``easy_statistics`` are dynamically added thanks to the Operator's\nspecification defined in the plugin.\n\n"
      ]
    },
    {
      "cell_type": "markdown",
      "metadata": {},
      "source": [
        ".. graphviz::\n\n   digraph foo {\n      graph [pad=\"0.5\", nodesep=\"0.3\", ranksep=\"0.3\"]\n      node [shape=box, style=filled, fillcolor=\"#ffcc00\", margin=\"0\"];\n      rankdir=LR;\n      splines=line;\n      ds [label=\"ds\", shape=box, style=filled, fillcolor=cadetblue2];\n      ds -> displacement [style=dashed];\n      displacement -> norm;\n      norm -> easy_statistics;\n   }\n\n"
      ]
    },
    {
      "cell_type": "markdown",
      "metadata": {},
      "source": [
        "## Use the Custom Operator\n\n"
      ]
    },
    {
      "cell_type": "code",
      "execution_count": null,
      "metadata": {
        "collapsed": false
      },
      "outputs": [],
      "source": [
        "ds = dpf.DataSources(dpf.upload_file_in_tmp_folder(examples.static_rst))\ndisplacement = dpf.operators.result.displacement(data_sources=ds)\nnorm = dpf.operators.math.norm(displacement)\nnew_operator.inputs.connect(norm)\n\nprint(\"first quartile is\", new_operator.outputs.first_quartile())\nprint(\"median is\", new_operator.outputs.median())\nprint(\"third quartile is\", new_operator.outputs.third_quartile())\nprint(\"variance is\", new_operator.outputs.variance())"
      ]
    }
  ],
  "metadata": {
    "kernelspec": {
      "display_name": "Python 3",
      "language": "python",
      "name": "python3"
    },
    "language_info": {
      "codemirror_mode": {
        "name": "ipython",
        "version": 3
      },
      "file_extension": ".py",
      "mimetype": "text/x-python",
      "name": "python",
      "nbconvert_exporter": "python",
      "pygments_lexer": "ipython3",
      "version": "3.8.10"
    }
  },
  "nbformat": 4,
  "nbformat_minor": 0
}