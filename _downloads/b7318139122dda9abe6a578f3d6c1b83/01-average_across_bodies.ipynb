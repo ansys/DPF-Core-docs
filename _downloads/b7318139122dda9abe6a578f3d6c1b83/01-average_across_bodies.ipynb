{
  "cells": [
    {
      "cell_type": "code",
      "execution_count": null,
      "metadata": {
        "collapsed": false
      },
      "outputs": [],
      "source": [
        "%matplotlib inline"
      ]
    },
    {
      "cell_type": "markdown",
      "metadata": {},
      "source": [
        "\n\n# Average across bodies\nThis example is aimed towards explaining how to activate or deactivate the averaging\nacross bodies option in DPF. When we have a multibody simulation that involves the\ncalculation of ElementalNodal fields, like stresses or strains, we can either\nactivate or deactivate the option of averaging theses fields across the different\nbodies when they share common nodes. This will likely change the end results that are\ndisplayed after the post processing of the simulation, as we will see below.\n"
      ]
    },
    {
      "cell_type": "markdown",
      "metadata": {},
      "source": [
        "Let's start by importing the necessary modules.\n\n"
      ]
    },
    {
      "cell_type": "code",
      "execution_count": null,
      "metadata": {
        "collapsed": false
      },
      "outputs": [],
      "source": [
        "from ansys.dpf import core as dpf\nfrom ansys.dpf.core import operators as ops\nfrom ansys.dpf.core import examples"
      ]
    },
    {
      "cell_type": "markdown",
      "metadata": {},
      "source": [
        "Then we can load the simulation results from a .rst file and create a model of it.\n\n"
      ]
    },
    {
      "cell_type": "code",
      "execution_count": null,
      "metadata": {
        "collapsed": false
      },
      "outputs": [],
      "source": [
        "analysis = examples.download_piston_rod()\nmodel = dpf.Model(analysis)\nprint(model)"
      ]
    },
    {
      "cell_type": "markdown",
      "metadata": {},
      "source": [
        "Now, let's take a look at our system to see how our bodies are connected to\neach other. First, we extract the mesh of our model and then we divide it into\ndifferent meshes using the split_mesh operator.\n\n"
      ]
    },
    {
      "cell_type": "code",
      "execution_count": null,
      "metadata": {
        "collapsed": false
      },
      "outputs": [],
      "source": [
        "mesh = model.metadata.meshed_region\nsplit_mesh_op = ops.mesh.split_mesh(mesh=mesh, property=\"mat\")\nmeshes = split_mesh_op.outputs.meshes()\n\nmeshes.plot(text=\"Body meshes\")"
      ]
    },
    {
      "cell_type": "markdown",
      "metadata": {},
      "source": [
        "As we can see in the image above, even though the piston rod is one single part,\nit's composed of two different bodies. Additionally, we can observe that the region\nwhere the two bodies are bonded together contains nodes that are common between them.\n\n"
      ]
    },
    {
      "cell_type": "markdown",
      "metadata": {},
      "source": [
        "Now, let's take a look into how the averaging across bodies option alters the\nresults of a simulation.\n\n"
      ]
    },
    {
      "cell_type": "markdown",
      "metadata": {},
      "source": [
        "# Averaging across bodies with DPF\nLet's define two workflows. The first one does averaging across bodies, while the\nsecond one doesn't. The variable of interest here is the stress in the Z direction,\nwhich will be obtained using the \"stress_Z\" operator.\n\n"
      ]
    },
    {
      "cell_type": "markdown",
      "metadata": {},
      "source": [
        ".. graphviz::\n\n  digraph foo {\n      graph [pad=\"0\", nodesep=\"0.3\", ranksep=\"0.3\"]\n      node [shape=box, style=filled, fillcolor=\"#ffcc0\", margin=\"0\"];\n      rankdir=LR;\n      splines=line;\n      node [fixedsize=true,width=2.5]\n      stress01 [label=\"stress_Z\"];\n      stress02 [label=\"stress_Z\"];\n      scp01 [label=\"split_on_property_type\"];\n      subgraph cluster_1 {\n          ds01 [label=\"data_src\", shape=box, style=filled, fillcolor=cadetblue2];\n          ds01 -> scp01 [style=dashed];\n          scp01 -> stress01;\n          label=\"Averaging across bodies = Off\";\n          style=filled;\n          fillcolor=lightgrey;\n      }\n      subgraph cluster_2 {\n          ds02 [label=\"data_src\", shape=box, style=filled, fillcolor=cadetblue2];\n          inv02 [style=invisible]\n          ds02 -> stress02 [style=dashed];\n          stress02 -> inv02 [style=invis]\n          label=\"Averaging across bodies = On\";\n          style=filled;\n          fillcolor=lightgrey;\n      }\n  }\n\n"
      ]
    },
    {
      "cell_type": "markdown",
      "metadata": {},
      "source": [
        "## Averaging across bodies activated\nThe extraction of the stresses in the Z direction in DPF applies by default averaging\nacross bodies. Therefore, a simple workflow like the one shown below can be used\nin this case.\n\n"
      ]
    },
    {
      "cell_type": "code",
      "execution_count": null,
      "metadata": {
        "collapsed": false
      },
      "outputs": [],
      "source": [
        "def average_across_bodies(analysis):\n    # This function will extract the stresses in the Z direction (with the average\n    # across bodies property activated) and plot them.\n\n    # Create a model from the simulation results.\n    model = dpf.Model(analysis)\n    mesh = model.metadata.meshed_region\n\n    # We're interested in the last time set, so:\n    time_set = 3\n\n    # Extracting the stresses in the Z direction. By default, DPF already applies\n    # averaging across bodies when extracting the stresses.\n    stress_op = ops.result.stress_Z()\n    stress_op.inputs.connect(model)\n    stress_op.inputs.time_scoping.connect(time_set)\n    stress_op.inputs.requested_location.connect(dpf.locations.nodal)\n    stresses = stress_op.outputs.fields_container()\n\n    # Finding the maximum stress value\n    min_max = dpf.operators.min_max.min_max_fc()\n    min_max.inputs.fields_container.connect(stresses)\n    max_val = min_max.outputs.field_max()\n\n    mesh.plot(stresses, text=\"Averaged across bodies\")\n\n    return max(max_val.data)"
      ]
    },
    {
      "cell_type": "markdown",
      "metadata": {},
      "source": [
        "## Averaging across bodies deactivated\nTo extract the stresses without averaging across the bodies of the simulated\npart, the workflow is a bit more complicated. So, instead of being presented\nas a function, it will be broken into various parts with explanations of what\nis being done.\n\n"
      ]
    },
    {
      "cell_type": "markdown",
      "metadata": {},
      "source": [
        "First, we create a model from the simulation results and extract its mesh and\nstep informations.\n\n"
      ]
    },
    {
      "cell_type": "code",
      "execution_count": null,
      "metadata": {
        "collapsed": false
      },
      "outputs": [],
      "source": [
        "model = dpf.Model(analysis)\nmesh = model.metadata.meshed_region\ntime_freq = model.metadata.time_freq_support\ntime_sets = time_freq.time_frequencies.data.tolist()"
      ]
    },
    {
      "cell_type": "markdown",
      "metadata": {},
      "source": [
        "We need to split the meshes of the two bodies so we can then create separate\nscopings for each one of them. The 'mat' label is used to split the mesh by bodies.\n\n"
      ]
    },
    {
      "cell_type": "code",
      "execution_count": null,
      "metadata": {
        "collapsed": false
      },
      "outputs": [],
      "source": [
        "mesh_scop_op = ops.scoping.split_on_property_type(mesh=mesh, label1=\"mat\")\nmesh_scop_cont = mesh_scop_op.outputs.mesh_scoping()"
      ]
    },
    {
      "cell_type": "markdown",
      "metadata": {},
      "source": [
        "Then, as we have 3 different time steps, we need to create a ScopingsContainer\nthat contains the meshes of each one of these steps. We do so as follows:\n\n"
      ]
    },
    {
      "cell_type": "code",
      "execution_count": null,
      "metadata": {
        "collapsed": false
      },
      "outputs": [],
      "source": [
        "scop_cont = dpf.ScopingsContainer()\nscop_cont.add_label(\"body\")\nscop_cont.add_label(\"time\")\nfor tset in time_sets:\n    body = 1\n    for mesh_scop in mesh_scop_cont:\n        scop_cont.add_scoping(\n            scoping=mesh_scop, label_space={\"body\": body, \"time\": int(tset)}\n        )\n        body += 1\nprint(scop_cont)"
      ]
    },
    {
      "cell_type": "markdown",
      "metadata": {},
      "source": [
        "As we can see, we've got 6 different Scopings inside our ScopingsContainer, one for\neach body over each one of the three time steps. Let's now focus our analysis on the\nlast time set:\n\n"
      ]
    },
    {
      "cell_type": "code",
      "execution_count": null,
      "metadata": {
        "collapsed": false
      },
      "outputs": [],
      "source": [
        "time_set = 3"
      ]
    },
    {
      "cell_type": "markdown",
      "metadata": {},
      "source": [
        "Then, to retrieve the Z stresses without averaging across the two bodies, we can pass\na ScopingsContainer that contains their respective meshes as a parameter to the\nstress_Z operator. To be able to do that, we need a new ScopingsContainer that contains\nthe meshes of the two bodies in the desired time step.\n\n"
      ]
    },
    {
      "cell_type": "code",
      "execution_count": null,
      "metadata": {
        "collapsed": false
      },
      "outputs": [],
      "source": [
        "scop_list = scop_cont.get_scopings(label_space={\"time\": time_set})\nscopings = dpf.ScopingsContainer()\nscopings.add_label(\"body\")\nbody = 1\nfor scop in scop_list:\n    scopings.add_scoping(label_space={\"body\": body}, scoping=scop)\n    body += 1\nprint(scopings)"
      ]
    },
    {
      "cell_type": "markdown",
      "metadata": {},
      "source": [
        "We can see that, in this container, we only have two Scopings, one for each body\nin the last time step, as desired.\n\n"
      ]
    },
    {
      "cell_type": "markdown",
      "metadata": {},
      "source": [
        "Finally, we can extract the stresses in the Z direction.\n\n"
      ]
    },
    {
      "cell_type": "code",
      "execution_count": null,
      "metadata": {
        "collapsed": false
      },
      "outputs": [],
      "source": [
        "stress_op = ops.result.stress_Z()\nstress_op.inputs.connect(model)\nstress_op.inputs.time_scoping.connect(time_set)\nstress_op.inputs.mesh_scoping.connect(\n    scopings\n)  # This option deactivates averaging across bodies.\nstress_op.inputs.requested_location.connect(dpf.locations.nodal)\nstresses = stress_op.outputs.fields_container()\nprint(stresses)"
      ]
    },
    {
      "cell_type": "markdown",
      "metadata": {},
      "source": [
        "Additionally, we can find the maximum value of the stress field for comparison purposes.\n\n"
      ]
    },
    {
      "cell_type": "code",
      "execution_count": null,
      "metadata": {
        "collapsed": false
      },
      "outputs": [],
      "source": [
        "min_max = dpf.operators.min_max.min_max_fc()\nmin_max.inputs.fields_container.connect(stresses)\nmax_val = min_max.outputs.field_max()"
      ]
    },
    {
      "cell_type": "markdown",
      "metadata": {},
      "source": [
        "We can also define the workflow presented above as a function:\n\n"
      ]
    },
    {
      "cell_type": "code",
      "execution_count": null,
      "metadata": {
        "collapsed": false
      },
      "outputs": [],
      "source": [
        "def not_average_across_bodies(analysis):\n    # This function will extract the stresses in the Z direction (with the average\n    # across bodies option deactivated) and plot them.\n\n    model = dpf.Model(analysis)\n    mesh = model.metadata.meshed_region\n\n    time_freq = model.metadata.time_freq_support\n    time_sets = time_freq.time_frequencies.data.tolist()\n\n    mesh_scop_op = ops.scoping.split_on_property_type(mesh=mesh, label1=\"mat\")\n    mesh_scop_cont = mesh_scop_op.outputs.mesh_scoping()\n\n    scop_cont = dpf.ScopingsContainer()\n    scop_cont.add_label(\"body\")\n    scop_cont.add_label(\"time\")\n    for tset in time_sets:\n        body = 1\n        for mesh_scop in mesh_scop_cont:\n            scop_cont.add_scoping(\n                scoping=mesh_scop, label_space={\"body\": body, \"time\": int(tset)}\n            )\n            body += 1\n\n    time_set = 3\n\n    scop_list = scop_cont.get_scopings(label_space={\"time\": time_set})\n    scopings = dpf.ScopingsContainer()\n    scopings.add_label(\"body\")\n    body = 1\n    for scop in scop_list:\n        scopings.add_scoping(label_space={\"body\": body}, scoping=scop)\n        body += 1\n\n    stress_op = ops.result.stress_Z()\n    stress_op.inputs.connect(model)\n    stress_op.inputs.time_scoping.connect(time_set)\n    stress_op.inputs.mesh_scoping.connect(scopings)\n    stress_op.inputs.requested_location.connect(dpf.locations.nodal)\n    stresses = stress_op.outputs.fields_container()\n\n    min_max = dpf.operators.min_max.min_max_fc()\n    min_max.inputs.fields_container.connect(stresses)\n    max_val = min_max.outputs.field_max()\n\n    meshes.plot(stresses, text=\"Not averaged across bodies\")\n\n    return max(max_val.data)"
      ]
    },
    {
      "cell_type": "markdown",
      "metadata": {},
      "source": [
        "# Plotting the results\nFinally, let's plot the results to see how they compare. In the first image, we have\nthe stress distribution when the averaging across bodies options is activated, while\nin the second one it's deactivated.\n\n"
      ]
    },
    {
      "cell_type": "code",
      "execution_count": null,
      "metadata": {
        "collapsed": false
      },
      "outputs": [],
      "source": [
        "max_avg_on = average_across_bodies(analysis)\nmax_avg_off = not_average_across_bodies(analysis)"
      ]
    },
    {
      "cell_type": "code",
      "execution_count": null,
      "metadata": {
        "collapsed": false
      },
      "outputs": [],
      "source": [
        "diff = abs(max_avg_on - max_avg_off) / max_avg_off * 100\nprint(\n    \"Max stress when averaging across bodies is activated: {:.2f} Pa\".format(max_avg_on)\n)\nprint(\n    \"Max stress when averaging across bodies is deactivated: {:.2f} Pa\".format(\n        max_avg_off\n    )\n)\nprint(\n    \"The maximum stress value when averaging across bodies is ACTIVATED \\\nis {:.2f}% LOWER than when it is DEACTIVATED\".format(\n        diff\n    )\n)"
      ]
    }
  ],
  "metadata": {
    "kernelspec": {
      "display_name": "Python 3",
      "language": "python",
      "name": "python3"
    },
    "language_info": {
      "codemirror_mode": {
        "name": "ipython",
        "version": 3
      },
      "file_extension": ".py",
      "mimetype": "text/x-python",
      "name": "python",
      "nbconvert_exporter": "python",
      "pygments_lexer": "ipython3",
      "version": "3.9.13"
    }
  },
  "nbformat": 4,
  "nbformat_minor": 0
}