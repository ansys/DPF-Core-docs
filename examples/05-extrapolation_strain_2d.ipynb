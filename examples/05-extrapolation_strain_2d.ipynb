{
 "cells": [
  {
   "cell_type": "code",
   "execution_count": null,
   "metadata": {
    "collapsed": false,
    "jupyter": {
     "outputs_hidden": false
    }
   },
   "outputs": [],
   "source": [
    "%matplotlib inline"
   ]
  },
  {
   "cell_type": "markdown",
   "metadata": {},
   "source": [
    "\n",
    "\n",
    "# Extrapolation Method for strain result of 2D-element\n",
    "This example shows how to compute the nodal component elastic strain\n",
    "from Gaussian points (integration points) for 2D-element by using the\n",
    "method of extrapolation.\n",
    "\n",
    "Extrapolating results available at Gauss or quadrature points to nodal\n",
    "points for a field or fields container. The available elements are:\n",
    "\n",
    "* Linear quadrangle\n",
    "* Parabolic quadrangle\n",
    "* Linear hexagonal\n",
    "* Quadratic hexagonal\n",
    "* Linear tetrahedral\n",
    "* Quadratic tetrahedral\n",
    "\n",
    "1st step : Get the values at the data source's of integration points (this result\n",
    "file was generated from MAPDL with ``EREXS, NO``).\n",
    "\n",
    "2nd step: using operator of extrapolation to compute the nodal elastic strain.\n",
    "\n",
    "3rd step: Get the nodal elastic strain result from the data source.\n",
    "The analysis was computed by Ansys Mechanical APDL.\n",
    "\n",
    "4th step: Compare the results between nodal elastic strain from the data\n",
    "source and nodal strain computed by extrapolation method.\n"
   ]
  },
  {
   "cell_type": "code",
   "execution_count": null,
   "metadata": {
    "collapsed": false,
    "jupyter": {
     "outputs_hidden": false
    }
   },
   "outputs": [],
   "source": [
    "from ansys.dpf import core as dpf\n",
    "from ansys.dpf.core import examples\n",
    "from ansys.jupyterhub.manager import spawn_dpf, delete_pod"
   ]
  },
  {
   "cell_type": "markdown",
   "metadata": {},
   "source": [
    "Get the data source's analyse of integration points and data source's analyse reference\n",
    "\n"
   ]
  },
  {
   "cell_type": "code",
   "execution_count": null,
   "metadata": {
    "collapsed": false,
    "jupyter": {
     "outputs_hidden": false
    }
   },
   "outputs": [],
   "source": [
    "server, pod_name = spawn_dpf()\n",
    "local_datafile = examples.download_extrapolation_2d_result()\n",
    "server_file_paths = [dpf.upload_file_in_tmp_folder(local_datafile[\"file_integrated\"], server=server),\n",
    "                     dpf.upload_file_in_tmp_folder(local_datafile[\"file_ref\"], server=server)]\n",
    "                     \n",
    "# integration points (Gaussian points)\n",
    "data_integration_points = server_file_paths[0]\n",
    "data_sources_integration_points = dpf.DataSources(data_integration_points, server=server)\n",
    "\n",
    "# reference\n",
    "data_sources_ref = dpf.DataSources(server_file_paths[1], server=server)\n",
    "\n",
    "# get the mesh\n",
    "model = dpf.Model(data_integration_points, server=server)\n",
    "mesh = model.metadata.meshed_region"
   ]
  },
  {
   "cell_type": "markdown",
   "metadata": {},
   "source": [
    "# Extrapolation from integration points for elastic strain result\n",
    "In this example we compute nodal component elastic strain results from\n",
    "the elastic strain at the integration points  by using the ``gauss_to_node_fc``\n",
    "operator.\n",
    "\n"
   ]
  },
  {
   "cell_type": "code",
   "execution_count": null,
   "metadata": {
    "collapsed": false,
    "jupyter": {
     "outputs_hidden": false
    }
   },
   "outputs": [],
   "source": [
    "# Create elastic strain operator to get strain result of integration points\n",
    "strainop = dpf.operators.result.elastic_strain()\n",
    "strainop.inputs.data_sources.connect(data_sources_integration_points)\n",
    "strain = strainop.outputs.fields_container()"
   ]
  },
  {
   "cell_type": "markdown",
   "metadata": {},
   "source": [
    "## Nodal elastic strain result of integration points:\n",
    " The command ``ERESX,NO`` in Mechanical APDL is used to copy directly the\n",
    " gaussian (integration) points results to the nodes, instead of the results\n",
    " at nodes or elements (which are interpolation of results at a few gauss points).\n",
    " The following plot shows the nodal values which are the averaged values\n",
    " of elastic strain at each node. The value shown at the node is the\n",
    " average of the elastic strains from the gaussian points of each element\n",
    " that it belongs to.\n",
    "\n"
   ]
  },
  {
   "cell_type": "code",
   "execution_count": null,
   "metadata": {
    "collapsed": false,
    "jupyter": {
     "outputs_hidden": false
    }
   },
   "outputs": [],
   "source": [
    "# plot\n",
    "strain_nodal_op = dpf.operators.averaging.elemental_nodal_to_nodal_fc()\n",
    "strain_nodal_op.inputs.fields_container.connect(strain)\n",
    "mesh.plot(strain_nodal_op.outputs.fields_container())"
   ]
  },
  {
   "cell_type": "markdown",
   "metadata": {},
   "source": [
    "Create the ``gauss_to_node_fc`` operator and compute nodal component\n",
    "elastic strain by applying the extrapolation method.\n",
    "\n"
   ]
  },
  {
   "cell_type": "code",
   "execution_count": null,
   "metadata": {
    "collapsed": false,
    "jupyter": {
     "outputs_hidden": false
    }
   },
   "outputs": [],
   "source": [
    "ex_strain = dpf.operators.averaging.gauss_to_node_fc()\n",
    "# connect mesh\n",
    "ex_strain.inputs.mesh.connect(mesh)\n",
    "# connect fields container elastic strain\n",
    "ex_strain.inputs.fields_container.connect(strain)\n",
    "# get output\n",
    "fex = ex_strain.outputs.fields_container()"
   ]
  },
  {
   "cell_type": "markdown",
   "metadata": {},
   "source": [
    "# Elastic strain result of reference ANSYS Workbench\n",
    "\n"
   ]
  },
  {
   "cell_type": "code",
   "execution_count": null,
   "metadata": {
    "collapsed": false,
    "jupyter": {
     "outputs_hidden": false
    }
   },
   "outputs": [],
   "source": [
    "# Strain from file dataSourceref\n",
    "strainop_ref = dpf.operators.result.elastic_strain()\n",
    "strainop_ref.inputs.data_sources.connect(data_sources_ref)\n",
    "strain_ref = strainop_ref.outputs.fields_container()"
   ]
  },
  {
   "cell_type": "markdown",
   "metadata": {},
   "source": [
    "# Plot\n",
    "Showing plots of Extrapolation's elastic strain result and reference's elastic strain result\n",
    "\n"
   ]
  },
  {
   "cell_type": "code",
   "execution_count": null,
   "metadata": {
    "collapsed": false,
    "jupyter": {
     "outputs_hidden": false
    }
   },
   "outputs": [],
   "source": [
    "# extrapolation\n",
    "fex_nodal_op = dpf.operators.averaging.elemental_nodal_to_nodal_fc()\n",
    "fex_nodal_op.inputs.fields_container.connect(fex)\n",
    "mesh.plot(fex_nodal_op.outputs.fields_container())\n",
    "# reference\n",
    "strain_ref_nodal_op = dpf.operators.averaging.elemental_nodal_to_nodal_fc()\n",
    "strain_ref_nodal_op.inputs.fields_container.connect(strain_ref)\n",
    "mesh.plot(strain_ref_nodal_op.outputs.fields_container())"
   ]
  },
  {
   "cell_type": "markdown",
   "metadata": {},
   "source": [
    "# Comparison\n",
    "Compare the elastic strain result computed by extrapolation and reference's result.\n",
    "Check if two fields container are identical.\n",
    "Maximum tolerance gap between to compared values: 1e-3.\n",
    "Smallest value which will be considered during the comparison\n",
    "step : all the ``abs(values)`` in the field less than 1e-14 are considered null\n",
    "\n"
   ]
  },
  {
   "cell_type": "code",
   "execution_count": null,
   "metadata": {
    "collapsed": false,
    "jupyter": {
     "outputs_hidden": false
    }
   },
   "outputs": [],
   "source": [
    "# operator AreFieldsIdentical_fc\n",
    "op = dpf.operators.logic.identical_fc()\n",
    "op.inputs.fields_containerA.connect(fex)\n",
    "op.inputs.fields_containerB.connect(strain_ref)\n",
    "op.inputs.tolerance.connect(1.0e-14)\n",
    "op.inputs.small_value.connect(0.001)\n",
    "op.outputs.boolean()"
   ]
  },
  {
   "cell_type": "code",
   "execution_count": null,
   "metadata": {},
   "outputs": [],
   "source": [
    "delete_pod(pod_name)"
   ]
  },
  {
   "cell_type": "code",
   "execution_count": null,
   "metadata": {},
   "outputs": [],
   "source": []
  }
 ],
 "metadata": {
  "kernelspec": {
   "display_name": "Python 3 (ipykernel)",
   "language": "python",
   "name": "python3"
  },
  "language_info": {
   "codemirror_mode": {
    "name": "ipython",
    "version": 3
   },
   "file_extension": ".py",
   "mimetype": "text/x-python",
   "name": "python",
   "nbconvert_exporter": "python",
   "pygments_lexer": "ipython3",
   "version": "3.9.7"
  }
 },
 "nbformat": 4,
 "nbformat_minor": 4
}
