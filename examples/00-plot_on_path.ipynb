{
 "cells": [
  {
   "cell_type": "code",
   "execution_count": null,
   "metadata": {
    "collapsed": false,
    "jupyter": {
     "outputs_hidden": false
    }
   },
   "outputs": [],
   "source": [
    "%matplotlib inline"
   ]
  },
  {
   "cell_type": "markdown",
   "metadata": {},
   "source": [
    "\n",
    "\n",
    "# Plot results on a specific path\n",
    "This example shows how to get a result mapped over a specific path,\n",
    "and how to plot it.\n"
   ]
  },
  {
   "cell_type": "code",
   "execution_count": null,
   "metadata": {
    "collapsed": false,
    "jupyter": {
     "outputs_hidden": false
    }
   },
   "outputs": [],
   "source": [
    "from ansys.dpf import core as dpf\n",
    "from ansys.dpf.core import examples\n",
    "from ansys.dpf.core import operators as ops\n",
    "from ansys.dpf.core.plotter import DpfPlotter\n"
   ]
  },
  {
   "cell_type": "markdown",
   "metadata": {},
   "source": [
    "# Path plotting\n",
    "We will use an :class:`ansys.dpf.core.plotter.DpfPlotter` to plot a mapped result over\n",
    "a defined path of coordinates.\n",
    "\n"
   ]
  },
  {
   "cell_type": "code",
   "execution_count": null,
   "metadata": {
    "collapsed": false,
    "jupyter": {
     "outputs_hidden": false
    }
   },
   "outputs": [],
   "source": [
    "# First, we need to create the model, request its mesh and its\n",
    "# displacement data\n",
    "\n",
    "server_file_path = dpf.upload_file_in_tmp_folder(examples.static_rst)\n",
    "model = dpf.Model(server_file_path)\n",
    "mesh = model.metadata.meshed_region\n",
    "stress_fc = model.results.stress().eqv().outputs.fields_container()"
   ]
  },
  {
   "cell_type": "markdown",
   "metadata": {},
   "source": [
    "Then, we create a coordinates field to map on\n",
    "\n"
   ]
  },
  {
   "cell_type": "code",
   "execution_count": null,
   "metadata": {
    "collapsed": false,
    "jupyter": {
     "outputs_hidden": false
    }
   },
   "outputs": [],
   "source": [
    "coordinates = [[0.024, 0.03, 0.003]]\n",
    "for i in range(1, 51):\n",
    "    coord_copy = coordinates[0].copy()\n",
    "    coord_copy[1] = coord_copy[0] + i * 0.001\n",
    "    coordinates.append(coord_copy)\n",
    "field_coord = dpf.fields_factory.create_3d_vector_field(len(coordinates))\n",
    "field_coord.data = coordinates\n",
    "field_coord.scoping.ids = list(range(1, len(coordinates) + 1))"
   ]
  },
  {
   "cell_type": "markdown",
   "metadata": {},
   "source": [
    "Let's now compute the mapped data using the mapping operator\n",
    "\n"
   ]
  },
  {
   "cell_type": "code",
   "execution_count": null,
   "metadata": {
    "collapsed": false,
    "jupyter": {
     "outputs_hidden": false
    }
   },
   "outputs": [],
   "source": [
    "mapping_operator = ops.mapping.on_coordinates(\n",
    "    fields_container=stress_fc,\n",
    "    coordinates=field_coord,\n",
    "    create_support=True,\n",
    "    mesh=mesh)\n",
    "fields_mapped = mapping_operator.outputs.fields_container()"
   ]
  },
  {
   "cell_type": "markdown",
   "metadata": {},
   "source": [
    "Here, we request the mapped field data and its mesh\n",
    "\n"
   ]
  },
  {
   "cell_type": "code",
   "execution_count": null,
   "metadata": {
    "collapsed": false,
    "jupyter": {
     "outputs_hidden": false
    }
   },
   "outputs": [],
   "source": [
    "field_m = fields_mapped[0]\n",
    "mesh_m = field_m.meshed_region"
   ]
  },
  {
   "cell_type": "markdown",
   "metadata": {},
   "source": [
    "Now we create the plotter and add fields and meshes\n",
    "\n"
   ]
  },
  {
   "cell_type": "code",
   "execution_count": null,
   "metadata": {
    "collapsed": false,
    "jupyter": {
     "outputs_hidden": false
    }
   },
   "outputs": [],
   "source": [
    "pl = DpfPlotter()\n",
    "\n",
    "pl.add_field(field_m, mesh_m)\n",
    "pl.add_mesh(mesh, style=\"surface\", show_edges=True,\n",
    "            color=\"w\", opacity=0.3)\n",
    "\n",
    "# Finally we plot the result\n",
    "pl.show_figure(show_axes=True)"
   ]
  }
 ],
 "metadata": {
  "kernelspec": {
   "display_name": "Python 3 (ipykernel)",
   "language": "python",
   "name": "python3"
  },
  "language_info": {
   "codemirror_mode": {
    "name": "ipython",
    "version": 3
   },
   "file_extension": ".py",
   "mimetype": "text/x-python",
   "name": "python",
   "nbconvert_exporter": "python",
   "pygments_lexer": "ipython3",
   "version": "3.9.7"
  }
 },
 "nbformat": 4,
 "nbformat_minor": 4
}
