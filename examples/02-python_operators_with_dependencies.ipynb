{
 "cells": [
  {
   "cell_type": "code",
   "execution_count": null,
   "metadata": {
    "collapsed": false,
    "jupyter": {
     "outputs_hidden": false
    }
   },
   "outputs": [],
   "source": [
    "%matplotlib inline"
   ]
  },
  {
   "cell_type": "markdown",
   "metadata": {},
   "source": [
    "\n",
    "\n",
    "# Write user defined Operators having third party dependencies\n",
    "This example shows how advanced DPF python plugins of Operators can be created as standard python packages\n",
    "and how third party python modules dependencies can be added to the package.\n",
    "\n",
    "This plugin will hold an Operator which implementation depends on a third party python module named\n",
    "`gltf <https://pypi.org/project/gltf/>`_. This Operator takes a path, a mesh and 3D vector field in input\n",
    "and exports the mesh and the norm of the input field in a gltf file located at the given path.\n"
   ]
  },
  {
   "cell_type": "markdown",
   "metadata": {},
   "source": [
    "## Write Operator\n",
    "For this more advanced use case, a python package is created.\n",
    "Each Operator implementation derives from `ansys.dpf.core.custom_operator.CustomOperatorBase`\n",
    "and a call to `ansys.dpf.core.custom_operator.record_operator` records the Operators of the plugin.\n",
    "See the complete package in:\n",
    "\n"
   ]
  },
  {
   "cell_type": "markdown",
   "metadata": {},
   "source": [
    "## Load Plugin\n",
    "Once a python plugin is written as a package, it can be loaded with the function\n",
    ":py:func:`ansys.dpf.core.core.load_library` taking as first argument the path to the directory of the plugin,\n",
    "as second argument ``py_`` + any name identifying the plugin,\n",
    "and as last argument the function's name exposed in the ``__init__.py`` file and used to record operators.\n",
    "\n"
   ]
  },
  {
   "cell_type": "code",
   "execution_count": 4,
   "metadata": {
    "collapsed": false,
    "jupyter": {
     "outputs_hidden": false
    }
   },
   "outputs": [
    {
     "name": "stderr",
     "output_type": "stream",
     "text": [
      "Uploading...: 12057 of 12057 KB 100%|#########################################|\n"
     ]
    },
    {
     "data": {
      "text/plain": [
       "'py_dpf_gltf successfully loaded'"
      ]
     },
     "execution_count": 4,
     "metadata": {},
     "output_type": "execute_result"
    }
   ],
   "source": [
    "import os\n",
    "from ansys.dpf import core as dpf\n",
    "from ansys.dpf.core import examples\n",
    "\n",
    "tmp = dpf.make_tmp_dir_server()\n",
    "dpf.upload_files_in_folder(\n",
    "    dpf.path_utilities.join(tmp, \"plugins\", \"gltf_plugin\"),\n",
    "    dpf.path_utilities.join(os.getcwd(), \"..\", \"plugins\", \"gltf_plugin\")\n",
    ")\n",
    "dpf.upload_file(\n",
    "    dpf.path_utilities.join(os.getcwd(), \"..\", \"plugins\", \"gltf_plugin.xml\"),\n",
    "    dpf.path_utilities.join(tmp, \"plugins\", \"gltf_plugin.xml\")\n",
    ")\n",
    "\n",
    "dpf.load_library(\n",
    "    dpf.path_utilities.join(tmp, \"plugins\", \"gltf_plugin\"),\n",
    "    \"py_dpf_gltf\",\n",
    "    \"load_operators\")"
   ]
  },
  {
   "cell_type": "markdown",
   "metadata": {},
   "source": [
    "Once the Plugin loaded, Operators recorded in the plugin can be used with:\n",
    "\n"
   ]
  },
  {
   "cell_type": "code",
   "execution_count": 5,
   "metadata": {
    "collapsed": false,
    "jupyter": {
     "outputs_hidden": false
    }
   },
   "outputs": [],
   "source": [
    "new_operator = dpf.Operator(\"gltf_export\")"
   ]
  },
  {
   "cell_type": "markdown",
   "metadata": {},
   "source": [
    "This new Operator ``gltf_export`` requires a triangle surface mesh, a displacement Field on this surface mesh\n",
    "as well as an export path as inputs.\n",
    "To demo this new Operator, a `ansys.dpf.core.model.Model` on a simple file is created,\n",
    "`ansys.dpf.core.operators.mesh.tri_mesh_skin` Operator is used to extract the surface of the mesh in triangles\n",
    "elements.\n",
    "\n"
   ]
  },
  {
   "cell_type": "markdown",
   "metadata": {},
   "source": [
    "## Use the Custom Operator\n",
    "\n"
   ]
  },
  {
   "cell_type": "code",
   "execution_count": 6,
   "metadata": {
    "collapsed": false,
    "jupyter": {
     "outputs_hidden": false
    }
   },
   "outputs": [
    {
     "name": "stdout",
     "output_type": "stream",
     "text": [
      "operator ran successfully\n"
     ]
    }
   ],
   "source": [
    "import tempfile\n",
    "import os\n",
    "\n",
    "model = dpf.Model(dpf.upload_file_in_tmp_folder(examples.static_rst))\n",
    "\n",
    "mesh = model.metadata.meshed_region\n",
    "skin_mesh = dpf.operators.mesh.tri_mesh_skin(mesh=mesh)\n",
    "\n",
    "displacement = model.results.displacement()\n",
    "displacement.inputs.mesh_scoping(skin_mesh)\n",
    "displacement.inputs.mesh(skin_mesh)\n",
    "new_operator.inputs.path(os.path.join(tmp, \"out\"))\n",
    "new_operator.inputs.mesh(skin_mesh)\n",
    "new_operator.inputs.field(displacement.outputs.fields_container()[0])\n",
    "new_operator.run()\n",
    "\n",
    "print(\"operator ran successfully\")"
   ]
  },
  {
   "cell_type": "code",
   "execution_count": 7,
   "metadata": {},
   "outputs": [
    {
     "name": "stderr",
     "output_type": "stream",
     "text": [
      "Downloading...: 2 of 2 KB 100%|###############################################|\n"
     ]
    }
   ],
   "source": [
    "dpf.download_file(os.path.join(tmp, \"out.glb\"), os.path.join(os.getcwd(), \"out.glb\"))"
   ]
  },
  {
   "cell_type": "code",
   "execution_count": null,
   "metadata": {},
   "outputs": [],
   "source": []
  }
 ],
 "metadata": {
  "kernelspec": {
   "display_name": "Python 3 (ipykernel)",
   "language": "python",
   "name": "python3"
  },
  "language_info": {
   "codemirror_mode": {
    "name": "ipython",
    "version": 3
   },
   "file_extension": ".py",
   "mimetype": "text/x-python",
   "name": "python",
   "nbconvert_exporter": "python",
   "pygments_lexer": "ipython3",
   "version": "3.9.12"
  }
 },
 "nbformat": 4,
 "nbformat_minor": 4
}
