{
 "cells": [
  {
   "cell_type": "code",
   "execution_count": null,
   "metadata": {
    "collapsed": false,
    "jupyter": {
     "outputs_hidden": false
    }
   },
   "outputs": [],
   "source": [
    "%matplotlib inline"
   ]
  },
  {
   "cell_type": "markdown",
   "metadata": {},
   "source": [
    "\n",
    "\n",
    "# Extrapolation Method for stress result of 3D-element\n",
    "This example shows how to compute the nodal components stress from\n",
    "Gaussian points (integration points) for 3D-element by using the method\n",
    "of extrapolation.\n",
    "\n",
    "Extrapolating results available at Gauss or quadrature points to nodal\n",
    "points for a field or fields container. The available elements are:\n",
    "\n",
    "* Linear quadrangle\n",
    "* Parabolic quadrangle\n",
    "* Linear hexagonal\n",
    "* Quadratic hexagonal\n",
    "* Linear tetrahedral\n",
    "* Quadratic tetrahedral\n",
    "\n",
    "1st step : Get the data source's solution from the integration points (this\n",
    "result file was generated with the MAPDL option ``EREXS, NO``).\n",
    "\n",
    "2nd step: Use operator of extrapolation to compute the nodal stress.\n",
    "\n",
    "3rd step: Get nodal stress result from data source's analysis reference.\n",
    "The analysis was computed by Ansys Mechanical APDL.\n",
    "\n",
    "4th step: Compare the results between nodal stress from data source\n",
    "reference and nodal stress computed by the extrapolation method.\n"
   ]
  },
  {
   "cell_type": "code",
   "execution_count": null,
   "metadata": {
    "collapsed": false,
    "jupyter": {
     "outputs_hidden": false
    }
   },
   "outputs": [],
   "source": [
    "from ansys.dpf import core as dpf\n",
    "from ansys.dpf.core import examples\n",
    "from ansys.jupyterhub.manager import spawn_dpf, delete_pod"
   ]
  },
  {
   "cell_type": "markdown",
   "metadata": {},
   "source": [
    "Get the data source's analyse of integration points and data source's analyse reference\n",
    "\n"
   ]
  },
  {
   "cell_type": "code",
   "execution_count": null,
   "metadata": {
    "collapsed": false,
    "jupyter": {
     "outputs_hidden": false
    }
   },
   "outputs": [],
   "source": [
    "server, pod_name = spawn_dpf()\n",
    "local_datafile = examples.download_extrapolation_3d_result()\n",
    "server_file_paths = [dpf.upload_file_in_tmp_folder(local_datafile[\"file_integrated\"], server=server),\n",
    "                     dpf.upload_file_in_tmp_folder(local_datafile[\"file_ref\"], server=server)]\n",
    "\n",
    "# integration points (Gaussian points)\n",
    "data_integration_points = server_file_paths[0]\n",
    "data_sources_integration_points = dpf.DataSources(data_integration_points, server=server)\n",
    "\n",
    "# reference\n",
    "data_sources_ref = dpf.DataSources(server_file_paths[1], server=server)\n",
    "\n",
    "# get the mesh\n",
    "model = dpf.Model(data_integration_points, server=server)\n",
    "mesh = model.metadata.meshed_region\n",
    "\n",
    "# operator instantiation scoping\n",
    "op_scoping = dpf.operators.scoping.split_on_property_type()  # operator instantiation\n",
    "op_scoping.inputs.mesh.connect(mesh)\n",
    "op_scoping.inputs.requested_location.connect(\"Elemental\")\n",
    "mesh_scoping = op_scoping.outputs.mesh_scoping()"
   ]
  },
  {
   "cell_type": "markdown",
   "metadata": {},
   "source": [
    "# Extrapolation from integration points for stress result\n",
    "In this example we compute nodal component stress result from\n",
    "integration points stress by using the ``gauss_to_node_fc`` operator.\n",
    "\n"
   ]
  },
  {
   "cell_type": "code",
   "execution_count": null,
   "metadata": {
    "collapsed": false,
    "jupyter": {
     "outputs_hidden": false
    }
   },
   "outputs": [],
   "source": [
    "# Create stress operator to get stress result of integration points\n",
    "stressop = dpf.operators.result.stress()\n",
    "stressop.inputs.data_sources.connect(data_sources_integration_points)\n",
    "stress = stressop.outputs.fields_container()"
   ]
  },
  {
   "cell_type": "markdown",
   "metadata": {},
   "source": [
    "## Nodal stress result of integration points:\n",
    " The command ``ERESX,NO`` in Mechanical APDL is used to copy directly the\n",
    " gaussian (integration) points results to the nodes, instead of the\n",
    " results at nodes or elements (which are interpolation of results at a\n",
    " few gauss points).\n",
    " The following plot shows the nodal values which are the averaged values\n",
    " of stresses at each node. The value shown at the node is the average of\n",
    " the stresses from the gaussian points of each element that it belongs to.\n",
    "\n"
   ]
  },
  {
   "cell_type": "code",
   "execution_count": null,
   "metadata": {
    "collapsed": false,
    "jupyter": {
     "outputs_hidden": false
    }
   },
   "outputs": [],
   "source": [
    "# plot\n",
    "stress_nodal_op = dpf.operators.averaging.elemental_nodal_to_nodal_fc()\n",
    "stress_nodal_op.inputs.fields_container.connect(stress)\n",
    "mesh.plot(stress_nodal_op.outputs.fields_container())"
   ]
  },
  {
   "cell_type": "markdown",
   "metadata": {},
   "source": [
    "Create operator ``gauss_to_node_fc`` and compute nodal component stress\n",
    "by applying the extrapolation method.\n",
    "\n"
   ]
  },
  {
   "cell_type": "code",
   "execution_count": null,
   "metadata": {
    "collapsed": false,
    "jupyter": {
     "outputs_hidden": false
    }
   },
   "outputs": [],
   "source": [
    "ex_stress = dpf.operators.averaging.gauss_to_node_fc()\n",
    "# connect mesh\n",
    "ex_stress.inputs.mesh.connect(mesh)\n",
    "# connect fields container stress\n",
    "ex_stress.inputs.fields_container.connect(stress)\n",
    "# get output\n",
    "fex = ex_stress.outputs.fields_container()"
   ]
  },
  {
   "cell_type": "markdown",
   "metadata": {},
   "source": [
    "# Stress result of reference ANSYS Workbench\n",
    "\n"
   ]
  },
  {
   "cell_type": "code",
   "execution_count": null,
   "metadata": {
    "collapsed": false,
    "jupyter": {
     "outputs_hidden": false
    }
   },
   "outputs": [],
   "source": [
    "# Stress from file dataSourceref\n",
    "stressop_ref = dpf.operators.result.stress()\n",
    "stressop_ref.inputs.data_sources.connect(data_sources_ref)\n",
    "stressop_ref.inputs.mesh_scoping.connect(mesh_scoping)\n",
    "stress_ref = stressop_ref.outputs.fields_container()"
   ]
  },
  {
   "cell_type": "markdown",
   "metadata": {},
   "source": [
    "# Plot\n",
    "Showing plots of Extrapolation's stress result and reference's stress result\n",
    "\n"
   ]
  },
  {
   "cell_type": "code",
   "execution_count": null,
   "metadata": {
    "collapsed": false,
    "jupyter": {
     "outputs_hidden": false
    }
   },
   "outputs": [],
   "source": [
    "# extrapolation\n",
    "fex_nodal_op = dpf.operators.averaging.elemental_nodal_to_nodal_fc()\n",
    "fex_nodal_op.inputs.fields_container.connect(fex)\n",
    "mesh.plot(fex_nodal_op.outputs.fields_container())\n",
    "# reference\n",
    "stress_ref_nodal_op = dpf.operators.averaging.elemental_nodal_to_nodal_fc()\n",
    "stress_ref_nodal_op.inputs.fields_container.connect(stress_ref)\n",
    "mesh.plot(stress_ref_nodal_op.outputs.fields_container())"
   ]
  },
  {
   "cell_type": "markdown",
   "metadata": {},
   "source": [
    "# Comparison\n",
    "Compare the stress result computed by extrapolation and reference's result.\n",
    "Check if two fields container are identical.\n",
    "Maximum tolerance gap between to compared values: 1e-2.\n",
    "Smallest value which will be considered during the comparison\n",
    "step : all the ``abs(values)`` in field less than 1e-8 is considered as null\n",
    "\n"
   ]
  },
  {
   "cell_type": "code",
   "execution_count": null,
   "metadata": {
    "collapsed": false,
    "jupyter": {
     "outputs_hidden": false
    }
   },
   "outputs": [],
   "source": [
    "# operator AreFieldsIdentical_fc\n",
    "op = dpf.operators.logic.identical_fc()\n",
    "op.inputs.fields_containerA.connect(fex)\n",
    "op.inputs.fields_containerB.connect(stress_ref)\n",
    "op.inputs.tolerance.connect(1.0e-8)\n",
    "op.inputs.small_value.connect(0.01)\n",
    "op.outputs.boolean()"
   ]
  },
  {
   "cell_type": "code",
   "execution_count": null,
   "metadata": {},
   "outputs": [],
   "source": [
    "delete_pod(pod_name)"
   ]
  },
  {
   "cell_type": "code",
   "execution_count": null,
   "metadata": {},
   "outputs": [],
   "source": []
  }
 ],
 "metadata": {
  "kernelspec": {
   "display_name": "Python 3 (ipykernel)",
   "language": "python",
   "name": "python3"
  },
  "language_info": {
   "codemirror_mode": {
    "name": "ipython",
    "version": 3
   },
   "file_extension": ".py",
   "mimetype": "text/x-python",
   "name": "python",
   "nbconvert_exporter": "python",
   "pygments_lexer": "ipython3",
   "version": "3.9.7"
  }
 },
 "nbformat": 4,
 "nbformat_minor": 4
}
