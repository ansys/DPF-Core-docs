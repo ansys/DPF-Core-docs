{
 "cells": [
  {
   "cell_type": "code",
   "execution_count": null,
   "metadata": {
    "collapsed": false,
    "jupyter": {
     "outputs_hidden": false
    }
   },
   "outputs": [],
   "source": [
    "%matplotlib inline"
   ]
  },
  {
   "cell_type": "markdown",
   "metadata": {},
   "source": [
    "\n",
    "\n",
    "# Choose a Time Scoping for a Transient Analysis\n",
    "This example shows how to use a model's results to easily\n",
    "choose a time scoping.\n"
   ]
  },
  {
   "cell_type": "code",
   "execution_count": null,
   "metadata": {
    "collapsed": false,
    "jupyter": {
     "outputs_hidden": false
    }
   },
   "outputs": [],
   "source": [
    "import matplotlib.pyplot as plt\n",
    "\n",
    "from ansys.dpf import core as dpf\n",
    "from ansys.dpf.core import examples\n",
    "from ansys.dpf.core import operators as ops\n",
    "from ansys.jupyterhub.manager import spawn_dpf, delete_pod"
   ]
  },
  {
   "cell_type": "markdown",
   "metadata": {},
   "source": [
    "Create the model and display the state of the result. This transient result\n",
    "file contains several individual results, each at a different times.\n",
    "\n"
   ]
  },
  {
   "cell_type": "code",
   "execution_count": null,
   "metadata": {
    "collapsed": false,
    "jupyter": {
     "outputs_hidden": false
    }
   },
   "outputs": [],
   "source": [
    "server, pod_name = spawn_dpf()\n",
    "server_file_path = dpf.upload_file_in_tmp_folder(examples.msup_transient, server=server)\n",
    "model = dpf.Model(server_file_path)\n",
    "print(model)"
   ]
  },
  {
   "cell_type": "markdown",
   "metadata": {},
   "source": [
    "# Obtain Minimum and Maximum Displacements at All Times\n",
    "Create a displacement operator and set its time scoping request to\n",
    "the entire time frequency support:\n",
    "\n"
   ]
  },
  {
   "cell_type": "code",
   "execution_count": null,
   "metadata": {
    "collapsed": false,
    "jupyter": {
     "outputs_hidden": false
    }
   },
   "outputs": [],
   "source": [
    "disp = model.results.displacement\n",
    "disp_op = disp.on_all_time_freqs()\n",
    "\n",
    "# Chain the displacement operator with norm and min_max operators.\n",
    "min_max_op = ops.min_max.min_max_fc(ops.math.norm_fc(disp_op))\n",
    "\n",
    "min_disp = min_max_op.outputs.field_min()\n",
    "max_disp = min_max_op.outputs.field_max()\n",
    "print(max_disp.data)"
   ]
  },
  {
   "cell_type": "markdown",
   "metadata": {},
   "source": [
    "Plot the minimum and maximum displacements over time:\n",
    "\n"
   ]
  },
  {
   "cell_type": "code",
   "execution_count": null,
   "metadata": {
    "collapsed": false,
    "jupyter": {
     "outputs_hidden": false
    }
   },
   "outputs": [],
   "source": [
    "tdata = model.metadata.time_freq_support.time_frequencies.data\n",
    "plt.plot(tdata, max_disp.data, \"r\", label=\"Max\")\n",
    "plt.plot(tdata, min_disp.data, \"b\", label=\"Min\")\n",
    "plt.xlabel(\"Time (s)\")\n",
    "plt.ylabel(\"Displacement (m)\")\n",
    "plt.legend()\n",
    "plt.show()"
   ]
  },
  {
   "cell_type": "markdown",
   "metadata": {},
   "source": [
    "# Use Time Extrapolation\n",
    "A local maximum can be seen on the plot between 0.05 and 0.075 seconds.\n",
    "Displacement will be evaluated every 0.0005s in this range\n",
    "to draw a nicer plot on this range.\n",
    "\n"
   ]
  },
  {
   "cell_type": "code",
   "execution_count": null,
   "metadata": {
    "collapsed": false,
    "jupyter": {
     "outputs_hidden": false
    }
   },
   "outputs": [],
   "source": [
    "offset = 0.0005\n",
    "time_scoping = [0.05 + offset * i for i in range(0, int((0.08 - 0.05) / offset))]\n",
    "print(time_scoping)"
   ]
  },
  {
   "cell_type": "markdown",
   "metadata": {},
   "source": [
    "Create a displacement operator and set its time scoping request:\n",
    "\n"
   ]
  },
  {
   "cell_type": "code",
   "execution_count": null,
   "metadata": {
    "collapsed": false,
    "jupyter": {
     "outputs_hidden": false
    }
   },
   "outputs": [],
   "source": [
    "disp = model.results.displacement\n",
    "disp_op = disp.on_time_scoping(time_scoping)()\n",
    "\n",
    "# Chain the displacement operator with norm and min_max operators.\n",
    "min_max_op = ops.min_max.min_max_fc(ops.math.norm_fc(disp_op))\n",
    "\n",
    "min_disp = min_max_op.outputs.field_min()\n",
    "max_disp = min_max_op.outputs.field_max()\n",
    "print(max_disp.data)"
   ]
  },
  {
   "cell_type": "markdown",
   "metadata": {},
   "source": [
    "Plot the minimum and maximum displacements over time:\n",
    "\n"
   ]
  },
  {
   "cell_type": "code",
   "execution_count": null,
   "metadata": {
    "collapsed": false,
    "jupyter": {
     "outputs_hidden": false
    }
   },
   "outputs": [],
   "source": [
    "plt.plot(time_scoping, max_disp.data, \"rx\", label=\"Max\")\n",
    "plt.xlabel(\"Time (s)\")\n",
    "plt.ylabel(\"Displacement (m)\")\n",
    "plt.legend()\n",
    "plt.show()"
   ]
  },
  {
   "cell_type": "code",
   "execution_count": null,
   "metadata": {},
   "outputs": [],
   "source": [
    "delete_pod(pod_name)"
   ]
  },
  {
   "cell_type": "code",
   "execution_count": null,
   "metadata": {},
   "outputs": [],
   "source": []
  }
 ],
 "metadata": {
  "kernelspec": {
   "display_name": "Python 3 (ipykernel)",
   "language": "python",
   "name": "python3"
  },
  "language_info": {
   "codemirror_mode": {
    "name": "ipython",
    "version": 3
   },
   "file_extension": ".py",
   "mimetype": "text/x-python",
   "name": "python",
   "nbconvert_exporter": "python",
   "pygments_lexer": "ipython3",
   "version": "3.9.7"
  }
 },
 "nbformat": 4,
 "nbformat_minor": 4
}
