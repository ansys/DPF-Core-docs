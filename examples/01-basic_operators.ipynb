{
 "cells": [
  {
   "cell_type": "code",
   "execution_count": null,
   "metadata": {
    "collapsed": false,
    "jupyter": {
     "outputs_hidden": false
    }
   },
   "outputs": [],
   "source": [
    "%matplotlib inline"
   ]
  },
  {
   "cell_type": "markdown",
   "metadata": {},
   "source": [
    "\n",
    "\n",
    "# Operators Overview\n",
    "\n",
    "In DPF, operators provide the primary method for interacting with and extracting\n",
    "results.  Within DPF-Core, operators are directly exposed with\n",
    "the ``Operators`` class as well as wrapped within several other\n",
    "convenience classes.\n",
    "\n",
    "For a list of all operators, see `ref_dpf_operators_reference`.\n",
    "\n",
    "This example demonstrates how to work directly with operators and\n",
    "compares this method to a wrapped approach.\n",
    "\n",
    "Import the necessary modules:\n"
   ]
  },
  {
   "cell_type": "code",
   "execution_count": null,
   "metadata": {
    "collapsed": false,
    "jupyter": {
     "outputs_hidden": false
    }
   },
   "outputs": [],
   "source": [
    "from ansys.dpf import core as dpf\n",
    "from ansys.dpf.core import examples\n",
    "from ansys.jupyterhub.manager import spawn_dpf, delete_pod"
   ]
  },
  {
   "cell_type": "markdown",
   "metadata": {},
   "source": [
    "Create a model object to establish a connection with an\n",
    "example result file:\n",
    "\n"
   ]
  },
  {
   "cell_type": "code",
   "execution_count": null,
   "metadata": {
    "collapsed": false,
    "jupyter": {
     "outputs_hidden": false
    }
   },
   "outputs": [],
   "source": [
    "server, pod_name = spawn_dpf()\n",
    "server_file_path = dpf.upload_file_in_tmp_folder(examples.static_rst, server=server)\n",
    "model = dpf.Model(server_file_path)\n",
    "print(model)"
   ]
  },
  {
   "cell_type": "markdown",
   "metadata": {},
   "source": [
    "Next, create a raw displacement operator ``\"U\"``.  Each operator\n",
    "contains ``input`` and ``output`` pins that can be connected to\n",
    "various sources to include other operators.  This allows operators\n",
    "to be \"chained\" to allow for highly efficient operations.\n",
    "\n",
    "To print out the available inputs and outputs of the\n",
    "displacement operator:\n",
    "\n"
   ]
  },
  {
   "cell_type": "code",
   "execution_count": null,
   "metadata": {
    "collapsed": false,
    "jupyter": {
     "outputs_hidden": false
    }
   },
   "outputs": [],
   "source": [
    "disp_op = dpf.Operator(\"U\")\n",
    "print(disp_op.inputs)\n",
    "print(disp_op.outputs)"
   ]
  },
  {
   "cell_type": "markdown",
   "metadata": {},
   "source": [
    "# Compute the Maximum Normalized Displacement\n",
    "This example demonstrate how to chain various operators. It connects the input\n",
    "of the operator to the data sources contained within the ``model`` object and\n",
    "then the maximum of the norm of the operator.\n",
    "\n"
   ]
  },
  {
   "cell_type": "code",
   "execution_count": null,
   "metadata": {
    "collapsed": false,
    "jupyter": {
     "outputs_hidden": false
    }
   },
   "outputs": [],
   "source": [
    "# Connect to the data sources of the model.\n",
    "disp_op.inputs.data_sources.connect(model.metadata.data_sources)\n",
    "\n",
    "# Create a field container norm operator and connect it to the\n",
    "# displacement operator to chain the operators.\n",
    "norm_op = dpf.Operator(\"norm_fc\")\n",
    "norm_op.inputs.connect(disp_op.outputs)\n",
    "\n",
    "# Create a field container min/max operator and connect it to the\n",
    "# output of the norm operator.\n",
    "mm_op = dpf.Operator(\"min_max_fc\")\n",
    "mm_op.inputs.connect(norm_op.outputs)\n",
    "\n",
    "# Finally, get the value of the maximum displacement.\n",
    "field_max = mm_op.outputs.field_max()\n",
    "print(field_max)\n",
    "print(field_max.data)"
   ]
  },
  {
   "cell_type": "markdown",
   "metadata": {},
   "source": [
    "# Wrapped Operators\n",
    "The ``model.results`` property contains all the wrapped operators\n",
    "available for a given result.  This is provided out of convenience\n",
    "because all operators may not be available for a given result. Consequently,\n",
    "it is much easier to reference available operators by first running:\n",
    "\n"
   ]
  },
  {
   "cell_type": "code",
   "execution_count": null,
   "metadata": {
    "collapsed": false,
    "jupyter": {
     "outputs_hidden": false
    }
   },
   "outputs": [],
   "source": [
    "print(model.results)"
   ]
  },
  {
   "cell_type": "markdown",
   "metadata": {},
   "source": [
    "Create the displacement operator directly from the ``results`` property:\n",
    "\n"
   ]
  },
  {
   "cell_type": "code",
   "execution_count": null,
   "metadata": {
    "collapsed": false,
    "jupyter": {
     "outputs_hidden": false
    }
   },
   "outputs": [],
   "source": [
    "disp_op = model.results.displacement()\n",
    "\n",
    "# Out of convenience, the ``operators`` module contains available operators.\n",
    "# These operators can be chained to create a workflow in one line.\n",
    "from ansys.dpf.core import operators\n",
    "\n",
    "mm_op = operators.min_max.min_max_fc(operators.math.norm_fc(disp_op))\n",
    "\n",
    "# Finally, get the value of the maximum displacement.\n",
    "field_max = mm_op.outputs.field_max()\n",
    "print(field_max)\n",
    "print(field_max.data)"
   ]
  },
  {
   "cell_type": "markdown",
   "metadata": {},
   "source": [
    "Plot the displacement:\n",
    "\n"
   ]
  },
  {
   "cell_type": "code",
   "execution_count": null,
   "metadata": {
    "collapsed": false,
    "jupyter": {
     "outputs_hidden": false
    }
   },
   "outputs": [],
   "source": [
    "print(model.metadata.meshed_region.plot(disp_op.outputs.fields_container()))"
   ]
  },
  {
   "cell_type": "markdown",
   "metadata": {},
   "source": [
    "# Scripting Operator Syntax\n",
    "Because DPF provides a scripting syntax, knowing\n",
    "an operator's \"string name\" is not mandatory.\n",
    "While this example is similar to the above script, it uses the DPF\n",
    "scripting syntax.\n",
    "\n"
   ]
  },
  {
   "cell_type": "markdown",
   "metadata": {},
   "source": [
    "Instead of using a ``model`` class instance, use a\n",
    "``DdataSources`` object directly. The ``DataSources`` constructor input is a path.\n",
    "\n"
   ]
  },
  {
   "cell_type": "code",
   "execution_count": null,
   "metadata": {
    "collapsed": false,
    "jupyter": {
     "outputs_hidden": false
    }
   },
   "outputs": [],
   "source": [
    "ds = dpf.DataSources(server_file_path)\n",
    "print(examples.static_rst)"
   ]
  },
  {
   "cell_type": "markdown",
   "metadata": {},
   "source": [
    "Instantiate the operators and connect them:\n",
    "\n"
   ]
  },
  {
   "cell_type": "code",
   "execution_count": null,
   "metadata": {
    "collapsed": false,
    "jupyter": {
     "outputs_hidden": false
    }
   },
   "outputs": [],
   "source": [
    "disp_op = dpf.operators.result.displacement()\n",
    "disp_op.inputs.data_sources.connect(ds)\n",
    "norm_op = dpf.operators.math.norm_fc()\n",
    "norm_op.inputs.connect(disp_op.outputs)\n",
    "mm_op = dpf.operators.min_max.min_max_fc()\n",
    "mm_op.inputs.connect(norm_op.outputs)"
   ]
  },
  {
   "cell_type": "markdown",
   "metadata": {},
   "source": [
    "Get the output and print the result data:\n",
    "\n"
   ]
  },
  {
   "cell_type": "code",
   "execution_count": null,
   "metadata": {
    "collapsed": false,
    "jupyter": {
     "outputs_hidden": false
    }
   },
   "outputs": [],
   "source": [
    "field_max = mm_op.outputs.field_max()\n",
    "print(field_max.data)"
   ]
  },
  {
   "cell_type": "code",
   "execution_count": null,
   "metadata": {},
   "outputs": [],
   "source": [
    "delete_pod(pod_name)"
   ]
  },
  {
   "cell_type": "code",
   "execution_count": null,
   "metadata": {},
   "outputs": [],
   "source": []
  }
 ],
 "metadata": {
  "kernelspec": {
   "display_name": "Python 3 (ipykernel)",
   "language": "python",
   "name": "python3"
  },
  "language_info": {
   "codemirror_mode": {
    "name": "ipython",
    "version": 3
   },
   "file_extension": ".py",
   "mimetype": "text/x-python",
   "name": "python",
   "nbconvert_exporter": "python",
   "pygments_lexer": "ipython3",
   "version": "3.9.7"
  }
 },
 "nbformat": 4,
 "nbformat_minor": 4
}
