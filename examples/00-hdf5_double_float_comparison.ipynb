{
 "cells": [
  {
   "cell_type": "code",
   "execution_count": null,
   "metadata": {
    "collapsed": false,
    "jupyter": {
     "outputs_hidden": false
    }
   },
   "outputs": [],
   "source": [
    "%matplotlib inline"
   ]
  },
  {
   "cell_type": "markdown",
   "metadata": {},
   "source": [
    "\n",
    "\n",
    "# Hdf5 export and compare precision\n",
    "This example shows how to use hdf5 format to export and\n",
    "make a comparison between simple/double precision.\n"
   ]
  },
  {
   "cell_type": "markdown",
   "metadata": {},
   "source": [
    "Import dpf module and its examples files, and create a temporary directory\n",
    "\n"
   ]
  },
  {
   "cell_type": "code",
   "execution_count": null,
   "metadata": {
    "collapsed": false,
    "jupyter": {
     "outputs_hidden": false
    }
   },
   "outputs": [],
   "source": [
    "import os\n",
    "import tempfile\n",
    "\n",
    "from ansys.dpf import core as dpf\n",
    "from ansys.dpf.core import examples\n",
    "from ansys.dpf.core import operators as ops\n",
    "\n",
    "\n",
    "tmpdir = tempfile.mkdtemp()"
   ]
  },
  {
   "cell_type": "markdown",
   "metadata": {},
   "source": [
    "Create the model and get stresses, displacements and mesh.\n",
    "\n"
   ]
  },
  {
   "cell_type": "code",
   "execution_count": null,
   "metadata": {
    "collapsed": false,
    "jupyter": {
     "outputs_hidden": false
    }
   },
   "outputs": [],
   "source": [
    "\n",
    "transient = examples.download_transient_result()\n",
    "server_file_path = dpf.upload_file_in_tmp_folder(transient)\n",
    "model = dpf.Model(server_file_path)\n",
    "\n",
    "stress = model.results.stress()\n",
    "displacement = model.results.displacement()\n",
    "mesh = model.metadata.meshed_region"
   ]
  },
  {
   "cell_type": "markdown",
   "metadata": {},
   "source": [
    "Create the hdf5 export operator. Hdf5 module should already be loaded.\n",
    "\n"
   ]
  },
  {
   "cell_type": "code",
   "execution_count": null,
   "metadata": {
    "collapsed": false,
    "jupyter": {
     "outputs_hidden": false
    }
   },
   "outputs": [],
   "source": [
    "h5op = ops.serialization.serialize_to_hdf5()\n",
    "print(h5op)"
   ]
  },
  {
   "cell_type": "markdown",
   "metadata": {},
   "source": [
    "Connect the correct time scoping to the results operators (stress\n",
    "and displacement).\n",
    "\n"
   ]
  },
  {
   "cell_type": "code",
   "execution_count": null,
   "metadata": {
    "collapsed": false,
    "jupyter": {
     "outputs_hidden": false
    }
   },
   "outputs": [],
   "source": [
    "timeIds = list(range(1, model.metadata.time_freq_support.n_sets + 1))\n",
    "timeIds\n",
    "\n",
    "stress.inputs.time_scoping.connect(timeIds)\n",
    "displacement.inputs.time_scoping.connect(timeIds)"
   ]
  },
  {
   "cell_type": "markdown",
   "metadata": {},
   "source": [
    "Connect inputs of the hdf5 export operator.\n",
    "\n"
   ]
  },
  {
   "cell_type": "code",
   "execution_count": null,
   "metadata": {
    "collapsed": false,
    "jupyter": {
     "outputs_hidden": false
    }
   },
   "outputs": [],
   "source": [
    "h5op.inputs.data1.connect(stress.outputs)\n",
    "h5op.inputs.data2.connect(displacement.outputs)\n",
    "h5op.inputs.data3.connect(mesh)"
   ]
  },
  {
   "cell_type": "markdown",
   "metadata": {},
   "source": [
    "Export with simple precision\n",
    "\n"
   ]
  },
  {
   "cell_type": "code",
   "execution_count": null,
   "metadata": {
    "collapsed": false,
    "jupyter": {
     "outputs_hidden": false
    }
   },
   "outputs": [],
   "source": [
    "directory = \"c:/temp/\"\n",
    "if os.name == \"posix\":\n",
    "    directory = \"/tmp/\"\n",
    "\n",
    "server_float_file_path = os.path.join(directory, \"dpf_float.h5\")\n",
    "h5op.inputs.file_path.connect(server_float_file_path)\n",
    "h5op.run()"
   ]
  },
  {
   "cell_type": "markdown",
   "metadata": {},
   "source": [
    "Download file from server"
   ]
  },
  {
   "cell_type": "code",
   "execution_count": null,
   "metadata": {},
   "outputs": [],
   "source": [
    "local_float_file_path = os.path.join(tmpdir, \"dpf_float.h5\")\n",
    "dpf.download_file(server_float_file_path, local_float_file_path)"
   ]
  },
  {
   "cell_type": "markdown",
   "metadata": {},
   "source": [
    "Export with simple precision\n",
    "\n"
   ]
  },
  {
   "cell_type": "code",
   "execution_count": null,
   "metadata": {
    "collapsed": false,
    "jupyter": {
     "outputs_hidden": false
    }
   },
   "outputs": [],
   "source": [
    "h5op.inputs.export_floats.connect(False)\n",
    "server_double_file_path = os.path.join(tmpdir, directory, \"dpf_double.h5\")\n",
    "h5op.inputs.file_path.connect(server_double_file_path)\n",
    "h5op.run()"
   ]
  },
  {
   "cell_type": "markdown",
   "metadata": {},
   "source": [
    "Download file from server"
   ]
  },
  {
   "cell_type": "code",
   "execution_count": null,
   "metadata": {},
   "outputs": [],
   "source": [
    "local_double_file_path = os.path.join(tmpdir, \"dpf_double.h5\")\n",
    "dpf.download_file(server_double_file_path, local_double_file_path)"
   ]
  },
  {
   "cell_type": "markdown",
   "metadata": {},
   "source": [
    "Comparison\n",
    "\n"
   ]
  },
  {
   "cell_type": "code",
   "execution_count": null,
   "metadata": {
    "collapsed": false,
    "jupyter": {
     "outputs_hidden": false
    }
   },
   "outputs": [],
   "source": [
    "float_precision = os.stat(local_float_file_path).st_size\n",
    "double_precision = os.stat(local_double_file_path).st_size\n",
    "print(\n",
    "    f\"size with float precision: {float_precision}\\n\"\n",
    "    f\"size with double precision: {double_precision}\"\n",
    ")"
   ]
  }
 ],
 "metadata": {
  "kernelspec": {
   "display_name": "Python 3 (ipykernel)",
   "language": "python",
   "name": "python3"
  },
  "language_info": {
   "codemirror_mode": {
    "name": "ipython",
    "version": 3
   },
   "file_extension": ".py",
   "mimetype": "text/x-python",
   "name": "python",
   "nbconvert_exporter": "python",
   "pygments_lexer": "ipython3",
   "version": "3.9.7"
  }
 },
 "nbformat": 4,
 "nbformat_minor": 4
}
