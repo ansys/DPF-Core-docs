{
 "cells": [
  {
   "cell_type": "code",
   "execution_count": null,
   "metadata": {
    "collapsed": false,
    "jupyter": {
     "outputs_hidden": false
    }
   },
   "outputs": [],
   "source": [
    "%matplotlib inline"
   ]
  },
  {
   "cell_type": "markdown",
   "metadata": {},
   "source": [
    "\n",
    "\n",
    "# Multi-Harmonic Response Example\n",
    "This example shows how to compute a multi-harmonic response\n",
    "using fft transforms.\n"
   ]
  },
  {
   "cell_type": "code",
   "execution_count": null,
   "metadata": {
    "collapsed": false,
    "jupyter": {
     "outputs_hidden": false
    }
   },
   "outputs": [],
   "source": [
    "import matplotlib.pyplot as pyplot\n",
    "\n",
    "from ansys.dpf import core as dpf\n",
    "from ansys.dpf.core import examples\n",
    "from ansys.dpf.core import operators as ops\n",
    "from ansys.jupyterhub.manager import spawn_dpf, delete_pod"
   ]
  },
  {
   "cell_type": "markdown",
   "metadata": {},
   "source": [
    "Begin by downloading the example harmonic result.  This result is\n",
    "not included in the core module by default to speed up the install.\n",
    "Download should only take a few seconds.\n",
    "\n",
    "Next, create the model and display the state of the result.  Note\n",
    "that this harmonic result file contains several rpms,\n",
    "each rpm has several frequencies.\n",
    "\n"
   ]
  },
  {
   "cell_type": "code",
   "execution_count": null,
   "metadata": {
    "collapsed": false,
    "jupyter": {
     "outputs_hidden": false
    }
   },
   "outputs": [],
   "source": [
    "server, pod_name = spawn_dpf()\n",
    "# this file is 66Mb size, it may take time to download\n",
    "local_harmonic = examples.download_multi_harmonic_result()\n",
    "server_file_path = dpf.upload_file_in_tmp_folder(local_harmonic, server=server)\n",
    "model = dpf.Model(server_file_path, server=server)\n",
    "print(model)"
   ]
  },
  {
   "cell_type": "markdown",
   "metadata": {},
   "source": [
    "Read the analysis domain support\n",
    "\n"
   ]
  },
  {
   "cell_type": "code",
   "execution_count": null,
   "metadata": {
    "collapsed": false,
    "jupyter": {
     "outputs_hidden": false
    }
   },
   "outputs": [],
   "source": [
    "tf = model.metadata.time_freq_support\n",
    "print(\"Number of solution sets\", tf.n_sets)"
   ]
  },
  {
   "cell_type": "markdown",
   "metadata": {},
   "source": [
    "# Compute multi harmonic response\n",
    "In this example we compute the Rz multi harmonic responses based on\n",
    "a selected nodes and a set of EOs (multiple engine orders).\n",
    "\n"
   ]
  },
  {
   "cell_type": "code",
   "execution_count": null,
   "metadata": {
    "collapsed": false,
    "jupyter": {
     "outputs_hidden": false
    }
   },
   "outputs": [],
   "source": [
    "# Create a total displacement operator and set its time scoping to\n",
    "# the entire time freq support and its nodes scoping into a user defined nodes.\n",
    "disp_op = ops.result.raw_displacement(data_sources=model)\n",
    "time_ids = list(range(1, model.metadata.time_freq_support.n_sets + 1))\n",
    "\n",
    "# define nodal scoping\n",
    "nodes = dpf.Scoping()\n",
    "nodes.ids = [2, 18]\n",
    "\n",
    "# connect the frequencies and the nodes scopings to the result\n",
    "# provider operator\n",
    "disp_op.inputs.mesh_scoping.connect(nodes)\n",
    "disp_op.inputs.time_scoping.connect(time_ids)\n",
    "\n",
    "# extract Rz component using the component selector operator\n",
    "comp = dpf.Operator(\"component_selector_fc\")\n",
    "comp.inputs.connect(disp_op.outputs)\n",
    "comp.inputs.component_number.connect(5)\n",
    "\n",
    "# Compute the multi-harmonic response based on Rz and a set of RPMs\n",
    "rpms = dpf.Scoping()\n",
    "rpms.ids = [1, 2, 3]\n",
    "\n",
    "fft = ops.math.fft_multi_harmonic_minmax()\n",
    "\n",
    "fft.inputs.connect(comp.outputs)\n",
    "fft.inputs.rpm_scoping.connect(rpms)\n",
    "\n",
    "fields = fft.outputs.field_max()\n",
    "len(fields)  # one multi-harmonic field response per node\n",
    "\n",
    "field1 = fields[0]\n",
    "field2 = fields[1]"
   ]
  },
  {
   "cell_type": "markdown",
   "metadata": {},
   "source": [
    "Plot the minimum and maximum displacements over time\n",
    "\n"
   ]
  },
  {
   "cell_type": "code",
   "execution_count": null,
   "metadata": {
    "collapsed": false,
    "jupyter": {
     "outputs_hidden": false
    }
   },
   "outputs": [],
   "source": [
    "pyplot.plot(field1.data, \"r\", label=\"Field 1\")\n",
    "pyplot.plot(field2.data, \"b\", label=\"Field 2\")\n",
    "pyplot.xlabel(\"Frequency (Hz)\")\n",
    "pyplot.ylabel(\"Displacement (m)\")\n",
    "pyplot.legend()\n",
    "pyplot.show()"
   ]
  },
  {
   "cell_type": "code",
   "execution_count": null,
   "metadata": {},
   "outputs": [],
   "source": [
    "delete_pod(pod_name)"
   ]
  },
  {
   "cell_type": "code",
   "execution_count": null,
   "metadata": {},
   "outputs": [],
   "source": []
  }
 ],
 "metadata": {
  "kernelspec": {
   "display_name": "Python 3 (ipykernel)",
   "language": "python",
   "name": "python3"
  },
  "language_info": {
   "codemirror_mode": {
    "name": "ipython",
    "version": 3
   },
   "file_extension": ".py",
   "mimetype": "text/x-python",
   "name": "python",
   "nbconvert_exporter": "python",
   "pygments_lexer": "ipython3",
   "version": "3.9.7"
  }
 },
 "nbformat": 4,
 "nbformat_minor": 4
}
