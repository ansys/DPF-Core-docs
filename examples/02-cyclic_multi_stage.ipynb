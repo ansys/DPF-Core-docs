{
 "cells": [
  {
   "cell_type": "code",
   "execution_count": null,
   "metadata": {
    "collapsed": false,
    "jupyter": {
     "outputs_hidden": false
    }
   },
   "outputs": [],
   "source": [
    "%matplotlib inline"
   ]
  },
  {
   "cell_type": "markdown",
   "metadata": {},
   "source": [
    "\n",
    "\n",
    "# Multi-stage Cyclic Symmetry Example\n",
    "This example shows how to expand the mesh and results from a\n",
    "multi-stage cyclic analysis.\n"
   ]
  },
  {
   "cell_type": "code",
   "execution_count": null,
   "metadata": {
    "collapsed": false,
    "jupyter": {
     "outputs_hidden": false
    }
   },
   "outputs": [],
   "source": [
    "from ansys.dpf import core as dpf\n",
    "from ansys.dpf.core import examples\n",
    "from ansys.jupyterhub.manager import spawn_dpf, delete_pod"
   ]
  },
  {
   "cell_type": "markdown",
   "metadata": {},
   "source": [
    "Create the model and display the state of the result.\n",
    "\n"
   ]
  },
  {
   "cell_type": "code",
   "execution_count": null,
   "metadata": {
    "collapsed": false,
    "jupyter": {
     "outputs_hidden": false
    }
   },
   "outputs": [],
   "source": [
    "server, pod_name = spawn_dpf()\n",
    "local_file = examples.download_multi_stage_cyclic_result()\n",
    "server_file_path = dpf.upload_file_in_tmp_folder(local_file, server=server)\n",
    "model = dpf.Model(server_file_path, server=server)\n",
    "print(model)"
   ]
  },
  {
   "cell_type": "markdown",
   "metadata": {},
   "source": [
    "# Expand displacement results\n",
    "In this example we expand displacement results, by default on all\n",
    "nodes and the first time step.\n",
    "\n"
   ]
  },
  {
   "cell_type": "code",
   "execution_count": null,
   "metadata": {
    "collapsed": false,
    "jupyter": {
     "outputs_hidden": false
    }
   },
   "outputs": [],
   "source": [
    "# Create displacement cyclic operator\n",
    "UCyc = model.results.displacement()\n",
    "UCyc.inputs.read_cyclic(2)\n",
    "\n",
    "# expand the displacements and get a total deformation\n",
    "nrm = dpf.Operator(\"norm_fc\")\n",
    "nrm.inputs.connect(UCyc.outputs)\n",
    "fields = nrm.outputs.fields_container()\n",
    "\n",
    "# # get the expanded mesh\n",
    "mesh_provider = model.metadata.mesh_provider\n",
    "mesh_provider.inputs.read_cyclic(2)\n",
    "mesh = mesh_provider.outputs.mesh()\n",
    "\n",
    "# # plot the expanded result on the expanded mesh\n",
    "mesh.plot(fields)"
   ]
  },
  {
   "cell_type": "markdown",
   "metadata": {},
   "source": [
    "# Expand stresses at a given time step\n",
    "\n"
   ]
  },
  {
   "cell_type": "code",
   "execution_count": null,
   "metadata": {
    "collapsed": false,
    "jupyter": {
     "outputs_hidden": false
    }
   },
   "outputs": [],
   "source": [
    "# define stress expansion operator and request stresses at time set = 3\n",
    "SCyc = model.results.stress()\n",
    "SCyc.inputs.read_cyclic(2)\n",
    "SCyc.inputs.time_scoping.connect([3])\n",
    "\n",
    "# request the results averaged on the nodes\n",
    "SCyc.inputs.requested_location.connect(\"Nodal\")\n",
    "\n",
    "# request equivalent von mises operator and connect it to stress\n",
    "# operator\n",
    "eqv = dpf.Operator(\"eqv_fc\")\n",
    "eqv.inputs.connect(SCyc.outputs)\n",
    "\n",
    "# expand the results and get stress eqv\n",
    "fields = eqv.outputs.fields_container()\n",
    "\n",
    "# plot the expanded result on the expanded mesh\n",
    "mesh.plot(fields)"
   ]
  },
  {
   "cell_type": "code",
   "execution_count": null,
   "metadata": {},
   "outputs": [],
   "source": [
    "delete_pod(pod_name)"
   ]
  },
  {
   "cell_type": "code",
   "execution_count": null,
   "metadata": {},
   "outputs": [],
   "source": []
  }
 ],
 "metadata": {
  "kernelspec": {
   "display_name": "Python 3 (ipykernel)",
   "language": "python",
   "name": "python3"
  },
  "language_info": {
   "codemirror_mode": {
    "name": "ipython",
    "version": 3
   },
   "file_extension": ".py",
   "mimetype": "text/x-python",
   "name": "python",
   "nbconvert_exporter": "python",
   "pygments_lexer": "ipython3",
   "version": "3.9.7"
  }
 },
 "nbformat": 4,
 "nbformat_minor": 4
}
