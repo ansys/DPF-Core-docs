{
 "cells": [
  {
   "cell_type": "code",
   "execution_count": null,
   "metadata": {
    "collapsed": false,
    "jupyter": {
     "outputs_hidden": false
    }
   },
   "outputs": [],
   "source": [
    "%matplotlib inline"
   ]
  },
  {
   "cell_type": "markdown",
   "metadata": {},
   "source": [
    "\n",
    "\n",
    "# Transient Analysis Result Example\n",
    "This example shows how to postprocess a transient result and\n",
    "visualize the outputs.\n",
    "\n",
    "Import the necessary modules:\n"
   ]
  },
  {
   "cell_type": "code",
   "execution_count": null,
   "metadata": {
    "collapsed": false,
    "jupyter": {
     "outputs_hidden": false
    }
   },
   "outputs": [],
   "source": [
    "import matplotlib.pyplot as plt\n",
    "import numpy as np\n",
    "\n",
    "from ansys.dpf import core as dpf\n",
    "from ansys.dpf.core import examples\n",
    "from ansys.dpf.core import operators as ops"
   ]
  },
  {
   "cell_type": "markdown",
   "metadata": {},
   "source": [
    "Download the transient result example. This example is\n",
    "not included in DPF-Core by default to speed up the installation.\n",
    "Downloading this example should take only a few seconds.\n",
    "\n",
    "Next, create the model and display the state of the result. This transient\n",
    "result file contains several individual results, each at a different timestamp.\n",
    "\n"
   ]
  },
  {
   "cell_type": "code",
   "execution_count": null,
   "metadata": {
    "collapsed": false,
    "jupyter": {
     "outputs_hidden": false
    }
   },
   "outputs": [],
   "source": [
    "\n",
    "local_file = examples.download_transient_result()\n",
    "server_file_path = dpf.upload_file_in_tmp_folder(local_file)\n",
    "model = dpf.Model(server_file_path)\n",
    "print(model)"
   ]
  },
  {
   "cell_type": "markdown",
   "metadata": {},
   "source": [
    "Get the timestamps for each substep as a numpy array:\n",
    "\n"
   ]
  },
  {
   "cell_type": "code",
   "execution_count": null,
   "metadata": {
    "collapsed": false,
    "jupyter": {
     "outputs_hidden": false
    }
   },
   "outputs": [],
   "source": [
    "tf = model.metadata.time_freq_support\n",
    "print(tf.time_frequencies.data)"
   ]
  },
  {
   "cell_type": "markdown",
   "metadata": {},
   "source": [
    "# Obtain Minimum and Maximum Displacements for All Results\n",
    "Create a displacement operator and set its time scoping request to\n",
    "the entire time frequency support:\n",
    "\n"
   ]
  },
  {
   "cell_type": "code",
   "execution_count": null,
   "metadata": {
    "collapsed": false,
    "jupyter": {
     "outputs_hidden": false
    }
   },
   "outputs": [],
   "source": [
    "disp = model.results.displacement()\n",
    "timeids = range(1, tf.n_sets + 1)  # Must use 1-based indexing.\n",
    "disp.inputs.time_scoping(timeids)\n",
    "\n",
    "# Chain the displacement operator with ``norm`` and ``min_max`` operators.\n",
    "min_max_op = ops.min_max.min_max_fc(ops.math.norm_fc(disp))\n",
    "\n",
    "min_disp = min_max_op.outputs.field_min()\n",
    "max_disp = min_max_op.outputs.field_max()\n",
    "print(max_disp.data)"
   ]
  },
  {
   "cell_type": "markdown",
   "metadata": {},
   "source": [
    "Plot the minimum and maximum displacements over time:\n",
    "\n"
   ]
  },
  {
   "cell_type": "code",
   "execution_count": null,
   "metadata": {
    "collapsed": false,
    "jupyter": {
     "outputs_hidden": false
    }
   },
   "outputs": [],
   "source": [
    "tdata = tf.time_frequencies.data\n",
    "plt.plot(tdata, max_disp.data, \"r\", label=\"Max\")\n",
    "plt.plot(tdata, min_disp.data, \"b\", label=\"Min\")\n",
    "plt.xlabel(\"Time (s)\")\n",
    "plt.ylabel(\"Displacement (m)\")\n",
    "plt.legend()\n",
    "plt.show()"
   ]
  },
  {
   "cell_type": "markdown",
   "metadata": {},
   "source": [
    "Plot the minimum and maximum displacements over time for the X\n",
    "component.\n",
    "\n"
   ]
  },
  {
   "cell_type": "code",
   "execution_count": null,
   "metadata": {
    "collapsed": false,
    "jupyter": {
     "outputs_hidden": false
    }
   },
   "outputs": [],
   "source": [
    "disp_z = disp.Z()\n",
    "min_max_op = ops.min_max.min_max_fc(ops.math.norm_fc(disp_z))\n",
    "\n",
    "min_disp_z = min_max_op.outputs.field_min()\n",
    "max_disp_z = min_max_op.outputs.field_max()\n",
    "\n",
    "tdata = tf.time_frequencies.data\n",
    "plt.plot(tdata, max_disp_z.data, \"r\", label=\"Max\")\n",
    "plt.plot(tdata, min_disp_z.data, \"b\", label=\"Min\")\n",
    "plt.xlabel(\"Time (s)\")\n",
    "plt.ylabel(\"X Displacement (m)\")\n",
    "plt.legend()\n",
    "plt.show()"
   ]
  },
  {
   "cell_type": "markdown",
   "metadata": {},
   "source": [
    "# Postprocessing Stress\n",
    "Create an equivalent (von Mises) stress operator and set its time\n",
    "scoping to the entire time frequency support:\n",
    "\n"
   ]
  },
  {
   "cell_type": "code",
   "execution_count": null,
   "metadata": {
    "collapsed": false,
    "jupyter": {
     "outputs_hidden": false
    }
   },
   "outputs": [],
   "source": [
    "# Component stress operator (stress)\n",
    "stress = model.results.stress()\n",
    "\n",
    "# Equivalent stress operator\n",
    "eqv = stress.eqv()\n",
    "eqv.inputs.time_scoping(timeids)\n",
    "\n",
    "# Connect to the min_max operator and return the minimum and maximum\n",
    "# fields.\n",
    "min_max_eqv = ops.min_max.min_max_fc(eqv)\n",
    "eqv_min = min_max_eqv.outputs.field_min()\n",
    "eqv_max = min_max_eqv.outputs.field_max()\n",
    "\n",
    "print(eqv_min)"
   ]
  },
  {
   "cell_type": "markdown",
   "metadata": {},
   "source": [
    "Plot the maximum stress over time:\n",
    "\n"
   ]
  },
  {
   "cell_type": "code",
   "execution_count": null,
   "metadata": {
    "collapsed": false,
    "jupyter": {
     "outputs_hidden": false
    }
   },
   "outputs": [],
   "source": [
    "plt.plot(tdata, eqv_min.data, \"b\", label=\"Minimum\")\n",
    "plt.plot(tdata, eqv_max.data, \"r\", label=\"Maximum\")\n",
    "plt.xlabel(\"Time (s)\")\n",
    "plt.ylabel(\"Equivalent Stress (Pa)\")\n",
    "plt.legend()\n",
    "plt.show()"
   ]
  },
  {
   "cell_type": "markdown",
   "metadata": {},
   "source": [
    "# Scoping and Stress Field Coordinates\n",
    "The scoping of the stress field can be used to extract the\n",
    "coordinates used for each result:\n",
    "\n"
   ]
  },
  {
   "cell_type": "code",
   "execution_count": null,
   "metadata": {
    "collapsed": false,
    "jupyter": {
     "outputs_hidden": false
    }
   },
   "outputs": [],
   "source": [
    "# Extract a single field from the equivalent stress operator.\n",
    "field = eqv.outputs.fields_container()[28]\n",
    "\n",
    "# Print the first node IDs from the field.\n",
    "print(field.scoping.ids[:10])"
   ]
  },
  {
   "cell_type": "markdown",
   "metadata": {},
   "source": [
    "As you can see, these node IDs are not in order. Additionally,\n",
    "there may be fewer entries in the field than nodes in the model. For\n",
    "example, stresses are not computed at mid-side nodes.\n",
    "\n",
    "To extract the coordinates for these node IDs, load the mesh from\n",
    "the model and then extract a coordinate for each node index.\n",
    "\n",
    "Here is an inefficient way of getting the coordinates as each\n",
    "individual request must be sent to the DPF service:\n",
    "\n"
   ]
  },
  {
   "cell_type": "code",
   "execution_count": null,
   "metadata": {
    "collapsed": false,
    "jupyter": {
     "outputs_hidden": false
    }
   },
   "outputs": [],
   "source": [
    "# Load the mesh from the model.\n",
    "meshed_region = model.metadata.meshed_region\n",
    "\n",
    "# Print the first 10 coordinates for the field.\n",
    "node_ids = field.scoping.ids\n",
    "for node_id in node_ids[:10]:\n",
    "    # Fetch each individual node by node ID.\n",
    "    node_coord = meshed_region.nodes.node_by_id(node_id).coordinates\n",
    "    print(f\"Node ID {node_id} : %8.5f, %8.5f, %8.5f\" % tuple(node_coord))"
   ]
  },
  {
   "cell_type": "markdown",
   "metadata": {},
   "source": [
    "Rather than individually querying for each node coordinate of the\n",
    "field, you can use the :func:`map_scoping` to remap the field data\n",
    "to match the order of the nodes in the meshed region.\n",
    "\n",
    "Obtain the indices needed to get the data from ``field.data`` to match\n",
    "the order of nodes in the mesh:\n",
    "\n"
   ]
  },
  {
   "cell_type": "code",
   "execution_count": null,
   "metadata": {
    "collapsed": false,
    "jupyter": {
     "outputs_hidden": false
    }
   },
   "outputs": [],
   "source": [
    "nodes = meshed_region.nodes\n",
    "ind, mask = nodes.map_scoping(field.scoping)\n",
    "\n",
    "# Show that the order of the remapped node scoping matches the field scoping.\n",
    "print(\n",
    "    \"Scoping matches:\", np.allclose(np.array(nodes.scoping.ids)[ind], field.scoping.ids)\n",
    ")\n",
    "\n",
    "# Now plot the von Mises stress relative to the Z coordinates.\n",
    "z_coord = nodes.coordinates_field.data[ind, 2]\n",
    "\n",
    "plt.plot(z_coord, field.data, \".\")\n",
    "plt.xlabel(\"Z Coordinate (m)\")\n",
    "plt.ylabel(\"Equivalent Stress (Pa)\")\n",
    "plt.show()"
   ]
  }
 ],
 "metadata": {
  "kernelspec": {
   "display_name": "Python 3 (ipykernel)",
   "language": "python",
   "name": "python3"
  },
  "language_info": {
   "codemirror_mode": {
    "name": "ipython",
    "version": 3
   },
   "file_extension": ".py",
   "mimetype": "text/x-python",
   "name": "python",
   "nbconvert_exporter": "python",
   "pygments_lexer": "ipython3",
   "version": "3.9.7"
  }
 },
 "nbformat": 4,
 "nbformat_minor": 4
}
