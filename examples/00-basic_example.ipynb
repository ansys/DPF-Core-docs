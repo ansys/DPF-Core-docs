{
 "cells": [
  {
   "cell_type": "code",
   "execution_count": null,
   "metadata": {
    "collapsed": false,
    "jupyter": {
     "outputs_hidden": false
    }
   },
   "outputs": [],
   "source": [
    "%matplotlib inline"
   ]
  },
  {
   "cell_type": "markdown",
   "metadata": {},
   "source": [
    "# Basic DPF-Core usage {#ref_basic_example}\n",
    "\n",
    "This example shows how to open a result file and do some basic\n",
    "postprocessing.\n",
    "\n",
    "If you have Ansys 2021 R1 or higher installed, starting DPF is quite\n",
    "easy as DPF-Core takes care of launching all the services that are\n",
    "required for postprocessing Ansys files.\n"
   ]
  },
  {
   "cell_type": "code",
   "execution_count": null,
   "metadata": {
    "collapsed": false,
    "jupyter": {
     "outputs_hidden": false
    }
   },
   "outputs": [],
   "source": [
    "# First, import the DPF-Core module as ``dpf`` and import the included examples file.\n",
    "from ansys.dpf import core as dpf\n",
    "from ansys.dpf.core import examples"
   ]
  },
  {
   "cell_type": "markdown",
   "metadata": {},
   "source": [
    "Next, open an example and print out the `model` object. The\n",
    "`Model <ansys.dpf.core.model.Model>`{.interpreted-text role=\"class\"}\n",
    "class helps to organize access methods for the result by keeping track\n",
    "of the operators and data sources used by the result file.\n",
    "\n",
    "Printing the model displays:\n",
    "\n",
    "-   Analysis type\n",
    "-   Available results\n",
    "-   Size of the mesh\n",
    "-   Number of results\n",
    "\n",
    "Also, note that the first time you create a DPF object, Python\n",
    "automatically attempts to start the server in the background. If you\n",
    "want to connect to an existing server (either local or remote), use\n",
    "`ansys.dpf.core.connect_to_server`{.interpreted-text role=\"func\"}.\n"
   ]
  },
  {
   "cell_type": "code",
   "execution_count": null,
   "metadata": {
    "collapsed": false,
    "jupyter": {
     "outputs_hidden": false
    }
   },
   "outputs": [],
   "source": [
    "model = dpf.Model(examples.find_simple_bar())\n",
    "print(model)"
   ]
  },
  {
   "cell_type": "markdown",
   "metadata": {},
   "source": [
    "# Model metadata\n",
    "\n",
    "Specific metadata can be extracted from the model by referencing the\n",
    "model\\'s `metadata` property. For example, to print only the\n",
    "`result_info`:\n"
   ]
  },
  {
   "cell_type": "code",
   "execution_count": null,
   "metadata": {
    "collapsed": false,
    "jupyter": {
     "outputs_hidden": false
    }
   },
   "outputs": [],
   "source": [
    "metadata = model.metadata\n",
    "print(metadata.result_info)"
   ]
  },
  {
   "cell_type": "markdown",
   "metadata": {},
   "source": [
    "Print the mesh region:\n"
   ]
  },
  {
   "cell_type": "code",
   "execution_count": null,
   "metadata": {
    "collapsed": false,
    "jupyter": {
     "outputs_hidden": false
    }
   },
   "outputs": [],
   "source": [
    "print(metadata.meshed_region)"
   ]
  },
  {
   "cell_type": "markdown",
   "metadata": {},
   "source": [
    "Print the time or frequency of the results:\n"
   ]
  },
  {
   "cell_type": "code",
   "execution_count": null,
   "metadata": {
    "collapsed": false,
    "jupyter": {
     "outputs_hidden": false
    }
   },
   "outputs": [],
   "source": [
    "print(metadata.time_freq_support)"
   ]
  },
  {
   "cell_type": "markdown",
   "metadata": {},
   "source": [
    "# Extract displacement results\n",
    "\n",
    "All results of the model can be accessed through the `results` property,\n",
    "which returns the `ansys.dpf.core.results.Results`{.interpreted-text\n",
    "role=\"class\"} class. This class contains the DPF result operators\n",
    "available to a specific result file, which are listed when printing the\n",
    "object with `print(results)`.\n",
    "\n",
    "Here, the `'U'` operator is connected with `data_sources`, which takes\n",
    "place automatically when running `results.displacement()`. By default,\n",
    "the `'U'` operator is connected to the first result set, which for this\n",
    "static result is the only result.\n"
   ]
  },
  {
   "cell_type": "code",
   "execution_count": null,
   "metadata": {
    "collapsed": false,
    "jupyter": {
     "outputs_hidden": false
    }
   },
   "outputs": [],
   "source": [
    "results = model.results\n",
    "displacements = results.displacement()\n",
    "fields = displacements.outputs.fields_container()\n",
    "\n",
    "# Finally, extract the data of the displacement field:\n",
    "disp = fields[0].data\n",
    "disp"
   ]
  },
  {
   "cell_type": "code",
   "execution_count": null,
   "metadata": {
    "collapsed": false,
    "jupyter": {
     "outputs_hidden": false
    }
   },
   "outputs": [],
   "source": [
    "model.metadata.meshed_region.plot(fields)"
   ]
  }
 ],
 "metadata": {
  "kernelspec": {
   "display_name": "Python 3 (ipykernel)",
   "language": "python",
   "name": "python3"
  },
  "language_info": {
   "codemirror_mode": {
    "name": "ipython",
    "version": 3
   },
   "file_extension": ".py",
   "mimetype": "text/x-python",
   "name": "python",
   "nbconvert_exporter": "python",
   "pygments_lexer": "ipython3",
   "version": "3.9.12"
  }
 },
 "nbformat": 4,
 "nbformat_minor": 4
}
