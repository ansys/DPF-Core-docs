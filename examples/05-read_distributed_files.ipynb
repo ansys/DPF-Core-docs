{
 "cells": [
  {
   "cell_type": "code",
   "execution_count": null,
   "metadata": {
    "collapsed": false,
    "jupyter": {
     "outputs_hidden": false
    }
   },
   "outputs": [],
   "source": [
    "%matplotlib inline"
   ]
  },
  {
   "cell_type": "markdown",
   "metadata": {},
   "source": [
    "\n",
    "\n",
    "# Read results from distributed files\n",
    "Solvers usually solve analysis with distributed architecture. In that\n",
    "case one file is written by spatial or temporal domains. The capability of\n",
    "reading one result in distributed files has been implemented in DPF. This\n",
    "allows to skip the merging of files solver side which is time consuming and often\n",
    "duplicates the memory used.\n"
   ]
  },
  {
   "cell_type": "code",
   "execution_count": null,
   "metadata": {
    "collapsed": false,
    "jupyter": {
     "outputs_hidden": false
    }
   },
   "outputs": [],
   "source": [
    "from ansys.dpf import core as dpf\n",
    "from ansys.dpf.core import examples"
   ]
  },
  {
   "cell_type": "markdown",
   "metadata": {},
   "source": [
    "# Create the data sources\n",
    "First create a data sources with one result file by domain\n",
    "\n"
   ]
  },
  {
   "cell_type": "code",
   "execution_count": null,
   "metadata": {
    "collapsed": false,
    "jupyter": {
     "outputs_hidden": false
    }
   },
   "outputs": [],
   "source": [
    "\n",
    "distributed_file_path = examples.download_distributed_files()\n",
    "server_file_paths = [dpf.upload_file_in_tmp_folder(distributed_file_path[0]),\n",
    "                     dpf.upload_file_in_tmp_folder(distributed_file_path[1])]\n",
    "data_sources = dpf.DataSources()\n",
    "data_sources.set_domain_result_file_path(server_file_paths[0], 0)\n",
    "data_sources.set_domain_result_file_path(server_file_paths[1], 1)"
   ]
  },
  {
   "cell_type": "markdown",
   "metadata": {},
   "source": [
    "# Compute displacements\n",
    "Once the file architecture is put in the data sources,\n",
    "computing displacements with or without domain has the exact same syntax.\n",
    "DPF reads parts of the result on each domain and remerge the results in\n",
    "the outputs fields. The output will have no difference when using combined\n",
    "or distributed files\n",
    "\n"
   ]
  },
  {
   "cell_type": "code",
   "execution_count": null,
   "metadata": {
    "collapsed": false,
    "jupyter": {
     "outputs_hidden": false
    }
   },
   "outputs": [],
   "source": [
    "model = dpf.Model(data_sources)\n",
    "disp = model.results.displacement.on_all_time_freqs.eval()\n",
    "\n",
    "freq_scoping = disp.get_time_scoping()\n",
    "for freq_set in freq_scoping:\n",
    "    model.metadata.meshed_region.plot(disp.get_field_by_time_complex_ids(freq_set, 0))"
   ]
  },
  {
   "cell_type": "markdown",
   "metadata": {},
   "source": [
    "# Compute stress eqv\n",
    "\n"
   ]
  },
  {
   "cell_type": "code",
   "execution_count": null,
   "metadata": {
    "collapsed": false,
    "jupyter": {
     "outputs_hidden": false
    }
   },
   "outputs": [],
   "source": [
    "stress_res = model.results.stress\n",
    "stress_res.on_location(dpf.locations.nodal)\n",
    "stress = stress_res.on_all_time_freqs.eval()\n",
    "\n",
    "freq_scoping = stress.get_time_scoping()\n",
    "for freq_set in freq_scoping:\n",
    "    model.metadata.meshed_region.plot(stress.get_field_by_time_complex_ids(freq_set, 0))"
   ]
  }
 ],
 "metadata": {
  "kernelspec": {
   "display_name": "Python 3 (ipykernel)",
   "language": "python",
   "name": "python3"
  },
  "language_info": {
   "codemirror_mode": {
    "name": "ipython",
    "version": 3
   },
   "file_extension": ".py",
   "mimetype": "text/x-python",
   "name": "python",
   "nbconvert_exporter": "python",
   "pygments_lexer": "ipython3",
   "version": "3.9.7"
  }
 },
 "nbformat": 4,
 "nbformat_minor": 4
}
