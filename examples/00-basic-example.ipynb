{
 "cells": [
  {
   "cell_type": "code",
   "execution_count": null,
   "metadata": {
    "collapsed": false,
    "jupyter": {
     "outputs_hidden": false
    }
   },
   "outputs": [],
   "source": [
    "%matplotlib inline"
   ]
  },
  {
   "cell_type": "markdown",
   "metadata": {},
   "source": [
    "\n",
    "\n",
    "# Basic DPF-Core Usage\n",
    "This example shows how to open a result file and do some\n",
    "basic postprocessing.\n",
    "\n",
    "If you have Ansys 2021 R1 installed, starting DPF is quite easy\n",
    "as DPF-Core takes care of launching all the services that\n",
    "are required for postprocessing Ansys files.\n",
    "\n",
    "First, import the DPF-Core module as ``dpf_core`` and import the\n",
    "included examples file.\n"
   ]
  },
  {
   "cell_type": "code",
   "execution_count": null,
   "metadata": {
    "collapsed": false,
    "jupyter": {
     "outputs_hidden": false
    }
   },
   "outputs": [],
   "source": [
    "from ansys.dpf import core as dpf\n",
    "from ansys.dpf.core import examples\n",
    "from ansys.jupyterhub.manager import spawn_dpf, delete_pod"
   ]
  },
  {
   "cell_type": "markdown",
   "metadata": {},
   "source": [
    "Next, open an example and print out the ``model`` object.  The\n",
    "``Model`` class helps to organize access methods for the result by\n",
    "keeping track of the operators and data sources used by the result\n",
    "file.\n",
    "\n",
    "Printing the model displays:\n",
    "\n",
    "- Analysis type\n",
    "- Available results\n",
    "- Size of the mesh\n",
    "- Number of results\n",
    "\n",
    "Also, note that the first time you create a DPF object, Python\n",
    "automatically attempts to start the server in the background.  If you\n",
    "want to connect to an existing server (either local or remote), use\n",
    ":func:`dpf.connect_to_server`.\n",
    "\n"
   ]
  },
  {
   "cell_type": "code",
   "execution_count": null,
   "metadata": {
    "collapsed": false,
    "jupyter": {
     "outputs_hidden": false
    }
   },
   "outputs": [],
   "source": [
    "server, pod_name = spawn_dpf()\n",
    "server_file_path = dpf.upload_file_in_tmp_folder(examples.simple_bar, server=server)\n",
    "model = dpf.Model(server_file_path)\n",
    "print(model)"
   ]
  },
  {
   "cell_type": "markdown",
   "metadata": {},
   "source": [
    "# Model Metadata\n",
    "Specific metadata can be extracted from the model by referencing the\n",
    "model's ``metadata`` property.  For example, to print only the\n",
    "``result_info``:\n",
    "\n"
   ]
  },
  {
   "cell_type": "code",
   "execution_count": null,
   "metadata": {
    "collapsed": false,
    "jupyter": {
     "outputs_hidden": false
    }
   },
   "outputs": [],
   "source": [
    "metadata = model.metadata\n",
    "print(metadata.result_info)"
   ]
  },
  {
   "cell_type": "markdown",
   "metadata": {},
   "source": [
    "To print the mesh region:\n",
    "\n"
   ]
  },
  {
   "cell_type": "code",
   "execution_count": null,
   "metadata": {
    "collapsed": false,
    "jupyter": {
     "outputs_hidden": false
    }
   },
   "outputs": [],
   "source": [
    "print(metadata.meshed_region)"
   ]
  },
  {
   "cell_type": "markdown",
   "metadata": {},
   "source": [
    "To print the time or frequency of the results:\n",
    "\n"
   ]
  },
  {
   "cell_type": "code",
   "execution_count": null,
   "metadata": {
    "collapsed": false,
    "jupyter": {
     "outputs_hidden": false
    }
   },
   "outputs": [],
   "source": [
    "print(metadata.time_freq_support)"
   ]
  },
  {
   "cell_type": "markdown",
   "metadata": {},
   "source": [
    "# Extracting Displacement Results\n",
    "All results of the model can be accessed through the ``results``\n",
    "property, which returns the :class:`ansys.dpf.core.results.Results`\n",
    "class. This class contains the DPF result operators available to a\n",
    "specific result file, which are listed when printing the object with\n",
    "``print(results)``.\n",
    "\n",
    "Here, the ``'U'`` operator is connected with ``data_sources``, which\n",
    "takes place automatically when running ``results.displacement()``.\n",
    "By default, the ``'U'`` operator is connected to the first result set,\n",
    "which for this static result is the only result.\n",
    "\n"
   ]
  },
  {
   "cell_type": "code",
   "execution_count": null,
   "metadata": {
    "collapsed": false,
    "jupyter": {
     "outputs_hidden": false
    }
   },
   "outputs": [],
   "source": [
    "results = model.results\n",
    "displacements = results.displacement()\n",
    "fields = displacements.outputs.fields_container()\n",
    "\n",
    "# Finally, extract the data of the displacement field:\n",
    "disp = fields[0].data\n",
    "disp"
   ]
  },
  {
   "cell_type": "code",
   "execution_count": null,
   "metadata": {
    "collapsed": false,
    "jupyter": {
     "outputs_hidden": false
    }
   },
   "outputs": [],
   "source": [
    "model.metadata.meshed_region.plot(fields)"
   ]
  },
  {
   "cell_type": "code",
   "execution_count": null,
   "metadata": {},
   "outputs": [],
   "source": [
    "delete_pod(pod_name)"
   ]
  },
  {
   "cell_type": "code",
   "execution_count": null,
   "metadata": {},
   "outputs": [],
   "source": []
  }
 ],
 "metadata": {
  "kernelspec": {
   "display_name": "Python 3 (ipykernel)",
   "language": "python",
   "name": "python3"
  },
  "language_info": {
   "codemirror_mode": {
    "name": "ipython",
    "version": 3
   },
   "file_extension": ".py",
   "mimetype": "text/x-python",
   "name": "python",
   "nbconvert_exporter": "python",
   "pygments_lexer": "ipython3",
   "version": "3.9.7"
  }
 },
 "nbformat": 4,
 "nbformat_minor": 4
}
