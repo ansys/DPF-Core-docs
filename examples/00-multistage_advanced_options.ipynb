{
 "cells": [
  {
   "cell_type": "code",
   "execution_count": null,
   "metadata": {
    "collapsed": false,
    "jupyter": {
     "outputs_hidden": false
    }
   },
   "outputs": [],
   "source": [
    "%matplotlib inline"
   ]
  },
  {
   "cell_type": "markdown",
   "metadata": {},
   "source": [
    "\n",
    "\n",
    "# Multi-stage Cyclic Symmetry Use Advanced Customization\n",
    "This example shows how to expand on selected sectors the mesh and results from a\n",
    "multi-stage cyclic analysis.\n",
    "It also shows how to use the cyclic support for advanced post processing\n"
   ]
  },
  {
   "cell_type": "code",
   "execution_count": null,
   "metadata": {
    "collapsed": false,
    "jupyter": {
     "outputs_hidden": false
    }
   },
   "outputs": [],
   "source": [
    "from ansys.dpf import core as dpf\n",
    "from ansys.dpf.core import examples\n",
    "from ansys.dpf.core import operators as ops"
   ]
  },
  {
   "cell_type": "markdown",
   "metadata": {},
   "source": [
    "Create the model and display the state of the result.\n",
    "\n"
   ]
  },
  {
   "cell_type": "code",
   "execution_count": null,
   "metadata": {
    "collapsed": false,
    "jupyter": {
     "outputs_hidden": false
    }
   },
   "outputs": [],
   "source": [
    "\n",
    "local_file = examples.download_multi_stage_cyclic_result()\n",
    "server_file_path = dpf.upload_file_in_tmp_folder(local_file)\n",
    "model = dpf.Model(server_file_path)\n",
    "print(model)"
   ]
  },
  {
   "cell_type": "markdown",
   "metadata": {},
   "source": [
    "Check the result info to verify that it's a multistage model\n",
    "\n"
   ]
  },
  {
   "cell_type": "code",
   "execution_count": null,
   "metadata": {
    "collapsed": false,
    "jupyter": {
     "outputs_hidden": false
    }
   },
   "outputs": [],
   "source": [
    "result_info = model.metadata.result_info\n",
    "print(result_info.has_cyclic)\n",
    "print(result_info.cyclic_symmetry_type)"
   ]
  },
  {
   "cell_type": "markdown",
   "metadata": {},
   "source": [
    "Go over the cyclic support\n",
    "\n"
   ]
  },
  {
   "cell_type": "code",
   "execution_count": null,
   "metadata": {
    "collapsed": false,
    "jupyter": {
     "outputs_hidden": false
    }
   },
   "outputs": [],
   "source": [
    "cyc_support = result_info.cyclic_support\n",
    "print(\"num stages:\", cyc_support.num_stages)\n",
    "print(\"num_sectors stage 0:\", cyc_support.num_sectors(0))\n",
    "print(\"num_sectors stage 1:\", cyc_support.num_sectors(1))\n",
    "print(\n",
    "    \"num nodes in the first stage's base sector: \",\n",
    "    len(cyc_support.base_nodes_scoping(0)),\n",
    ")"
   ]
  },
  {
   "cell_type": "markdown",
   "metadata": {},
   "source": [
    "# Expand displacement results\n",
    "In this example we expand displacement results, on chosen sectors\n",
    "\n"
   ]
  },
  {
   "cell_type": "code",
   "execution_count": null,
   "metadata": {
    "collapsed": false,
    "jupyter": {
     "outputs_hidden": false
    }
   },
   "outputs": [],
   "source": [
    "# Create displacement cyclic operator\n",
    "UCyc = dpf.operators.result.cyclic_expanded_displacement()\n",
    "UCyc.inputs.data_sources(model.metadata.data_sources)\n",
    "# Select the sectors to expand on the first stage\n",
    "UCyc.inputs.sectors_to_expand([0, 1, 2])\n",
    "# Or select the sectors to expand stage by stage\n",
    "sectors_scopings = dpf.ScopingsContainer()\n",
    "sectors_scopings.labels = [\"stage\"]\n",
    "sectors_scopings.add_scoping({\"stage\": 0}, dpf.Scoping(ids=[0, 1, 2]))\n",
    "sectors_scopings.add_scoping({\"stage\": 1}, dpf.Scoping(ids=[0, 1, 2, 3, 4, 5, 6]))\n",
    "UCyc.inputs.sectors_to_expand(sectors_scopings)\n",
    "\n",
    "# expand the displacements and get a total deformation\n",
    "nrm = dpf.Operator(\"norm_fc\")\n",
    "nrm.inputs.connect(UCyc.outputs)\n",
    "fields = nrm.outputs.fields_container()\n",
    "\n",
    "# # get the expanded mesh\n",
    "mesh_provider = model.metadata.mesh_provider\n",
    "mesh_provider.inputs.read_cyclic(2)\n",
    "mesh = mesh_provider.outputs.mesh()"
   ]
  },
  {
   "cell_type": "markdown",
   "metadata": {},
   "source": [
    "# plot the expanded result on the expanded mesh\n",
    "\n"
   ]
  },
  {
   "cell_type": "code",
   "execution_count": null,
   "metadata": {
    "collapsed": false,
    "jupyter": {
     "outputs_hidden": false
    }
   },
   "outputs": [],
   "source": [
    "mesh.plot(fields)"
   ]
  },
  {
   "cell_type": "markdown",
   "metadata": {},
   "source": [
    "# Choose to expand only some sectors for the mesh\n",
    "\n"
   ]
  },
  {
   "cell_type": "code",
   "execution_count": null,
   "metadata": {
    "collapsed": false,
    "jupyter": {
     "outputs_hidden": false
    }
   },
   "outputs": [],
   "source": [
    "cyc_support_provider = ops.metadata.cyclic_support_provider(\n",
    "    data_sources=model.metadata.data_sources\n",
    ")\n",
    "cyc_support_provider.inputs.sectors_to_expand(sectors_scopings)\n",
    "mesh_exp = ops.metadata.cyclic_mesh_expansion(cyclic_support=cyc_support_provider)\n",
    "selected_sectors_mesh = mesh_exp.outputs.meshed_region()\n",
    "\n",
    "# # plot the expanded result on the expanded mesh\n",
    "selected_sectors_mesh.plot(fields)"
   ]
  },
  {
   "cell_type": "markdown",
   "metadata": {},
   "source": [
    "# Check results precisely\n",
    "\n"
   ]
  },
  {
   "cell_type": "code",
   "execution_count": null,
   "metadata": {
    "collapsed": false,
    "jupyter": {
     "outputs_hidden": false
    }
   },
   "outputs": [],
   "source": [
    "# print the time_freq_support to see the harmonic index\n",
    "print(model.metadata.time_freq_support)\n",
    "print(model.metadata.time_freq_support.get_harmonic_indices(stage_num=1).data)\n",
    "\n",
    "# harmonic index 0 means that the results are symmetric sectors by sector\n",
    "# taking a node in the base sector of the first stage\n",
    "node_id = cyc_support.base_nodes_scoping(0)[18]\n",
    "print(node_id)\n",
    "\n",
    "# check what are the expanded ids of this node\n",
    "expanded_ids = cyc_support.expand_node_id(node_id, [0, 1, 2], 0)\n",
    "print(expanded_ids.ids)\n",
    "\n",
    "# verify that the displacement values are the same on all those nodes\n",
    "for node in expanded_ids.ids:\n",
    "    print(fields[0].get_entity_data_by_id(node))"
   ]
  }
 ],
 "metadata": {
  "kernelspec": {
   "display_name": "Python 3 (ipykernel)",
   "language": "python",
   "name": "python3"
  },
  "language_info": {
   "codemirror_mode": {
    "name": "ipython",
    "version": 3
   },
   "file_extension": ".py",
   "mimetype": "text/x-python",
   "name": "python",
   "nbconvert_exporter": "python",
   "pygments_lexer": "ipython3",
   "version": "3.9.7"
  }
 },
 "nbformat": 4,
 "nbformat_minor": 4
}
