{
 "cells": [
  {
   "cell_type": "code",
   "execution_count": null,
   "metadata": {
    "collapsed": false,
    "jupyter": {
     "outputs_hidden": false
    }
   },
   "outputs": [],
   "source": [
    "%matplotlib inline"
   ]
  },
  {
   "cell_type": "markdown",
   "metadata": {},
   "source": [
    "\n",
    "\n",
    "# Scope results over custom space domains\n",
    "The ``Result`` class, which are instances created by the ``Model``, give\n",
    "access to helpers for requesting results on specific mesh and time scopings.\n",
    "With these helpers, working on a spatial subset of the model is straightforward.\n",
    "In this example, different ways to choose the spatial subset to\n",
    "evaluate a result are exposed\n",
    "\n",
    "Import necessary modules:\n"
   ]
  },
  {
   "cell_type": "code",
   "execution_count": null,
   "metadata": {
    "collapsed": false,
    "jupyter": {
     "outputs_hidden": false
    }
   },
   "outputs": [],
   "source": [
    "from ansys.dpf import core as dpf\n",
    "from ansys.dpf.core import examples"
   ]
  },
  {
   "cell_type": "markdown",
   "metadata": {},
   "source": [
    "Create a model object to establish a connection with an example result file:\n",
    "\n"
   ]
  },
  {
   "cell_type": "code",
   "execution_count": null,
   "metadata": {
    "collapsed": false,
    "jupyter": {
     "outputs_hidden": false
    }
   },
   "outputs": [],
   "source": [
    "\n",
    "local_file = examples.download_all_kinds_of_complexity()\n",
    "server_file_path = dpf.upload_file_in_tmp_folder(local_file)\n",
    "model = dpf.Model(server_file_path)\n",
    "print(model)"
   ]
  },
  {
   "cell_type": "markdown",
   "metadata": {},
   "source": [
    "# Choose specific nodes\n",
    "If some nodes or elements are specifically of interest, a nodal ``mesh_scoping``\n",
    "can be connected.\n",
    "\n"
   ]
  },
  {
   "cell_type": "code",
   "execution_count": null,
   "metadata": {
    "collapsed": false,
    "jupyter": {
     "outputs_hidden": false
    }
   },
   "outputs": [],
   "source": [
    "nodes_scoping = dpf.mesh_scoping_factory.nodal_scoping(range(400, 500))\n",
    "print(nodes_scoping)"
   ]
  },
  {
   "cell_type": "markdown",
   "metadata": {},
   "source": [
    "or\n",
    "\n"
   ]
  },
  {
   "cell_type": "code",
   "execution_count": null,
   "metadata": {
    "collapsed": false,
    "jupyter": {
     "outputs_hidden": false
    }
   },
   "outputs": [],
   "source": [
    "nodes_scoping = dpf.Scoping(ids=range(400, 500), location=dpf.locations.nodal)\n",
    "print(nodes_scoping)"
   ]
  },
  {
   "cell_type": "code",
   "execution_count": null,
   "metadata": {
    "collapsed": false,
    "jupyter": {
     "outputs_hidden": false
    }
   },
   "outputs": [],
   "source": [
    "disp = model.results.displacement.on_mesh_scoping(nodes_scoping).eval()\n",
    "\n",
    "model.metadata.meshed_region.plot(disp)"
   ]
  },
  {
   "cell_type": "markdown",
   "metadata": {},
   "source": [
    "Equivalent to:\n",
    "\n"
   ]
  },
  {
   "cell_type": "code",
   "execution_count": null,
   "metadata": {
    "collapsed": false,
    "jupyter": {
     "outputs_hidden": false
    }
   },
   "outputs": [],
   "source": [
    "disp_op = model.results.displacement()\n",
    "disp_op.inputs.mesh_scoping(nodes_scoping)\n",
    "disp = disp_op.outputs.fields_container()"
   ]
  },
  {
   "cell_type": "markdown",
   "metadata": {},
   "source": [
    "Equivalent to:\n",
    "\n"
   ]
  },
  {
   "cell_type": "code",
   "execution_count": null,
   "metadata": {
    "collapsed": false,
    "jupyter": {
     "outputs_hidden": false
    }
   },
   "outputs": [],
   "source": [
    "disp = model.results.displacement(mesh_scoping=nodes_scoping).eval()"
   ]
  },
  {
   "cell_type": "markdown",
   "metadata": {},
   "source": [
    "# Choose specific elements\n",
    "If some elements are specifically of interest, an elemental ``mesh_scoping``\n",
    "can be connected.\n",
    "\n"
   ]
  },
  {
   "cell_type": "code",
   "execution_count": null,
   "metadata": {
    "collapsed": false,
    "jupyter": {
     "outputs_hidden": false
    }
   },
   "outputs": [],
   "source": [
    "elements_scoping = dpf.mesh_scoping_factory.elemental_scoping(range(500, 5000))\n",
    "print(elements_scoping)\n",
    "\n",
    "# or\n",
    "elements_scoping = dpf.Scoping(ids=range(500, 5000), location=dpf.locations.elemental)\n",
    "print(elements_scoping)\n",
    "\n",
    "volume = model.results.elemental_volume.on_mesh_scoping(elements_scoping).eval()\n",
    "\n",
    "model.metadata.meshed_region.plot(volume)"
   ]
  },
  {
   "cell_type": "markdown",
   "metadata": {},
   "source": [
    "Equivalent to:\n",
    "\n"
   ]
  },
  {
   "cell_type": "code",
   "execution_count": null,
   "metadata": {
    "collapsed": false,
    "jupyter": {
     "outputs_hidden": false
    }
   },
   "outputs": [],
   "source": [
    "volume_op = model.results.elemental_volume()\n",
    "volume_op.inputs.mesh_scoping(elements_scoping)\n",
    "volume = volume_op.outputs.fields_container()"
   ]
  },
  {
   "cell_type": "markdown",
   "metadata": {},
   "source": [
    "Equivalent to:\n",
    "\n"
   ]
  },
  {
   "cell_type": "code",
   "execution_count": null,
   "metadata": {
    "collapsed": false,
    "jupyter": {
     "outputs_hidden": false
    }
   },
   "outputs": [],
   "source": [
    "volume = model.results.elemental_volume(mesh_scoping=elements_scoping).eval()"
   ]
  },
  {
   "cell_type": "markdown",
   "metadata": {},
   "source": [
    "# Choose specific named selections\n",
    "Named selections (also known as components) can be selected to create\n",
    "a spatial domain for a result. A ``mesh_scoping`` can be created with a\n",
    "named selection.\n",
    "To know the available named selections in the result file, use:\n",
    "\n"
   ]
  },
  {
   "cell_type": "code",
   "execution_count": null,
   "metadata": {
    "collapsed": false,
    "jupyter": {
     "outputs_hidden": false
    }
   },
   "outputs": [],
   "source": [
    "print(model.metadata.available_named_selections)"
   ]
  },
  {
   "cell_type": "markdown",
   "metadata": {},
   "source": [
    "Get the ``mesh_scoping`` of a named selection:\n",
    "\n"
   ]
  },
  {
   "cell_type": "code",
   "execution_count": null,
   "metadata": {
    "collapsed": false,
    "jupyter": {
     "outputs_hidden": false
    }
   },
   "outputs": [],
   "source": [
    "mesh_scoping = model.metadata.named_selection('_CM82')\n",
    "print(mesh_scoping)"
   ]
  },
  {
   "cell_type": "markdown",
   "metadata": {},
   "source": [
    "Connect this ``mesh_scoping`` to the result provider\n",
    "\n"
   ]
  },
  {
   "cell_type": "code",
   "execution_count": null,
   "metadata": {
    "collapsed": false,
    "jupyter": {
     "outputs_hidden": false
    }
   },
   "outputs": [],
   "source": [
    "volume = model.results.elemental_volume(mesh_scoping=mesh_scoping).eval()\n",
    "model.metadata.meshed_region.plot(volume)"
   ]
  },
  {
   "cell_type": "markdown",
   "metadata": {},
   "source": [
    "Equivalent to:\n",
    "\n"
   ]
  },
  {
   "cell_type": "code",
   "execution_count": null,
   "metadata": {
    "collapsed": false,
    "jupyter": {
     "outputs_hidden": false
    }
   },
   "outputs": [],
   "source": [
    "volume = model.results.elemental_volume.on_named_selection('_CM82')"
   ]
  },
  {
   "cell_type": "markdown",
   "metadata": {},
   "source": [
    "Equivalent to:\n",
    "\n"
   ]
  },
  {
   "cell_type": "code",
   "execution_count": null,
   "metadata": {
    "collapsed": false,
    "jupyter": {
     "outputs_hidden": false
    }
   },
   "outputs": [],
   "source": [
    "ns_provider = dpf.operators.scoping.on_named_selection(\n",
    "    requested_location=dpf.locations.elemental,\n",
    "    named_selection_name='_CM82',\n",
    "    data_sources=model,\n",
    ")\n",
    "volume = model.results.elemental_volume(mesh_scoping=ns_provider).eval()"
   ]
  },
  {
   "cell_type": "markdown",
   "metadata": {},
   "source": [
    "# Split results depending on spatial properties\n",
    "For many applications, it can be useful to request results on different subsets\n",
    "of the model. The ``ScopingsContainer`` entity contains different ``Scopings``\n",
    "and can be connected to any result provider to get results split with the\n",
    "same partition as the input ``ScopingsContainer``.\n",
    "For example, some application require to get results split by body, by material,\n",
    "by element types. It might also be necessary to get results by element shape types\n",
    "(shell, solid, beam) to average data properly...\n",
    "Customers might also require split by entirely custom spatial domains.\n",
    "\n"
   ]
  },
  {
   "cell_type": "markdown",
   "metadata": {},
   "source": [
    "Split results by element shapes\n",
    "\n"
   ]
  },
  {
   "cell_type": "code",
   "execution_count": null,
   "metadata": {
    "collapsed": false,
    "jupyter": {
     "outputs_hidden": false
    }
   },
   "outputs": [],
   "source": [
    "stress = model.results.stress.split_by_shape.on_location(dpf.locations.nodal).eval()\n",
    "print(stress)\n",
    "\n",
    "shell_stresses = stress.shell_fields()\n",
    "model.metadata.meshed_region.plot(shell_stresses[0])\n",
    "\n",
    "solid_stresses = stress.solid_fields()\n",
    "model.metadata.meshed_region.plot(solid_stresses[0])"
   ]
  },
  {
   "cell_type": "markdown",
   "metadata": {},
   "source": [
    "Split results by bodies\n",
    "\n"
   ]
  },
  {
   "cell_type": "code",
   "execution_count": null,
   "metadata": {
    "collapsed": false,
    "jupyter": {
     "outputs_hidden": false
    }
   },
   "outputs": [],
   "source": [
    "stress = model.results.stress.split_by_body.on_location(dpf.locations.nodal).eval()\n",
    "print(stress)\n",
    "\n",
    "for body_id in stress.get_mat_scoping().ids:\n",
    "    fields = stress.get_fields_by_mat_id(body_id)\n",
    "    for field in fields:\n",
    "        if field.elementary_data_count > 0:\n",
    "            model.metadata.meshed_region.plot(field)"
   ]
  },
  {
   "cell_type": "markdown",
   "metadata": {},
   "source": [
    "Create a custom spatial split\n",
    "\n"
   ]
  },
  {
   "cell_type": "code",
   "execution_count": null,
   "metadata": {
    "collapsed": false,
    "jupyter": {
     "outputs_hidden": false
    }
   },
   "outputs": [],
   "source": [
    "scopings_container = dpf.ScopingsContainer()\n",
    "scopings_container.add_label(\"custom_split\")\n",
    "scopings_container.add_scoping(\n",
    "    {\"custom_split\": 1},\n",
    "    dpf.Scoping(ids=range(100, 500), location=dpf.locations.elemental),\n",
    ")\n",
    "scopings_container.add_scoping(\n",
    "    {\"custom_split\": 2},\n",
    "    dpf.Scoping(ids=range(500, 5000), location=dpf.locations.elemental),\n",
    ")"
   ]
  },
  {
   "cell_type": "code",
   "execution_count": null,
   "metadata": {
    "collapsed": false,
    "jupyter": {
     "outputs_hidden": false
    }
   },
   "outputs": [],
   "source": [
    "elemental_stress = model.results.stress.on_location(dpf.locations.elemental)(\n",
    "    mesh_scoping=scopings_container) \\\n",
    "    .eval()\n",
    "print(elemental_stress)\n",
    "\n",
    "for field in elemental_stress:\n",
    "    model.metadata.meshed_region.plot(field)"
   ]
  }
 ],
 "metadata": {
  "kernelspec": {
   "display_name": "Python 3 (ipykernel)",
   "language": "python",
   "name": "python3"
  },
  "language_info": {
   "codemirror_mode": {
    "name": "ipython",
    "version": 3
   },
   "file_extension": ".py",
   "mimetype": "text/x-python",
   "name": "python",
   "nbconvert_exporter": "python",
   "pygments_lexer": "ipython3",
   "version": "3.9.7"
  }
 },
 "nbformat": 4,
 "nbformat_minor": 4
}
