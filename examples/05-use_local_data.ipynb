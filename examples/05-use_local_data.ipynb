{
 "cells": [
  {
   "cell_type": "code",
   "execution_count": null,
   "metadata": {
    "collapsed": false,
    "jupyter": {
     "outputs_hidden": false
    }
   },
   "outputs": [],
   "source": [
    "%matplotlib inline"
   ]
  },
  {
   "cell_type": "markdown",
   "metadata": {},
   "source": [
    "\n",
    "\n",
    "# Bring a Field's Data Locally to Improve Performance\n",
    "Reducing the number of calls to the server is key to improving\n",
    "performance. Using the ``as_local_field`` option brings the data\n",
    "from the server to your local machine where you can work on it.\n",
    "When finished, you send the updated data back to the server\n",
    "in one transaction.\n",
    "\n",
    "Import necessary modules:\n"
   ]
  },
  {
   "cell_type": "code",
   "execution_count": null,
   "metadata": {
    "collapsed": false,
    "jupyter": {
     "outputs_hidden": false
    }
   },
   "outputs": [],
   "source": [
    "from ansys.dpf import core as dpf\n",
    "from ansys.dpf.core import examples\n",
    "from ansys.dpf.core import operators as ops\n",
    "from ansys.jupyterhub.manager import spawn_dpf, delete_pod"
   ]
  },
  {
   "cell_type": "markdown",
   "metadata": {},
   "source": [
    "Create a model object to establish a connection with an\n",
    "example result file and then extract:\n",
    "\n"
   ]
  },
  {
   "cell_type": "code",
   "execution_count": null,
   "metadata": {
    "collapsed": false,
    "jupyter": {
     "outputs_hidden": false
    }
   },
   "outputs": [],
   "source": [
    "server, pod_name = spawn_dpf()\n",
    "local_file_path = examples.download_multi_stage_cyclic_result()\n",
    "server_file_path = dpf.upload_file_in_tmp_folder(local_file_path, server=server)\n",
    "model = dpf.Model(server_file_path)\n",
    "print(model)"
   ]
  },
  {
   "cell_type": "markdown",
   "metadata": {},
   "source": [
    "# Create the Workflow\n",
    "Maximum principal stress usually occurs on the skin of the\n",
    "model. Computing results only on this skin reduces the data size.\n",
    "\n"
   ]
  },
  {
   "cell_type": "code",
   "execution_count": null,
   "metadata": {
    "collapsed": false,
    "jupyter": {
     "outputs_hidden": false
    }
   },
   "outputs": [],
   "source": [
    "# Create a simple workflow computing the principal stress on the skin\n",
    "# of the model.\n",
    "\n",
    "skin_op = ops.mesh.external_layer(model.metadata.meshed_region)\n",
    "skin_mesh = skin_op.outputs.mesh()"
   ]
  },
  {
   "cell_type": "markdown",
   "metadata": {},
   "source": [
    "Plot the mesh skin:\n",
    "\n"
   ]
  },
  {
   "cell_type": "code",
   "execution_count": null,
   "metadata": {
    "collapsed": false,
    "jupyter": {
     "outputs_hidden": false
    }
   },
   "outputs": [],
   "source": [
    "skin_mesh.plot()"
   ]
  },
  {
   "cell_type": "markdown",
   "metadata": {},
   "source": [
    "Compute the stress principal inveriants on the skin nodes only:\n",
    "\n"
   ]
  },
  {
   "cell_type": "code",
   "execution_count": null,
   "metadata": {
    "collapsed": false,
    "jupyter": {
     "outputs_hidden": false
    }
   },
   "outputs": [],
   "source": [
    "stress_op = ops.result.stress(data_sources=model.metadata.data_sources)\n",
    "stress_op.inputs.requested_location.connect(dpf.locations.nodal)\n",
    "stress_op.inputs.mesh_scoping.connect(skin_op.outputs.nodes_mesh_scoping)\n",
    "\n",
    "principal_op = ops.invariant.principal_invariants_fc(stress_op)\n",
    "principal_stress_1 = principal_op.outputs.fields_eig_1()[0]\n",
    "principal_stress_2 = principal_op.outputs.fields_eig_2()[0]\n",
    "principal_stress_3 = principal_op.outputs.fields_eig_3()[0]"
   ]
  },
  {
   "cell_type": "markdown",
   "metadata": {},
   "source": [
    "# Manipulate Data Locally\n",
    "\n"
   ]
  },
  {
   "cell_type": "markdown",
   "metadata": {},
   "source": [
    "This example goes over the fields, keeping the largest invariant value\n",
    "by node if the averaged value of invariants is large enough.\n",
    "Exploring data allows you to customize it to meet your needs.\n",
    "\n"
   ]
  },
  {
   "cell_type": "code",
   "execution_count": null,
   "metadata": {
    "collapsed": false,
    "jupyter": {
     "outputs_hidden": false
    }
   },
   "outputs": [],
   "source": [
    "node_scoping_ids = principal_stress_1.scoping.ids\n",
    "threshold = 300000.0\n",
    "\n",
    "field_to_keep = dpf.fields_factory.create_scalar_field(\n",
    "    len(node_scoping_ids), location=dpf.locations.nodal\n",
    ")\n",
    "\n",
    "with field_to_keep.as_local_field() as f:\n",
    "    with principal_stress_1.as_local_field() as s1:\n",
    "        with principal_stress_2.as_local_field() as s2:\n",
    "            with principal_stress_3.as_local_field() as s3:\n",
    "                for i, id in enumerate(node_scoping_ids):\n",
    "                    d1 = abs(s1.get_entity_data_by_id(id))\n",
    "                    d2 = abs(s2.get_entity_data_by_id(id))\n",
    "                    d3 = abs(s3.get_entity_data_by_id(id))\n",
    "                    if (d1 + d2 + d3) / 3.0 > threshold:\n",
    "                        d = max(d1, d2, d3)\n",
    "                        f.append(d, id)"
   ]
  },
  {
   "cell_type": "markdown",
   "metadata": {},
   "source": [
    "# Plot Result Field\n",
    "\n"
   ]
  },
  {
   "cell_type": "markdown",
   "metadata": {},
   "source": [
    "Plot the result field on the skin mesh:\n",
    "\n"
   ]
  },
  {
   "cell_type": "code",
   "execution_count": null,
   "metadata": {
    "collapsed": false,
    "jupyter": {
     "outputs_hidden": false
    }
   },
   "outputs": [],
   "source": [
    "skin_mesh.plot(field_to_keep)"
   ]
  },
  {
   "cell_type": "markdown",
   "metadata": {},
   "source": [
    "# Plot Initial Invariants\n",
    "\n"
   ]
  },
  {
   "cell_type": "markdown",
   "metadata": {},
   "source": [
    "Plot the initial invariants on the skin mesh:\n",
    "\n"
   ]
  },
  {
   "cell_type": "code",
   "execution_count": null,
   "metadata": {
    "collapsed": false,
    "jupyter": {
     "outputs_hidden": false
    }
   },
   "outputs": [],
   "source": [
    "skin_mesh.plot(principal_stress_1)\n",
    "skin_mesh.plot(principal_stress_2)\n",
    "skin_mesh.plot(principal_stress_3)"
   ]
  },
  {
   "cell_type": "code",
   "execution_count": null,
   "metadata": {},
   "outputs": [],
   "source": [
    "delete_pod(pod_name)"
   ]
  },
  {
   "cell_type": "code",
   "execution_count": null,
   "metadata": {},
   "outputs": [],
   "source": []
  }
 ],
 "metadata": {
  "kernelspec": {
   "display_name": "Python 3 (ipykernel)",
   "language": "python",
   "name": "python3"
  },
  "language_info": {
   "codemirror_mode": {
    "name": "ipython",
    "version": 3
   },
   "file_extension": ".py",
   "mimetype": "text/x-python",
   "name": "python",
   "nbconvert_exporter": "python",
   "pygments_lexer": "ipython3",
   "version": "3.9.7"
  }
 },
 "nbformat": 4,
 "nbformat_minor": 4
}
