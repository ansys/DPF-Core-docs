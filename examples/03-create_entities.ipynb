{
 "cells": [
  {
   "cell_type": "code",
   "execution_count": null,
   "metadata": {
    "collapsed": false,
    "jupyter": {
     "outputs_hidden": false
    }
   },
   "outputs": [],
   "source": [
    "%matplotlib inline"
   ]
  },
  {
   "cell_type": "markdown",
   "metadata": {},
   "source": [
    "\n",
    "\n",
    "# Create Your Own Entities Use DPF Operators\n",
    "You can create your field, fields container, or meshed region to use DPF operators\n",
    "with your own data. The ability to use scripting to create any DPF entity means\n",
    "that you are not dependent on result files and can connect the DPF environment\n",
    "with any Python tool.\n",
    "\n",
    "Import necessary modules:\n"
   ]
  },
  {
   "cell_type": "code",
   "execution_count": null,
   "metadata": {
    "collapsed": false,
    "jupyter": {
     "outputs_hidden": false
    }
   },
   "outputs": [],
   "source": [
    "import numpy as np\n",
    "\n",
    "from ansys.dpf import core as dpf\n",
    "from ansys.dpf.core import operators as ops\n",
    "from ansys.jupyterhub.manager import spawn_dpf, delete_pod"
   ]
  },
  {
   "cell_type": "markdown",
   "metadata": {},
   "source": [
    "Create a parallel piped mesh made of linear hexa:\n",
    "\n"
   ]
  },
  {
   "cell_type": "code",
   "execution_count": null,
   "metadata": {
    "collapsed": false,
    "jupyter": {
     "outputs_hidden": false
    }
   },
   "outputs": [],
   "source": [
    "server, pod_name = spawn_dpf()\n",
    "length = 0.1\n",
    "width = 0.05\n",
    "depth = 0.1\n",
    "num_nodes_in_length = 10\n",
    "num_nodes_in_width = 5\n",
    "num_nodes_in_depth = 10\n",
    "mesh = dpf.MeshedRegion()\n",
    "\n",
    "\n",
    "def search_sequence_numpy(arr, seq):\n",
    "    indexes = np.where(np.isclose(arr, seq[0]))\n",
    "    for index in np.nditer(indexes[0]):\n",
    "        if index % 3 == 0:\n",
    "            if np.allclose(arr[index + 1], seq[1]) and np.allclose(\n",
    "                    arr[index + 2], seq[2]\n",
    "            ):\n",
    "                return index\n",
    "    return -1"
   ]
  },
  {
   "cell_type": "markdown",
   "metadata": {},
   "source": [
    "Add nodes:\n",
    "\n"
   ]
  },
  {
   "cell_type": "code",
   "execution_count": null,
   "metadata": {
    "collapsed": false,
    "jupyter": {
     "outputs_hidden": false
    }
   },
   "outputs": [],
   "source": [
    "id = 1\n",
    "for i, x in enumerate(\n",
    "        [\n",
    "            float(i) * length / float(num_nodes_in_length)\n",
    "            for i in range(0, num_nodes_in_length)\n",
    "        ]\n",
    "):\n",
    "    for j, y in enumerate(\n",
    "            [\n",
    "                float(i) * width / float(num_nodes_in_width)\n",
    "                for i in range(0, num_nodes_in_width)\n",
    "            ]\n",
    "    ):\n",
    "        for k, z in enumerate(\n",
    "                [\n",
    "                    float(i) * depth / float(num_nodes_in_depth)\n",
    "                    for i in range(0, num_nodes_in_depth)\n",
    "                ]\n",
    "        ):\n",
    "            mesh.nodes.add_node(id, [x, y, z])\n",
    "            id += 1"
   ]
  },
  {
   "cell_type": "markdown",
   "metadata": {},
   "source": [
    "Get the nodes' coordinates field:\n",
    "\n"
   ]
  },
  {
   "cell_type": "code",
   "execution_count": null,
   "metadata": {
    "collapsed": false,
    "jupyter": {
     "outputs_hidden": false
    }
   },
   "outputs": [],
   "source": [
    "coordinates = mesh.nodes.coordinates_field"
   ]
  },
  {
   "cell_type": "markdown",
   "metadata": {},
   "source": [
    "Set the mesh unit:\n",
    "\n"
   ]
  },
  {
   "cell_type": "code",
   "execution_count": null,
   "metadata": {
    "collapsed": false,
    "jupyter": {
     "outputs_hidden": false
    }
   },
   "outputs": [],
   "source": [
    "mesh.unit = \"mm\"\n",
    "\n",
    "coordinates_data = coordinates.data\n",
    "flat_coordinates_data = coordinates_data.reshape(coordinates_data.size)\n",
    "coordinates_scoping = coordinates.scoping"
   ]
  },
  {
   "cell_type": "markdown",
   "metadata": {},
   "source": [
    "Add solid elements (linear hexa with eight nodes):\n",
    "\n"
   ]
  },
  {
   "cell_type": "code",
   "execution_count": null,
   "metadata": {
    "collapsed": false,
    "jupyter": {
     "outputs_hidden": false
    }
   },
   "outputs": [],
   "source": [
    "id = 1\n",
    "for i, x in enumerate(\n",
    "        [\n",
    "            float(i) * length / float(num_nodes_in_length)\n",
    "            for i in range(0, num_nodes_in_length - 1)\n",
    "        ]\n",
    "):\n",
    "    for j, y in enumerate(\n",
    "            [\n",
    "                float(i) * width / float(num_nodes_in_width)\n",
    "                for i in range(0, num_nodes_in_width - 1)\n",
    "            ]\n",
    "    ):\n",
    "        for k, z in enumerate(\n",
    "                [\n",
    "                    float(i) * depth / float(num_nodes_in_depth)\n",
    "                    for i in range(0, num_nodes_in_depth - 1)\n",
    "                ]\n",
    "        ):\n",
    "            coord1 = np.array([x, y, z])\n",
    "            connectivity = []\n",
    "            for xx in [x, x + length / float(num_nodes_in_length)]:\n",
    "                for yy in [y, y + width / float(num_nodes_in_width)]:\n",
    "                    for zz in [z, z + depth / float(num_nodes_in_depth)]:\n",
    "                        data_index = search_sequence_numpy(\n",
    "                            flat_coordinates_data, [xx, yy, zz]\n",
    "                        )\n",
    "                        scoping_index = int(data_index / 3)  # 3components\n",
    "                        connectivity.append(scoping_index)\n",
    "            # rearrange connectivity\n",
    "            tmp = connectivity[2]\n",
    "            connectivity[2] = connectivity[3]\n",
    "            connectivity[3] = tmp\n",
    "            tmp = connectivity[6]\n",
    "            connectivity[6] = connectivity[7]\n",
    "            connectivity[7] = tmp\n",
    "            mesh.elements.add_solid_element(id, connectivity)\n",
    "mesh.plot()"
   ]
  },
  {
   "cell_type": "markdown",
   "metadata": {},
   "source": [
    "Create displacement fields over time with three time sets.\n",
    "Here the displacement on each node will be the value of its x, y, and\n",
    "z coordinates for time 1.\n",
    "The displacement on each node will be two times the value of its x, y,\n",
    "and z coordinates for time 2.\n",
    "The displacement on each node will be three times the value of its x,\n",
    "y, and z coordinates for time 3.\n",
    "\n"
   ]
  },
  {
   "cell_type": "code",
   "execution_count": null,
   "metadata": {
    "collapsed": false,
    "jupyter": {
     "outputs_hidden": false
    }
   },
   "outputs": [],
   "source": [
    "num_nodes = mesh.nodes.n_nodes\n",
    "time1_array = coordinates_data\n",
    "time2_array = 2.0 * coordinates_data\n",
    "time3_array = 3.0 * coordinates_data\n",
    "\n",
    "time1_field = dpf.fields_factory.create_3d_vector_field(num_nodes)\n",
    "time2_field = dpf.fields_factory.create_3d_vector_field(num_nodes)\n",
    "time3_field = dpf.fields_factory.create_3d_vector_field(num_nodes)\n",
    "\n",
    "time1_field.scoping = coordinates.scoping\n",
    "time2_field.scoping = coordinates.scoping\n",
    "time3_field.scoping = coordinates.scoping\n",
    "\n",
    "time1_field.data = time1_array\n",
    "time2_field.data = time2_array\n",
    "time3_field.data = time3_array\n",
    "\n",
    "time1_field.unit = mesh.unit\n",
    "time2_field.unit = mesh.unit\n",
    "time3_field.unit = mesh.unit"
   ]
  },
  {
   "cell_type": "markdown",
   "metadata": {},
   "source": [
    "Create results over times in a fields container with its time frequency support:\n",
    "\n"
   ]
  },
  {
   "cell_type": "code",
   "execution_count": null,
   "metadata": {
    "collapsed": false,
    "jupyter": {
     "outputs_hidden": false
    }
   },
   "outputs": [],
   "source": [
    "fc = dpf.fields_container_factory.over_time_freq_fields_container(\n",
    "    {0.1: time1_field, 0.2: time2_field, 0.3: time3_field}, \"s\"\n",
    ")"
   ]
  },
  {
   "cell_type": "markdown",
   "metadata": {},
   "source": [
    "Check that the time frequency support has been built:\n",
    "\n"
   ]
  },
  {
   "cell_type": "code",
   "execution_count": null,
   "metadata": {
    "collapsed": false,
    "jupyter": {
     "outputs_hidden": false
    }
   },
   "outputs": [],
   "source": [
    "print(fc.time_freq_support)"
   ]
  },
  {
   "cell_type": "markdown",
   "metadata": {},
   "source": [
    "Plot the norm over time of the fields container:\n",
    "\n"
   ]
  },
  {
   "cell_type": "code",
   "execution_count": null,
   "metadata": {
    "collapsed": false,
    "jupyter": {
     "outputs_hidden": false
    }
   },
   "outputs": [],
   "source": [
    "norm = ops.math.norm_fc(fc)\n",
    "fc_norm = norm.outputs.fields_container()\n",
    "mesh.plot(fc_norm.get_field_by_time_complex_ids(1))\n",
    "mesh.plot(fc_norm.get_field_by_time_complex_ids(2))\n",
    "mesh.plot(fc_norm.get_field_by_time_complex_ids(3))"
   ]
  },
  {
   "cell_type": "code",
   "execution_count": null,
   "metadata": {},
   "outputs": [],
   "source": [
    "delete_pod(pod_name)"
   ]
  },
  {
   "cell_type": "code",
   "execution_count": null,
   "metadata": {},
   "outputs": [],
   "source": []
  }
 ],
 "metadata": {
  "kernelspec": {
   "display_name": "Python 3 (ipykernel)",
   "language": "python",
   "name": "python3"
  },
  "language_info": {
   "codemirror_mode": {
    "name": "ipython",
    "version": 3
   },
   "file_extension": ".py",
   "mimetype": "text/x-python",
   "name": "python",
   "nbconvert_exporter": "python",
   "pygments_lexer": "ipython3",
   "version": "3.9.7"
  }
 },
 "nbformat": 4,
 "nbformat_minor": 4
}
