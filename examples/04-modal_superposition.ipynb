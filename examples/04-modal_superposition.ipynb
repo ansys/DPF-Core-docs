{
 "cells": [
  {
   "cell_type": "code",
   "execution_count": null,
   "metadata": {
    "collapsed": false,
    "jupyter": {
     "outputs_hidden": false
    }
   },
   "outputs": [],
   "source": [
    "%matplotlib inline"
   ]
  },
  {
   "cell_type": "markdown",
   "metadata": {},
   "source": [
    "\n",
    "\n",
    "# Expand Harmonic Modal Superposition with DPF\n",
    "Different types of linear dynamics expansions are implemented in DPF.\n",
    "With modal superposition used in harmonic analysis, modal coefficients\n",
    "are multiplied by mode shapes (of a previous modal analysis) to analyse\n",
    "a structure under given boundary conditions in a range of frequencies.\n",
    "Doing this expansion \"on demand\" in DPF instead of in the solver\n",
    "reduces the size of the result files.\n"
   ]
  },
  {
   "cell_type": "code",
   "execution_count": null,
   "metadata": {
    "collapsed": false,
    "jupyter": {
     "outputs_hidden": false
    }
   },
   "outputs": [],
   "source": [
    "from ansys.dpf import core as dpf\n",
    "from ansys.dpf.core import examples"
   ]
  },
  {
   "cell_type": "markdown",
   "metadata": {},
   "source": [
    "# Create the data sources\n",
    "First create a data sources with the mode shapes and the modal response\n",
    "The expansion is recursive in dpf: first the modal response is red,\n",
    "then, \"upstreams\" mode shapes are found in the data sources, so they\n",
    "are red and expanded (mode shapes x modal response)\n",
    "\n"
   ]
  },
  {
   "cell_type": "code",
   "execution_count": null,
   "metadata": {
    "collapsed": false,
    "jupyter": {
     "outputs_hidden": false
    }
   },
   "outputs": [],
   "source": [
    "\n",
    "local_msup_files = examples.download_msup_files_to_dict()\n",
    "server_file_paths = [dpf.upload_file_in_tmp_folder(local_msup_files[\"rfrq\"]),\n",
    "                     dpf.upload_file_in_tmp_folder(local_msup_files[\"mode\"]),\n",
    "                     dpf.upload_file_in_tmp_folder(local_msup_files[\"rst\"])]\n",
    "data_sources = dpf.DataSources(server_file_paths[0])\n",
    "up_stream_data_sources = dpf.DataSources(server_file_paths[1])\n",
    "up_stream_data_sources.add_file_path(server_file_paths[2])\n",
    "\n",
    "data_sources.add_upstream(up_stream_data_sources)"
   ]
  },
  {
   "cell_type": "markdown",
   "metadata": {},
   "source": [
    "# Compute displacements\n",
    "Once the recursivity is put in the data sources (with add_upstream)\n",
    "computing displacements with or without expansion, in harmonic, transient\n",
    "or modal analysis has the exact same syntax\n",
    "\n"
   ]
  },
  {
   "cell_type": "code",
   "execution_count": null,
   "metadata": {
    "collapsed": false,
    "jupyter": {
     "outputs_hidden": false
    }
   },
   "outputs": [],
   "source": [
    "model = dpf.Model(data_sources)\n",
    "disp = model.results.displacement.on_all_time_freqs.eval()\n",
    "\n",
    "freq_scoping = disp.get_time_scoping()\n",
    "for freq_set in freq_scoping:\n",
    "    model.metadata.meshed_region.plot(disp.get_field_by_time_complex_ids(freq_set, 0))"
   ]
  }
 ],
 "metadata": {
  "kernelspec": {
   "display_name": "Python 3 (ipykernel)",
   "language": "python",
   "name": "python3"
  },
  "language_info": {
   "codemirror_mode": {
    "name": "ipython",
    "version": 3
   },
   "file_extension": ".py",
   "mimetype": "text/x-python",
   "name": "python",
   "nbconvert_exporter": "python",
   "pygments_lexer": "ipython3",
   "version": "3.9.7"
  }
 },
 "nbformat": 4,
 "nbformat_minor": 4
}
