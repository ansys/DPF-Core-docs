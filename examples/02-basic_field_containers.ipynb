{
 "cells": [
  {
   "cell_type": "code",
   "execution_count": 1,
   "metadata": {
    "collapsed": false,
    "jupyter": {
     "outputs_hidden": false
    }
   },
   "outputs": [],
   "source": [
    "%matplotlib inline"
   ]
  },
  {
   "cell_type": "markdown",
   "metadata": {},
   "source": [
    "# Field and field containers overview {#ref_basic_field_example}\n",
    "\n",
    "In DPF, the field is the main simulation data container. During a\n",
    "numerical simulation, the result data is defined by values associated to\n",
    "entities (scoping). These entities are a subset of a model (support).\n",
    "\n",
    "Because the field data is always associated to its scoping and support,\n",
    "the field is a self-describing piece of data. A field is also defined by\n",
    "its parameters, such as dimensionality, unit, and location. For example,\n",
    "a field can describe any of the following:\n",
    "\n",
    "-   Displacement vector\n",
    "-   Norm, stress, or strain tensor\n",
    "-   Stress or strain equivalent\n",
    "-   Minimum or maximum over time of any result.\n",
    "\n",
    "A field can be defined on a complete model or on only certain entities\n",
    "of the model based on its scoping. The data is stored as a vector of\n",
    "double values, and each elementary entity has a number of components.\n",
    "For example, a displacement has three components, and a symmetrical\n",
    "stress matrix has six components.\n",
    "\n",
    "In DPF, a fields container is simply a collection of fields that can be\n",
    "indexed, just like a Python list. Operators applied to a fields\n",
    "container have each individual field operated on. Fields containers are\n",
    "outputs from operators.\n"
   ]
  },
  {
   "cell_type": "code",
   "execution_count": 2,
   "metadata": {
    "collapsed": false,
    "jupyter": {
     "outputs_hidden": false
    }
   },
   "outputs": [],
   "source": [
    "# First, import necessary modules\n",
    "import numpy as np\n",
    "\n",
    "from ansys.dpf import core as dpf\n",
    "from ansys.dpf.core import examples"
   ]
  },
  {
   "cell_type": "markdown",
   "metadata": {},
   "source": [
    "Create a model object to establish a connection with an example result\n",
    "file and then extract:\n"
   ]
  },
  {
   "cell_type": "code",
   "execution_count": 3,
   "metadata": {
    "collapsed": false,
    "jupyter": {
     "outputs_hidden": false
    }
   },
   "outputs": [
    {
     "name": "stdout",
     "output_type": "stream",
     "text": [
      "DPF Model\n",
      "------------------------------\n",
      "Static analysis\n",
      "Unit system: MKS: m, kg, N, s, V, A, degC\n",
      "Physics Type: Mechanical\n",
      "Available results:\n",
      "     -  displacement: Nodal Displacement\n",
      "     -  reaction_force: Nodal Force   \n",
      "     -  stress: ElementalNodal Stress \n",
      "     -  elemental_volume: Elemental Volume\n",
      "     -  stiffness_matrix_energy: Elemental Energy-stiffness matrix\n",
      "     -  artificial_hourglass_energy: Elemental Hourglass Energy\n",
      "     -  thermal_dissipation_energy: Elemental thermal dissipation energy\n",
      "     -  kinetic_energy: Elemental Kinetic Energy\n",
      "     -  co_energy: Elemental co-energy\n",
      "     -  incremental_energy: Elemental incremental energy\n",
      "     -  elastic_strain: ElementalNodal Strain\n",
      "     -  structural_temperature: ElementalNodal Temperature\n",
      "------------------------------\n",
      "DPF  Meshed Region: \n",
      "  81 nodes \n",
      "  8 elements \n",
      "  Unit: m \n",
      "  With solid (3D) elements\n",
      "------------------------------\n",
      "DPF  Time/Freq Support: \n",
      "  Number of sets: 1 \n",
      "Cumulative     Time (s)       LoadStep       Substep         \n",
      "1              1.000000       1              1               \n",
      "\n"
     ]
    }
   ],
   "source": [
    "model = dpf.Model(examples.find_static_rst())\n",
    "print(model)"
   ]
  },
  {
   "cell_type": "markdown",
   "metadata": {},
   "source": [
    "Create the displacement operator directly from the `results` property\n",
    "and extract the displacement fields container:\n"
   ]
  },
  {
   "cell_type": "code",
   "execution_count": 4,
   "metadata": {
    "collapsed": false,
    "jupyter": {
     "outputs_hidden": false
    }
   },
   "outputs": [
    {
     "name": "stdout",
     "output_type": "stream",
     "text": [
      "DPF displacement(s)Fields Container\n",
      "  with 1 field(s)\n",
      "  defined on labels: time \n",
      "\n",
      "  with:\n",
      "  - field 0 {time:  1} with Nodal location, 3 components and 81 entities.\n",
      "\n"
     ]
    }
   ],
   "source": [
    "disp_op = model.results.displacement()\n",
    "fields = disp_op.outputs.fields_container()\n",
    "print(fields)"
   ]
  },
  {
   "cell_type": "markdown",
   "metadata": {},
   "source": [
    "A field can be extracted from a fields container by simply indexing the\n",
    "requested field:\n"
   ]
  },
  {
   "cell_type": "code",
   "execution_count": 5,
   "metadata": {
    "collapsed": false,
    "jupyter": {
     "outputs_hidden": false
    }
   },
   "outputs": [
    {
     "name": "stdout",
     "output_type": "stream",
     "text": [
      "DPF displacement_1.s Field\n",
      "  Location: Nodal\n",
      "  Unit: m\n",
      "  81 entities \n",
      "  Data: 3 components and 81 elementary data \n",
      "\n",
      "  Nodal\n",
      "  IDs                   data (m)\n",
      "  ------------          ----------\n",
      "  1                     -3.319046e-22   -6.935660e-09   -3.286174e-22\n",
      "                     \n",
      "  26                     2.230265e-09   -7.142140e-09   -2.920779e-22\n",
      "                     \n",
      "  14                     0.000000e+00    0.000000e+00    0.000000e+00\n",
      "                     \n",
      "  ...\n",
      "\n",
      "\n"
     ]
    }
   ],
   "source": [
    "field = fields[0]\n",
    "print(field)"
   ]
  },
  {
   "cell_type": "markdown",
   "metadata": {},
   "source": [
    "# Extract data from a field\n",
    "\n",
    "You can extract all the data from a given field using the `data`\n",
    "property. This returns a `numpy` array.\n"
   ]
  },
  {
   "cell_type": "code",
   "execution_count": 6,
   "metadata": {
    "collapsed": false,
    "jupyter": {
     "outputs_hidden": false
    }
   },
   "outputs": [
    {
     "name": "stdout",
     "output_type": "stream",
     "text": [
      "[[-3.31904602e-22 -6.93565975e-09 -3.28617350e-22]\n",
      " [ 2.23026491e-09 -7.14214033e-09 -2.92077883e-22]\n",
      " [ 0.00000000e+00  0.00000000e+00  0.00000000e+00]\n",
      " [ 0.00000000e+00  0.00000000e+00  0.00000000e+00]\n",
      " [-3.01173895e-22 -7.14214033e-09 -2.23026491e-09]\n",
      " [ 2.09077164e-09 -7.33058082e-09 -2.09077164e-09]\n",
      " [ 0.00000000e+00  0.00000000e+00  0.00000000e+00]\n",
      " [ 0.00000000e+00  0.00000000e+00  0.00000000e+00]\n",
      " [ 1.06212713e-09 -6.89858785e-09 -3.77906905e-22]\n",
      " [ 1.89019831e-09 -3.34398104e-09  1.43440783e-23]\n",
      " [ 0.00000000e+00  0.00000000e+00  0.00000000e+00]\n",
      " [-2.71912713e-23 -2.92690969e-09 -2.33676924e-23]\n",
      " [ 1.01364486e-09 -7.10540890e-09 -2.14726184e-09]\n",
      " [ 1.89155604e-09 -3.73823999e-09 -1.89155604e-09]\n",
      " [ 0.00000000e+00  0.00000000e+00  0.00000000e+00]\n",
      " [ 7.64096553e-24 -3.34398104e-09 -1.89019831e-09]\n",
      " [-3.81104389e-22 -6.89858785e-09 -1.06212713e-09]\n",
      " [ 2.14726184e-09 -7.10540890e-09 -1.01364486e-09]\n",
      " [ 0.00000000e+00  0.00000000e+00  0.00000000e+00]\n",
      " [ 0.00000000e+00  0.00000000e+00  0.00000000e+00]\n",
      " [-9.53485079e-23 -7.14214033e-09  2.23026491e-09]\n",
      " [ 0.00000000e+00  0.00000000e+00  0.00000000e+00]\n",
      " [ 0.00000000e+00  0.00000000e+00  0.00000000e+00]\n",
      " [ 2.09077164e-09 -7.33058082e-09  2.09077164e-09]\n",
      " [ 1.18477336e-22 -3.34398104e-09  1.89019831e-09]\n",
      " [ 0.00000000e+00  0.00000000e+00  0.00000000e+00]\n",
      " [ 1.89155604e-09 -3.73823999e-09  1.89155604e-09]\n",
      " [ 1.01364486e-09 -7.10540890e-09  2.14726184e-09]\n",
      " [-2.61320844e-22 -6.89858785e-09  1.06212713e-09]\n",
      " [ 0.00000000e+00  0.00000000e+00  0.00000000e+00]\n",
      " [ 0.00000000e+00  0.00000000e+00  0.00000000e+00]\n",
      " [ 2.14726184e-09 -7.10540890e-09  1.01364486e-09]\n",
      " [-1.54190337e-21 -1.42766633e-08 -1.53720678e-21]\n",
      " [ 2.25103522e-09 -1.43688328e-08 -1.55960665e-21]\n",
      " [-1.55180700e-21 -1.43688328e-08 -2.25103522e-09]\n",
      " [ 2.25860708e-09 -1.44669483e-08 -2.25860708e-09]\n",
      " [-1.02704768e-21 -1.05919802e-08 -1.01743770e-21]\n",
      " [ 1.16452955e-09 -1.44002311e-08 -1.52834607e-21]\n",
      " [ 2.29356739e-09 -1.07400000e-08 -1.07537743e-21]\n",
      " [-1.08050063e-21 -1.07400000e-08 -2.29356739e-09]\n",
      " [ 1.16046741e-09 -1.44722939e-08 -2.25762828e-09]\n",
      " [ 2.26430754e-09 -1.08989140e-08 -2.26430754e-09]\n",
      " [-1.50544246e-21 -1.44002311e-08 -1.16452955e-09]\n",
      " [ 2.25762828e-09 -1.44722939e-08 -1.16046741e-09]\n",
      " [ 2.25860708e-09 -1.44669483e-08  2.25860708e-09]\n",
      " [-1.24684037e-21 -1.43688328e-08  2.25103522e-09]\n",
      " [ 2.26430754e-09 -1.08989140e-08  2.26430754e-09]\n",
      " [ 1.16046741e-09 -1.44722939e-08  2.25762828e-09]\n",
      " [-8.03413897e-22 -1.07400000e-08  2.29356739e-09]\n",
      " [ 2.25762828e-09 -1.44722939e-08  1.16046741e-09]\n",
      " [-1.35051199e-21 -1.44002311e-08  1.16452955e-09]\n",
      " [ 0.00000000e+00  0.00000000e+00  0.00000000e+00]\n",
      " [-2.23026491e-09 -7.14214033e-09 -9.66448574e-23]\n",
      " [ 0.00000000e+00  0.00000000e+00  0.00000000e+00]\n",
      " [-2.09077164e-09 -7.33058082e-09 -2.09077164e-09]\n",
      " [ 0.00000000e+00  0.00000000e+00  0.00000000e+00]\n",
      " [-1.89019831e-09 -3.34398104e-09  1.19096032e-22]\n",
      " [-1.06212713e-09 -6.89858785e-09 -2.59300974e-22]\n",
      " [ 0.00000000e+00  0.00000000e+00  0.00000000e+00]\n",
      " [-1.89155604e-09 -3.73823999e-09 -1.89155604e-09]\n",
      " [-1.01364486e-09 -7.10540890e-09 -2.14726184e-09]\n",
      " [ 0.00000000e+00  0.00000000e+00  0.00000000e+00]\n",
      " [-2.14726184e-09 -7.10540890e-09 -1.01364486e-09]\n",
      " [-2.09077164e-09 -7.33058082e-09  2.09077164e-09]\n",
      " [ 0.00000000e+00  0.00000000e+00  0.00000000e+00]\n",
      " [-1.01364486e-09 -7.10540890e-09  2.14726184e-09]\n",
      " [-1.89155604e-09 -3.73823999e-09  1.89155604e-09]\n",
      " [ 0.00000000e+00  0.00000000e+00  0.00000000e+00]\n",
      " [-2.14726184e-09 -7.10540890e-09  1.01364486e-09]\n",
      " [ 0.00000000e+00  0.00000000e+00  0.00000000e+00]\n",
      " [-2.25103522e-09 -1.43688328e-08 -1.20291800e-21]\n",
      " [-2.25860708e-09 -1.44669483e-08 -2.25860708e-09]\n",
      " [-2.29356739e-09 -1.07400000e-08 -7.91446544e-22]\n",
      " [-1.16452955e-09 -1.44002311e-08 -1.32988359e-21]\n",
      " [-2.26430754e-09 -1.08989140e-08 -2.26430754e-09]\n",
      " [-1.16046741e-09 -1.44722939e-08 -2.25762828e-09]\n",
      " [-2.25762828e-09 -1.44722939e-08 -1.16046741e-09]\n",
      " [-2.25860708e-09 -1.44669483e-08  2.25860708e-09]\n",
      " [-1.16046741e-09 -1.44722939e-08  2.25762828e-09]\n",
      " [-2.26430754e-09 -1.08989140e-08  2.26430754e-09]\n",
      " [-2.25762828e-09 -1.44722939e-08  1.16046741e-09]]\n"
     ]
    }
   ],
   "source": [
    "print(field.data)"
   ]
  },
  {
   "cell_type": "markdown",
   "metadata": {},
   "source": [
    "While it might seem preferable to work entirely within `numpy`, DPF runs\n",
    "outside of Python and potentially even on a remote machine. Therefore,\n",
    "the transfer of unnecessary data between the DPF instance and the Python\n",
    "client leads to inefficient operations on large models. Instead, you\n",
    "should use DPF operators to assemble the necessary data before recalling\n",
    "the data from DPF.\n",
    "\n",
    "For example, if you want the maximum displacement for a given result,\n",
    "use the min/max operator:\n"
   ]
  },
  {
   "cell_type": "code",
   "execution_count": 7,
   "metadata": {
    "collapsed": false,
    "jupyter": {
     "outputs_hidden": false
    }
   },
   "outputs": [
    {
     "name": "stdout",
     "output_type": "stream",
     "text": [
      "[2.29356739e-09 0.00000000e+00 2.29356739e-09]\n",
      "[2.29356739e-09 0.00000000e+00 2.29356739e-09]\n",
      "[2.29356739e-09 0.00000000e+00 2.29356739e-09]\n"
     ]
    }
   ],
   "source": [
    "min_max_op = dpf.operators.min_max.min_max(field)\n",
    "print(min_max_op.outputs.field_max().data)\n",
    "\n",
    "# Out of conveience, you can simply take the max of the field with:\n",
    "print(field.max().data)\n",
    "\n",
    "# The above yields a result identical to:\n",
    "print(np.max(field.data, axis=0))"
   ]
  },
  {
   "cell_type": "markdown",
   "metadata": {},
   "source": [
    "Note that the numpy array does not retain any information about the\n",
    "field it describes. Using the DPF `max` operator of the field does\n",
    "retain this information.\n"
   ]
  },
  {
   "cell_type": "code",
   "execution_count": 8,
   "metadata": {
    "collapsed": false,
    "jupyter": {
     "outputs_hidden": false
    }
   },
   "outputs": [
    {
     "name": "stdout",
     "output_type": "stream",
     "text": [
      "DPF displacement_1.s Field\n",
      "  Location: Nodal\n",
      "  Unit: m\n",
      "  3 entities \n",
      "  Data: 1 components and 3 elementary data \n",
      "\n",
      "  IDs                   data (m)\n",
      "  ------------          ----------\n",
      "  75                     2.293567e-09\n",
      "                     \n",
      "  14                     0.000000e+00\n",
      "                     \n",
      "  40                     2.293567e-09\n",
      "                     \n",
      "\n",
      "\n"
     ]
    }
   ],
   "source": [
    "max_field = field.max()\n",
    "print(max_field)"
   ]
  }
 ],
 "metadata": {
  "kernelspec": {
   "display_name": "Python 3 (ipykernel)",
   "language": "python",
   "name": "python3"
  },
  "language_info": {
   "codemirror_mode": {
    "name": "ipython",
    "version": 3
   },
   "file_extension": ".py",
   "mimetype": "text/x-python",
   "name": "python",
   "nbconvert_exporter": "python",
   "pygments_lexer": "ipython3",
   "version": "3.9.12"
  }
 },
 "nbformat": 4,
 "nbformat_minor": 4
}
