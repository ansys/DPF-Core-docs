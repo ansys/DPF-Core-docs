{
 "cells": [
  {
   "cell_type": "code",
   "execution_count": null,
   "metadata": {
    "collapsed": false,
    "jupyter": {
     "outputs_hidden": false
    }
   },
   "outputs": [],
   "source": [
    "%matplotlib inline"
   ]
  },
  {
   "cell_type": "markdown",
   "metadata": {},
   "source": [
    "\n",
    "\n",
    "# Field and Field Containers Overview\n",
    "In DPF, the field is the main simulation data container. During a numerical\n",
    "simulation, result data is defined by values associated to entities\n",
    "(scoping). These entities are a subset of a model (support).\n",
    "\n",
    "Because field data is always associated to its scoping and support,\n",
    "the field is a self-describing piece of data. A field is also\n",
    "defined by its parameters, such as dimensionality, unit, and location.\n",
    "For example, a field can describe a displacement vector or norm, stress or strain\n",
    "tensor, stress or strain equivalent, or minimum or maximum\n",
    "over time of any result. A field can be defined on a complete model or\n",
    "on only certain entities of the model based on its scoping. The data\n",
    "is stored as a vector of double values, and each elementary entity has\n",
    "a number of components. For example, a displacement will have three\n",
    "components, and a symmetrical stress matrix will have six components.\n",
    "\n",
    "In DPF, a fields container is simply a collection of fields that can be\n",
    "indexed, just like a Python list. Operators applied to a fields\n",
    "container will have each individual field operated on. Fields\n",
    "containers are outputs from operators.\n",
    "\n",
    "First, import necessary modules:\n"
   ]
  },
  {
   "cell_type": "code",
   "execution_count": null,
   "metadata": {
    "collapsed": false,
    "jupyter": {
     "outputs_hidden": false
    }
   },
   "outputs": [],
   "source": [
    "import numpy as np\n",
    "\n",
    "from ansys.dpf import core as dpf\n",
    "from ansys.dpf.core import examples"
   ]
  },
  {
   "cell_type": "markdown",
   "metadata": {},
   "source": [
    "Create a model object to establish a connection with an\n",
    "example result file and then extract:\n",
    "\n"
   ]
  },
  {
   "cell_type": "code",
   "execution_count": null,
   "metadata": {
    "collapsed": false,
    "jupyter": {
     "outputs_hidden": false
    }
   },
   "outputs": [],
   "source": [
    "\n",
    "server_file_path = dpf.upload_file_in_tmp_folder(examples.static_rst)\n",
    "model = dpf.Model(server_file_path)\n",
    "print(model)"
   ]
  },
  {
   "cell_type": "markdown",
   "metadata": {},
   "source": [
    "Create the displacement operator directly from the ``results``\n",
    "property and extract the displacement fields container:\n",
    "\n"
   ]
  },
  {
   "cell_type": "code",
   "execution_count": null,
   "metadata": {
    "collapsed": false,
    "jupyter": {
     "outputs_hidden": false
    }
   },
   "outputs": [],
   "source": [
    "disp_op = model.results.displacement()\n",
    "fields = disp_op.outputs.fields_container()\n",
    "print(fields)"
   ]
  },
  {
   "cell_type": "markdown",
   "metadata": {},
   "source": [
    "A field can be extracted from a fields container by simply indexing\n",
    "the requested field:\n",
    "\n"
   ]
  },
  {
   "cell_type": "code",
   "execution_count": null,
   "metadata": {
    "collapsed": false,
    "jupyter": {
     "outputs_hidden": false
    }
   },
   "outputs": [],
   "source": [
    "field = fields[0]\n",
    "print(field)"
   ]
  },
  {
   "cell_type": "markdown",
   "metadata": {},
   "source": [
    "# Extracting Data from a Field\n",
    "You can extract all the data from a given field using the ``data``\n",
    "property.  This returns a ``numpy`` array.\n",
    "\n"
   ]
  },
  {
   "cell_type": "code",
   "execution_count": null,
   "metadata": {
    "collapsed": false,
    "jupyter": {
     "outputs_hidden": false
    }
   },
   "outputs": [],
   "source": [
    "print(field.data)"
   ]
  },
  {
   "cell_type": "markdown",
   "metadata": {},
   "source": [
    "While it might seem preferable to work entirely within ``numpy``,\n",
    "DPF runs outside of Python and potentially even on a\n",
    "remote machine.  Therefore, the transfer of unnecessary data between\n",
    "the DPF instance and the Python client leads to inefficient\n",
    "operations on large models. Instead, you should use DPF operators to\n",
    "assemble the necessary data before recalling the data from DPF.\n",
    "\n",
    "For example, if you want the maximum displacement for a given\n",
    "result, use the min/max operator:\n",
    "\n",
    "\n"
   ]
  },
  {
   "cell_type": "code",
   "execution_count": null,
   "metadata": {
    "collapsed": false,
    "jupyter": {
     "outputs_hidden": false
    }
   },
   "outputs": [],
   "source": [
    "min_max_op = dpf.operators.min_max.min_max(field)\n",
    "print(min_max_op.outputs.field_max().data)\n",
    "\n",
    "# Out of conveience, you can simply take the max of the field with:\n",
    "print(field.max().data)\n",
    "\n",
    "# The above yields a result identical to:\n",
    "print(np.max(field.data, axis=0))"
   ]
  },
  {
   "cell_type": "markdown",
   "metadata": {},
   "source": [
    "Note that the numpy array does not retain any information about the\n",
    "field it describes.  Using the DPF ``max`` operator of the field does\n",
    "retain this information.\n",
    "\n"
   ]
  },
  {
   "cell_type": "code",
   "execution_count": null,
   "metadata": {
    "collapsed": false,
    "jupyter": {
     "outputs_hidden": false
    }
   },
   "outputs": [],
   "source": [
    "max_field = field.max()\n",
    "print(max_field)"
   ]
  }
 ],
 "metadata": {
  "kernelspec": {
   "display_name": "Python 3 (ipykernel)",
   "language": "python",
   "name": "python3"
  },
  "language_info": {
   "codemirror_mode": {
    "name": "ipython",
    "version": 3
   },
   "file_extension": ".py",
   "mimetype": "text/x-python",
   "name": "python",
   "nbconvert_exporter": "python",
   "pygments_lexer": "ipython3",
   "version": "3.9.7"
  }
 },
 "nbformat": 4,
 "nbformat_minor": 4
}
