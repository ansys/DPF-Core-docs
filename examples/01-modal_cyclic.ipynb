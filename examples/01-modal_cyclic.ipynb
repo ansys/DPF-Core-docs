{
 "cells": [
  {
   "cell_type": "code",
   "execution_count": null,
   "metadata": {
    "collapsed": false,
    "jupyter": {
     "outputs_hidden": false
    }
   },
   "outputs": [],
   "source": [
    "%matplotlib inline"
   ]
  },
  {
   "cell_type": "markdown",
   "metadata": {},
   "source": [
    "\n",
    "\n",
    "# Modal Cyclic symmetry Example\n",
    "This example shows how to expand a cyclic mesh and its results.\n"
   ]
  },
  {
   "cell_type": "code",
   "execution_count": null,
   "metadata": {
    "collapsed": false,
    "jupyter": {
     "outputs_hidden": false
    }
   },
   "outputs": [],
   "source": [
    "from ansys.dpf import core as dpf\n",
    "from ansys.dpf.core import examples\n",
    "from ansys.jupyterhub.manager import spawn_dpf, delete_pod"
   ]
  },
  {
   "cell_type": "markdown",
   "metadata": {},
   "source": [
    "Create the model and display the state of the result.\n",
    "\n"
   ]
  },
  {
   "cell_type": "code",
   "execution_count": null,
   "metadata": {
    "collapsed": false,
    "jupyter": {
     "outputs_hidden": false
    }
   },
   "outputs": [],
   "source": [
    "server, pod_name = spawn_dpf()\n",
    "server_file_path = dpf.upload_file_in_tmp_folder(examples.simple_cyclic, server=server)\n",
    "model = dpf.Model(server_file_path)\n",
    "print(model)"
   ]
  },
  {
   "cell_type": "markdown",
   "metadata": {},
   "source": [
    "# Expand displacement results\n",
    "In this example we expand displacement results, by default on all\n",
    "nodes and the first time step.\n",
    "\n"
   ]
  },
  {
   "cell_type": "code",
   "execution_count": null,
   "metadata": {
    "collapsed": false,
    "jupyter": {
     "outputs_hidden": false
    }
   },
   "outputs": [],
   "source": [
    "# Create displacement cyclic operator\n",
    "u_cyc = model.operator(\"mapdl::rst::U_cyclic\")\n",
    "\n",
    "# expand the displacements\n",
    "fields = u_cyc.outputs.fields_container()\n",
    "\n",
    "# # get the expanded mesh\n",
    "mesh_provider = model.metadata.mesh_provider\n",
    "mesh_provider.inputs.read_cyclic(2)\n",
    "mesh = mesh_provider.outputs.mesh()\n",
    "\n",
    "# plot the expanded result on the expanded mesh\n",
    "mesh.plot(fields[0])"
   ]
  },
  {
   "cell_type": "markdown",
   "metadata": {},
   "source": [
    "# Expand stresses at a given time step\n",
    "\n"
   ]
  },
  {
   "cell_type": "code",
   "execution_count": null,
   "metadata": {
    "collapsed": false,
    "jupyter": {
     "outputs_hidden": false
    }
   },
   "outputs": [],
   "source": [
    "# define stress expansion operator and request stresses at time set = 8\n",
    "scyc_op = model.operator(\"mapdl::rst::S_cyclic\")\n",
    "scyc_op.inputs.read_cyclic(2)\n",
    "scyc_op.inputs.time_scoping.connect([8])\n",
    "\n",
    "# request the results averaged on the nodes\n",
    "scyc_op.inputs.requested_location.connect(\"Nodal\")\n",
    "\n",
    "# connect the base mesh and the expanded mesh, to avoid rexpanding the mesh\n",
    "scyc_op.inputs.sector_mesh.connect(model.metadata.meshed_region)\n",
    "# scyc_op.inputs.expanded_meshed_region.connect(mesh)\n",
    "\n",
    "# request equivalent von mises operator and connect it to stress operator\n",
    "eqv = dpf.Operator(\"eqv_fc\")\n",
    "eqv.inputs.connect(scyc_op.outputs)\n",
    "\n",
    "# expand the results and get stress eqv\n",
    "fields = eqv.outputs.fields_container()\n",
    "\n",
    "# plot the expanded result on the expanded mesh\n",
    "# mesh.plot(fields[0])"
   ]
  },
  {
   "cell_type": "markdown",
   "metadata": {},
   "source": [
    "# Expand stresses at given sectors\n",
    "\n"
   ]
  },
  {
   "cell_type": "code",
   "execution_count": null,
   "metadata": {
    "collapsed": false,
    "jupyter": {
     "outputs_hidden": false
    }
   },
   "outputs": [],
   "source": [
    "# define stress expansion operator and request stresses at time set = 8\n",
    "scyc_op = model.operator(\"mapdl::rst::S_cyclic\")\n",
    "scyc_op.inputs.read_cyclic(2)\n",
    "scyc_op.inputs.time_scoping.connect([8])\n",
    "\n",
    "# request the results averaged on the nodes\n",
    "scyc_op.inputs.requested_location.connect(\"Nodal\")\n",
    "\n",
    "# connect the base mesh and the expanded mesh, to avoid rexpanding the mesh\n",
    "scyc_op.inputs.sector_mesh.connect(model.metadata.meshed_region)\n",
    "# scyc_op.inputs.expanded_meshed_region.connect(mesh)\n",
    "\n",
    "# request results on sectors 1, 3 and 5\n",
    "scyc_op.inputs.sectors_to_expand.connect([1, 3, 5])\n",
    "\n",
    "# extract Sy (use component selector and select the component 1)\n",
    "comp_sel = dpf.Operator(\"component_selector_fc\")\n",
    "comp_sel.inputs.fields_container.connect(scyc_op.outputs.fields_container)\n",
    "comp_sel.inputs.component_number.connect(0)\n",
    "\n",
    "# expand the displacements and get the resuls\n",
    "fields = comp_sel.outputs.fields_container()\n",
    "\n",
    "# plot the expanded result on the expanded mesh\n",
    "# mesh.plot(fields[0])"
   ]
  },
  {
   "cell_type": "markdown",
   "metadata": {},
   "source": [
    "# Expand stresses and average to elemental location\n",
    "\n"
   ]
  },
  {
   "cell_type": "code",
   "execution_count": null,
   "metadata": {
    "collapsed": false,
    "jupyter": {
     "outputs_hidden": false
    }
   },
   "outputs": [],
   "source": [
    "# define stress expansion operator and request stresses at time set = 8\n",
    "scyc_op = model.operator(\"mapdl::rst::S_cyclic\")\n",
    "scyc_op.inputs.read_cyclic(2)\n",
    "scyc_op.inputs.time_scoping.connect([8])\n",
    "\n",
    "# request the results in the solver\n",
    "scyc_op.inputs.bool_rotate_to_global.connect(False)\n",
    "\n",
    "# connect the base mesh and the expanded mesh, to avoid rexpanding the mesh\n",
    "scyc_op.inputs.sector_mesh.connect(model.metadata.meshed_region)\n",
    "# scyc_op.inputs.expanded_meshed_region.connect(mesh)\n",
    "\n",
    "# request to elemental averaging operator\n",
    "to_elemental = dpf.Operator(\"to_elemental_fc\")\n",
    "to_elemental.inputs.fields_container.connect(scyc_op.outputs.fields_container)\n",
    "\n",
    "# extract Sy (use component selector and select the component 1)\n",
    "comp_sel = dpf.Operator(\"component_selector_fc\")\n",
    "comp_sel.inputs.fields_container.connect(to_elemental.outputs.fields_container)\n",
    "comp_sel.inputs.component_number.connect(1)\n",
    "\n",
    "# expand the displacements and get the resuls\n",
    "fields = comp_sel.outputs.fields_container()\n",
    "\n",
    "# # plot the expanded result on the expanded mesh\n",
    "mesh.plot(fields)"
   ]
  },
  {
   "cell_type": "code",
   "execution_count": null,
   "metadata": {},
   "outputs": [],
   "source": [
    "delete_pod(pod_name)"
   ]
  }
 ],
 "metadata": {
  "kernelspec": {
   "display_name": "Python 3 (ipykernel)",
   "language": "python",
   "name": "python3"
  },
  "language_info": {
   "codemirror_mode": {
    "name": "ipython",
    "version": 3
   },
   "file_extension": ".py",
   "mimetype": "text/x-python",
   "name": "python",
   "nbconvert_exporter": "python",
   "pygments_lexer": "ipython3",
   "version": "3.9.7"
  }
 },
 "nbformat": 4,
 "nbformat_minor": 4
}
