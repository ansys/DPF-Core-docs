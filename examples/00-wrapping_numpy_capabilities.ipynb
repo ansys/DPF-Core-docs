{
 "cells": [
  {
   "cell_type": "code",
   "execution_count": 1,
   "metadata": {
    "collapsed": false,
    "jupyter": {
     "outputs_hidden": false
    }
   },
   "outputs": [],
   "source": [
    "%matplotlib inline"
   ]
  },
  {
   "cell_type": "markdown",
   "metadata": {},
   "source": [
    "\n",
    "\n",
    "# Write user defined Operator\n",
    "This example shows how to create a simple DPF python plugin holding a single Operator.\n",
    "This Operator called \"easy_statistics\" computes simple statistics quantities on a scalar Field with\n",
    "the help of numpy.\n",
    "It's a simple example displaying how routines can be wrapped in DPF python plugins.\n"
   ]
  },
  {
   "cell_type": "markdown",
   "metadata": {},
   "source": [
    "## Write Operator\n",
    "To write the simplest DPF python plugins, a single python script is necessary.\n",
    "An Operator implementation deriving from `ansys.dpf.core.custom_operator.CustomOperatorBase`\n",
    "and a call to `ansys.dpf.core.custom_operator.record_operator` are the 2 necessary steps to create a plugin.\n",
    "The \"easy_statistics\" Operator will take a Field in input and return the first quartile, the median,\n",
    "the third quartile and the variance. The python Operator and its recording seat in the\n",
    "file plugins/easy_statistics.py. This file is:\n",
    "\n"
   ]
  },
  {
   "cell_type": "code",
   "execution_count": 1,
   "metadata": {},
   "outputs": [
    {
     "data": {
      "text/html": [
       "<style>pre { line-height: 125%; }\n",
       "td.linenos .normal { color: inherit; background-color: transparent; padding-left: 5px; padding-right: 5px; }\n",
       "span.linenos { color: inherit; background-color: transparent; padding-left: 5px; padding-right: 5px; }\n",
       "td.linenos .special { color: #000000; background-color: #ffffc0; padding-left: 5px; padding-right: 5px; }\n",
       "span.linenos.special { color: #000000; background-color: #ffffc0; padding-left: 5px; padding-right: 5px; }\n",
       ".output_html .hll { background-color: #ffffcc }\n",
       ".output_html { background: #f8f8f8; }\n",
       ".output_html .c { color: #3D7B7B; font-style: italic } /* Comment */\n",
       ".output_html .err { border: 1px solid #FF0000 } /* Error */\n",
       ".output_html .k { color: #008000; font-weight: bold } /* Keyword */\n",
       ".output_html .o { color: #666666 } /* Operator */\n",
       ".output_html .ch { color: #3D7B7B; font-style: italic } /* Comment.Hashbang */\n",
       ".output_html .cm { color: #3D7B7B; font-style: italic } /* Comment.Multiline */\n",
       ".output_html .cp { color: #9C6500 } /* Comment.Preproc */\n",
       ".output_html .cpf { color: #3D7B7B; font-style: italic } /* Comment.PreprocFile */\n",
       ".output_html .c1 { color: #3D7B7B; font-style: italic } /* Comment.Single */\n",
       ".output_html .cs { color: #3D7B7B; font-style: italic } /* Comment.Special */\n",
       ".output_html .gd { color: #A00000 } /* Generic.Deleted */\n",
       ".output_html .ge { font-style: italic } /* Generic.Emph */\n",
       ".output_html .gr { color: #E40000 } /* Generic.Error */\n",
       ".output_html .gh { color: #000080; font-weight: bold } /* Generic.Heading */\n",
       ".output_html .gi { color: #008400 } /* Generic.Inserted */\n",
       ".output_html .go { color: #717171 } /* Generic.Output */\n",
       ".output_html .gp { color: #000080; font-weight: bold } /* Generic.Prompt */\n",
       ".output_html .gs { font-weight: bold } /* Generic.Strong */\n",
       ".output_html .gu { color: #800080; font-weight: bold } /* Generic.Subheading */\n",
       ".output_html .gt { color: #0044DD } /* Generic.Traceback */\n",
       ".output_html .kc { color: #008000; font-weight: bold } /* Keyword.Constant */\n",
       ".output_html .kd { color: #008000; font-weight: bold } /* Keyword.Declaration */\n",
       ".output_html .kn { color: #008000; font-weight: bold } /* Keyword.Namespace */\n",
       ".output_html .kp { color: #008000 } /* Keyword.Pseudo */\n",
       ".output_html .kr { color: #008000; font-weight: bold } /* Keyword.Reserved */\n",
       ".output_html .kt { color: #B00040 } /* Keyword.Type */\n",
       ".output_html .m { color: #666666 } /* Literal.Number */\n",
       ".output_html .s { color: #BA2121 } /* Literal.String */\n",
       ".output_html .na { color: #687822 } /* Name.Attribute */\n",
       ".output_html .nb { color: #008000 } /* Name.Builtin */\n",
       ".output_html .nc { color: #0000FF; font-weight: bold } /* Name.Class */\n",
       ".output_html .no { color: #880000 } /* Name.Constant */\n",
       ".output_html .nd { color: #AA22FF } /* Name.Decorator */\n",
       ".output_html .ni { color: #717171; font-weight: bold } /* Name.Entity */\n",
       ".output_html .ne { color: #CB3F38; font-weight: bold } /* Name.Exception */\n",
       ".output_html .nf { color: #0000FF } /* Name.Function */\n",
       ".output_html .nl { color: #767600 } /* Name.Label */\n",
       ".output_html .nn { color: #0000FF; font-weight: bold } /* Name.Namespace */\n",
       ".output_html .nt { color: #008000; font-weight: bold } /* Name.Tag */\n",
       ".output_html .nv { color: #19177C } /* Name.Variable */\n",
       ".output_html .ow { color: #AA22FF; font-weight: bold } /* Operator.Word */\n",
       ".output_html .w { color: #bbbbbb } /* Text.Whitespace */\n",
       ".output_html .mb { color: #666666 } /* Literal.Number.Bin */\n",
       ".output_html .mf { color: #666666 } /* Literal.Number.Float */\n",
       ".output_html .mh { color: #666666 } /* Literal.Number.Hex */\n",
       ".output_html .mi { color: #666666 } /* Literal.Number.Integer */\n",
       ".output_html .mo { color: #666666 } /* Literal.Number.Oct */\n",
       ".output_html .sa { color: #BA2121 } /* Literal.String.Affix */\n",
       ".output_html .sb { color: #BA2121 } /* Literal.String.Backtick */\n",
       ".output_html .sc { color: #BA2121 } /* Literal.String.Char */\n",
       ".output_html .dl { color: #BA2121 } /* Literal.String.Delimiter */\n",
       ".output_html .sd { color: #BA2121; font-style: italic } /* Literal.String.Doc */\n",
       ".output_html .s2 { color: #BA2121 } /* Literal.String.Double */\n",
       ".output_html .se { color: #AA5D1F; font-weight: bold } /* Literal.String.Escape */\n",
       ".output_html .sh { color: #BA2121 } /* Literal.String.Heredoc */\n",
       ".output_html .si { color: #A45A77; font-weight: bold } /* Literal.String.Interpol */\n",
       ".output_html .sx { color: #008000 } /* Literal.String.Other */\n",
       ".output_html .sr { color: #A45A77 } /* Literal.String.Regex */\n",
       ".output_html .s1 { color: #BA2121 } /* Literal.String.Single */\n",
       ".output_html .ss { color: #19177C } /* Literal.String.Symbol */\n",
       ".output_html .bp { color: #008000 } /* Name.Builtin.Pseudo */\n",
       ".output_html .fm { color: #0000FF } /* Name.Function.Magic */\n",
       ".output_html .vc { color: #19177C } /* Name.Variable.Class */\n",
       ".output_html .vg { color: #19177C } /* Name.Variable.Global */\n",
       ".output_html .vi { color: #19177C } /* Name.Variable.Instance */\n",
       ".output_html .vm { color: #19177C } /* Name.Variable.Magic */\n",
       ".output_html .il { color: #666666 } /* Literal.Number.Integer.Long */</style><div class=\"highlight\"><pre><span></span><span class=\"kn\">import</span> <span class=\"nn\">numpy</span> <span class=\"k\">as</span> <span class=\"nn\">np</span>\n",
       "<span class=\"kn\">from</span> <span class=\"nn\">ansys.dpf</span> <span class=\"kn\">import</span> <span class=\"n\">core</span> <span class=\"k\">as</span> <span class=\"n\">dpf</span>\n",
       "<span class=\"kn\">from</span> <span class=\"nn\">ansys.dpf.core.custom_operator</span> <span class=\"kn\">import</span> <span class=\"n\">CustomOperatorBase</span><span class=\"p\">,</span> <span class=\"n\">record_operator</span>\n",
       "<span class=\"kn\">from</span> <span class=\"nn\">ansys.dpf.core.operator_specification</span> <span class=\"kn\">import</span> <span class=\"n\">CustomSpecification</span><span class=\"p\">,</span> <span class=\"n\">SpecificationProperties</span><span class=\"p\">,</span> \\\n",
       "    <span class=\"n\">PinSpecification</span>\n",
       "\n",
       "\n",
       "<span class=\"k\">class</span> <span class=\"nc\">EasyStatistics</span><span class=\"p\">(</span><span class=\"n\">CustomOperatorBase</span><span class=\"p\">):</span>\n",
       "    <span class=\"nd\">@property</span>\n",
       "    <span class=\"k\">def</span> <span class=\"nf\">name</span><span class=\"p\">(</span><span class=\"bp\">self</span><span class=\"p\">):</span>\n",
       "        <span class=\"k\">return</span> <span class=\"s2\">&quot;easy_statistics&quot;</span>\n",
       "\n",
       "    <span class=\"nd\">@property</span>\n",
       "    <span class=\"k\">def</span> <span class=\"nf\">specification</span><span class=\"p\">(</span><span class=\"bp\">self</span><span class=\"p\">)</span> <span class=\"o\">-&gt;</span> <span class=\"n\">CustomSpecification</span><span class=\"p\">:</span>\n",
       "        <span class=\"n\">spec</span> <span class=\"o\">=</span> <span class=\"n\">CustomSpecification</span><span class=\"p\">()</span>\n",
       "        <span class=\"n\">spec</span><span class=\"o\">.</span><span class=\"n\">description</span> <span class=\"o\">=</span> <span class=\"s2\">&quot;Compute the first quartile, the median, the third quartile and the variance of a scalar Field with numpy&quot;</span>\n",
       "        <span class=\"n\">spec</span><span class=\"o\">.</span><span class=\"n\">inputs</span> <span class=\"o\">=</span> <span class=\"p\">{</span><span class=\"mi\">0</span><span class=\"p\">:</span> <span class=\"n\">PinSpecification</span><span class=\"p\">(</span><span class=\"s2\">&quot;field&quot;</span><span class=\"p\">,</span> <span class=\"p\">[</span><span class=\"n\">dpf</span><span class=\"o\">.</span><span class=\"n\">Field</span><span class=\"p\">,</span> <span class=\"n\">dpf</span><span class=\"o\">.</span><span class=\"n\">FieldsContainer</span><span class=\"p\">],</span> <span class=\"s2\">&quot;scalar Field on which the statistics quantities is computed.&quot;</span><span class=\"p\">)}</span>\n",
       "        <span class=\"n\">spec</span><span class=\"o\">.</span><span class=\"n\">outputs</span> <span class=\"o\">=</span> <span class=\"p\">{</span>\n",
       "            <span class=\"mi\">0</span><span class=\"p\">:</span> <span class=\"n\">PinSpecification</span><span class=\"p\">(</span><span class=\"s2\">&quot;first_quartile&quot;</span><span class=\"p\">,</span> <span class=\"p\">[</span><span class=\"nb\">float</span><span class=\"p\">]),</span>\n",
       "            <span class=\"mi\">1</span><span class=\"p\">:</span> <span class=\"n\">PinSpecification</span><span class=\"p\">(</span><span class=\"s2\">&quot;median&quot;</span><span class=\"p\">,</span> <span class=\"p\">[</span><span class=\"nb\">float</span><span class=\"p\">]),</span>\n",
       "            <span class=\"mi\">2</span><span class=\"p\">:</span> <span class=\"n\">PinSpecification</span><span class=\"p\">(</span><span class=\"s2\">&quot;third_quartile&quot;</span><span class=\"p\">,</span> <span class=\"p\">[</span><span class=\"nb\">float</span><span class=\"p\">]),</span>\n",
       "            <span class=\"mi\">3</span><span class=\"p\">:</span> <span class=\"n\">PinSpecification</span><span class=\"p\">(</span><span class=\"s2\">&quot;variance&quot;</span><span class=\"p\">,</span> <span class=\"p\">[</span><span class=\"nb\">float</span><span class=\"p\">]),</span>\n",
       "        <span class=\"p\">}</span>\n",
       "        <span class=\"n\">spec</span><span class=\"o\">.</span><span class=\"n\">properties</span> <span class=\"o\">=</span> <span class=\"n\">SpecificationProperties</span><span class=\"p\">(</span><span class=\"s2\">&quot;easy statistics&quot;</span><span class=\"p\">,</span> <span class=\"s2\">&quot;math&quot;</span><span class=\"p\">)</span>\n",
       "        <span class=\"k\">return</span> <span class=\"n\">spec</span>\n",
       "\n",
       "    <span class=\"k\">def</span> <span class=\"nf\">run</span><span class=\"p\">(</span><span class=\"bp\">self</span><span class=\"p\">):</span>\n",
       "        <span class=\"n\">field</span> <span class=\"o\">=</span> <span class=\"bp\">self</span><span class=\"o\">.</span><span class=\"n\">get_input</span><span class=\"p\">(</span><span class=\"mi\">0</span><span class=\"p\">,</span> <span class=\"n\">dpf</span><span class=\"o\">.</span><span class=\"n\">Field</span><span class=\"p\">)</span>\n",
       "        <span class=\"k\">if</span> <span class=\"n\">field</span> <span class=\"ow\">is</span> <span class=\"kc\">None</span><span class=\"p\">:</span>\n",
       "            <span class=\"n\">field</span> <span class=\"o\">=</span> <span class=\"bp\">self</span><span class=\"o\">.</span><span class=\"n\">get_input</span><span class=\"p\">(</span><span class=\"mi\">0</span><span class=\"p\">,</span> <span class=\"n\">dpf</span><span class=\"o\">.</span><span class=\"n\">FieldsContainer</span><span class=\"p\">)[</span><span class=\"mi\">0</span><span class=\"p\">]</span>\n",
       "        <span class=\"c1\"># compute stats</span>\n",
       "        <span class=\"n\">first_quartile_val</span> <span class=\"o\">=</span> <span class=\"n\">np</span><span class=\"o\">.</span><span class=\"n\">quantile</span><span class=\"p\">(</span><span class=\"n\">field</span><span class=\"o\">.</span><span class=\"n\">data</span><span class=\"p\">,</span> <span class=\"mf\">0.25</span><span class=\"p\">)</span>\n",
       "        <span class=\"n\">median_val</span> <span class=\"o\">=</span> <span class=\"n\">np</span><span class=\"o\">.</span><span class=\"n\">quantile</span><span class=\"p\">(</span><span class=\"n\">field</span><span class=\"o\">.</span><span class=\"n\">data</span><span class=\"p\">,</span> <span class=\"mf\">0.5</span><span class=\"p\">)</span>\n",
       "        <span class=\"n\">third_quartile_val</span> <span class=\"o\">=</span> <span class=\"n\">np</span><span class=\"o\">.</span><span class=\"n\">quantile</span><span class=\"p\">(</span><span class=\"n\">field</span><span class=\"o\">.</span><span class=\"n\">data</span><span class=\"p\">,</span> <span class=\"mf\">0.75</span><span class=\"p\">)</span>\n",
       "        <span class=\"n\">variance_val</span> <span class=\"o\">=</span> <span class=\"n\">np</span><span class=\"o\">.</span><span class=\"n\">var</span><span class=\"p\">(</span><span class=\"n\">field</span><span class=\"o\">.</span><span class=\"n\">data</span><span class=\"p\">)</span>\n",
       "        <span class=\"bp\">self</span><span class=\"o\">.</span><span class=\"n\">set_output</span><span class=\"p\">(</span><span class=\"mi\">0</span><span class=\"p\">,</span> <span class=\"n\">first_quartile_val</span><span class=\"p\">)</span>\n",
       "        <span class=\"bp\">self</span><span class=\"o\">.</span><span class=\"n\">set_output</span><span class=\"p\">(</span><span class=\"mi\">1</span><span class=\"p\">,</span> <span class=\"n\">median_val</span><span class=\"p\">)</span>\n",
       "        <span class=\"bp\">self</span><span class=\"o\">.</span><span class=\"n\">set_output</span><span class=\"p\">(</span><span class=\"mi\">2</span><span class=\"p\">,</span> <span class=\"n\">third_quartile_val</span><span class=\"p\">)</span>\n",
       "        <span class=\"bp\">self</span><span class=\"o\">.</span><span class=\"n\">set_output</span><span class=\"p\">(</span><span class=\"mi\">3</span><span class=\"p\">,</span> <span class=\"nb\">float</span><span class=\"p\">(</span><span class=\"n\">variance_val</span><span class=\"p\">))</span>\n",
       "        <span class=\"bp\">self</span><span class=\"o\">.</span><span class=\"n\">set_succeeded</span><span class=\"p\">()</span>\n",
       "\n",
       "\n",
       "<span class=\"k\">def</span> <span class=\"nf\">load_operators</span><span class=\"p\">(</span><span class=\"o\">*</span><span class=\"n\">args</span><span class=\"p\">):</span>\n",
       "    <span class=\"n\">record_operator</span><span class=\"p\">(</span><span class=\"n\">EasyStatistics</span><span class=\"p\">,</span> <span class=\"o\">*</span><span class=\"n\">args</span><span class=\"p\">)</span>\n",
       "</pre></div>\n"
      ],
      "text/latex": [
       "\\begin{Verbatim}[commandchars=\\\\\\{\\}]\n",
       "\\PY{k+kn}{import} \\PY{n+nn}{numpy} \\PY{k}{as} \\PY{n+nn}{np}\n",
       "\\PY{k+kn}{from} \\PY{n+nn}{ansys}\\PY{n+nn}{.}\\PY{n+nn}{dpf} \\PY{k+kn}{import} \\PY{n}{core} \\PY{k}{as} \\PY{n}{dpf}\n",
       "\\PY{k+kn}{from} \\PY{n+nn}{ansys}\\PY{n+nn}{.}\\PY{n+nn}{dpf}\\PY{n+nn}{.}\\PY{n+nn}{core}\\PY{n+nn}{.}\\PY{n+nn}{custom\\PYZus{}operator} \\PY{k+kn}{import} \\PY{n}{CustomOperatorBase}\\PY{p}{,} \\PY{n}{record\\PYZus{}operator}\n",
       "\\PY{k+kn}{from} \\PY{n+nn}{ansys}\\PY{n+nn}{.}\\PY{n+nn}{dpf}\\PY{n+nn}{.}\\PY{n+nn}{core}\\PY{n+nn}{.}\\PY{n+nn}{operator\\PYZus{}specification} \\PY{k+kn}{import} \\PY{n}{CustomSpecification}\\PY{p}{,} \\PY{n}{SpecificationProperties}\\PY{p}{,} \\PYZbs{}\n",
       "    \\PY{n}{PinSpecification}\n",
       "\n",
       "\n",
       "\\PY{k}{class} \\PY{n+nc}{EasyStatistics}\\PY{p}{(}\\PY{n}{CustomOperatorBase}\\PY{p}{)}\\PY{p}{:}\n",
       "    \\PY{n+nd}{@property}\n",
       "    \\PY{k}{def} \\PY{n+nf}{name}\\PY{p}{(}\\PY{n+nb+bp}{self}\\PY{p}{)}\\PY{p}{:}\n",
       "        \\PY{k}{return} \\PY{l+s+s2}{\\PYZdq{}}\\PY{l+s+s2}{easy\\PYZus{}statistics}\\PY{l+s+s2}{\\PYZdq{}}\n",
       "\n",
       "    \\PY{n+nd}{@property}\n",
       "    \\PY{k}{def} \\PY{n+nf}{specification}\\PY{p}{(}\\PY{n+nb+bp}{self}\\PY{p}{)} \\PY{o}{\\PYZhy{}}\\PY{o}{\\PYZgt{}} \\PY{n}{CustomSpecification}\\PY{p}{:}\n",
       "        \\PY{n}{spec} \\PY{o}{=} \\PY{n}{CustomSpecification}\\PY{p}{(}\\PY{p}{)}\n",
       "        \\PY{n}{spec}\\PY{o}{.}\\PY{n}{description} \\PY{o}{=} \\PY{l+s+s2}{\\PYZdq{}}\\PY{l+s+s2}{Compute the first quartile, the median, the third quartile and the variance of a scalar Field with numpy}\\PY{l+s+s2}{\\PYZdq{}}\n",
       "        \\PY{n}{spec}\\PY{o}{.}\\PY{n}{inputs} \\PY{o}{=} \\PY{p}{\\PYZob{}}\\PY{l+m+mi}{0}\\PY{p}{:} \\PY{n}{PinSpecification}\\PY{p}{(}\\PY{l+s+s2}{\\PYZdq{}}\\PY{l+s+s2}{field}\\PY{l+s+s2}{\\PYZdq{}}\\PY{p}{,} \\PY{p}{[}\\PY{n}{dpf}\\PY{o}{.}\\PY{n}{Field}\\PY{p}{,} \\PY{n}{dpf}\\PY{o}{.}\\PY{n}{FieldsContainer}\\PY{p}{]}\\PY{p}{,} \\PY{l+s+s2}{\\PYZdq{}}\\PY{l+s+s2}{scalar Field on which the statistics quantities is computed.}\\PY{l+s+s2}{\\PYZdq{}}\\PY{p}{)}\\PY{p}{\\PYZcb{}}\n",
       "        \\PY{n}{spec}\\PY{o}{.}\\PY{n}{outputs} \\PY{o}{=} \\PY{p}{\\PYZob{}}\n",
       "            \\PY{l+m+mi}{0}\\PY{p}{:} \\PY{n}{PinSpecification}\\PY{p}{(}\\PY{l+s+s2}{\\PYZdq{}}\\PY{l+s+s2}{first\\PYZus{}quartile}\\PY{l+s+s2}{\\PYZdq{}}\\PY{p}{,} \\PY{p}{[}\\PY{n+nb}{float}\\PY{p}{]}\\PY{p}{)}\\PY{p}{,}\n",
       "            \\PY{l+m+mi}{1}\\PY{p}{:} \\PY{n}{PinSpecification}\\PY{p}{(}\\PY{l+s+s2}{\\PYZdq{}}\\PY{l+s+s2}{median}\\PY{l+s+s2}{\\PYZdq{}}\\PY{p}{,} \\PY{p}{[}\\PY{n+nb}{float}\\PY{p}{]}\\PY{p}{)}\\PY{p}{,}\n",
       "            \\PY{l+m+mi}{2}\\PY{p}{:} \\PY{n}{PinSpecification}\\PY{p}{(}\\PY{l+s+s2}{\\PYZdq{}}\\PY{l+s+s2}{third\\PYZus{}quartile}\\PY{l+s+s2}{\\PYZdq{}}\\PY{p}{,} \\PY{p}{[}\\PY{n+nb}{float}\\PY{p}{]}\\PY{p}{)}\\PY{p}{,}\n",
       "            \\PY{l+m+mi}{3}\\PY{p}{:} \\PY{n}{PinSpecification}\\PY{p}{(}\\PY{l+s+s2}{\\PYZdq{}}\\PY{l+s+s2}{variance}\\PY{l+s+s2}{\\PYZdq{}}\\PY{p}{,} \\PY{p}{[}\\PY{n+nb}{float}\\PY{p}{]}\\PY{p}{)}\\PY{p}{,}\n",
       "        \\PY{p}{\\PYZcb{}}\n",
       "        \\PY{n}{spec}\\PY{o}{.}\\PY{n}{properties} \\PY{o}{=} \\PY{n}{SpecificationProperties}\\PY{p}{(}\\PY{l+s+s2}{\\PYZdq{}}\\PY{l+s+s2}{easy statistics}\\PY{l+s+s2}{\\PYZdq{}}\\PY{p}{,} \\PY{l+s+s2}{\\PYZdq{}}\\PY{l+s+s2}{math}\\PY{l+s+s2}{\\PYZdq{}}\\PY{p}{)}\n",
       "        \\PY{k}{return} \\PY{n}{spec}\n",
       "\n",
       "    \\PY{k}{def} \\PY{n+nf}{run}\\PY{p}{(}\\PY{n+nb+bp}{self}\\PY{p}{)}\\PY{p}{:}\n",
       "        \\PY{n}{field} \\PY{o}{=} \\PY{n+nb+bp}{self}\\PY{o}{.}\\PY{n}{get\\PYZus{}input}\\PY{p}{(}\\PY{l+m+mi}{0}\\PY{p}{,} \\PY{n}{dpf}\\PY{o}{.}\\PY{n}{Field}\\PY{p}{)}\n",
       "        \\PY{k}{if} \\PY{n}{field} \\PY{o+ow}{is} \\PY{k+kc}{None}\\PY{p}{:}\n",
       "            \\PY{n}{field} \\PY{o}{=} \\PY{n+nb+bp}{self}\\PY{o}{.}\\PY{n}{get\\PYZus{}input}\\PY{p}{(}\\PY{l+m+mi}{0}\\PY{p}{,} \\PY{n}{dpf}\\PY{o}{.}\\PY{n}{FieldsContainer}\\PY{p}{)}\\PY{p}{[}\\PY{l+m+mi}{0}\\PY{p}{]}\n",
       "        \\PY{c+c1}{\\PYZsh{} compute stats}\n",
       "        \\PY{n}{first\\PYZus{}quartile\\PYZus{}val} \\PY{o}{=} \\PY{n}{np}\\PY{o}{.}\\PY{n}{quantile}\\PY{p}{(}\\PY{n}{field}\\PY{o}{.}\\PY{n}{data}\\PY{p}{,} \\PY{l+m+mf}{0.25}\\PY{p}{)}\n",
       "        \\PY{n}{median\\PYZus{}val} \\PY{o}{=} \\PY{n}{np}\\PY{o}{.}\\PY{n}{quantile}\\PY{p}{(}\\PY{n}{field}\\PY{o}{.}\\PY{n}{data}\\PY{p}{,} \\PY{l+m+mf}{0.5}\\PY{p}{)}\n",
       "        \\PY{n}{third\\PYZus{}quartile\\PYZus{}val} \\PY{o}{=} \\PY{n}{np}\\PY{o}{.}\\PY{n}{quantile}\\PY{p}{(}\\PY{n}{field}\\PY{o}{.}\\PY{n}{data}\\PY{p}{,} \\PY{l+m+mf}{0.75}\\PY{p}{)}\n",
       "        \\PY{n}{variance\\PYZus{}val} \\PY{o}{=} \\PY{n}{np}\\PY{o}{.}\\PY{n}{var}\\PY{p}{(}\\PY{n}{field}\\PY{o}{.}\\PY{n}{data}\\PY{p}{)}\n",
       "        \\PY{n+nb+bp}{self}\\PY{o}{.}\\PY{n}{set\\PYZus{}output}\\PY{p}{(}\\PY{l+m+mi}{0}\\PY{p}{,} \\PY{n}{first\\PYZus{}quartile\\PYZus{}val}\\PY{p}{)}\n",
       "        \\PY{n+nb+bp}{self}\\PY{o}{.}\\PY{n}{set\\PYZus{}output}\\PY{p}{(}\\PY{l+m+mi}{1}\\PY{p}{,} \\PY{n}{median\\PYZus{}val}\\PY{p}{)}\n",
       "        \\PY{n+nb+bp}{self}\\PY{o}{.}\\PY{n}{set\\PYZus{}output}\\PY{p}{(}\\PY{l+m+mi}{2}\\PY{p}{,} \\PY{n}{third\\PYZus{}quartile\\PYZus{}val}\\PY{p}{)}\n",
       "        \\PY{n+nb+bp}{self}\\PY{o}{.}\\PY{n}{set\\PYZus{}output}\\PY{p}{(}\\PY{l+m+mi}{3}\\PY{p}{,} \\PY{n+nb}{float}\\PY{p}{(}\\PY{n}{variance\\PYZus{}val}\\PY{p}{)}\\PY{p}{)}\n",
       "        \\PY{n+nb+bp}{self}\\PY{o}{.}\\PY{n}{set\\PYZus{}succeeded}\\PY{p}{(}\\PY{p}{)}\n",
       "\n",
       "\n",
       "\\PY{k}{def} \\PY{n+nf}{load\\PYZus{}operators}\\PY{p}{(}\\PY{o}{*}\\PY{n}{args}\\PY{p}{)}\\PY{p}{:}\n",
       "    \\PY{n}{record\\PYZus{}operator}\\PY{p}{(}\\PY{n}{EasyStatistics}\\PY{p}{,} \\PY{o}{*}\\PY{n}{args}\\PY{p}{)}\n",
       "\\end{Verbatim}\n"
      ],
      "text/plain": [
       "import numpy as np\n",
       "from ansys.dpf import core as dpf\n",
       "from ansys.dpf.core.custom_operator import CustomOperatorBase, record_operator\n",
       "from ansys.dpf.core.operator_specification import CustomSpecification, SpecificationProperties, \\\n",
       "    PinSpecification\n",
       "\n",
       "\n",
       "class EasyStatistics(CustomOperatorBase):\n",
       "    @property\n",
       "    def name(self):\n",
       "        return \"easy_statistics\"\n",
       "\n",
       "    @property\n",
       "    def specification(self) -> CustomSpecification:\n",
       "        spec = CustomSpecification()\n",
       "        spec.description = \"Compute the first quartile, the median, the third quartile and the variance of a scalar Field with numpy\"\n",
       "        spec.inputs = {0: PinSpecification(\"field\", [dpf.Field, dpf.FieldsContainer], \"scalar Field on which the statistics quantities is computed.\")}\n",
       "        spec.outputs = {\n",
       "            0: PinSpecification(\"first_quartile\", [float]),\n",
       "            1: PinSpecification(\"median\", [float]),\n",
       "            2: PinSpecification(\"third_quartile\", [float]),\n",
       "            3: PinSpecification(\"variance\", [float]),\n",
       "        }\n",
       "        spec.properties = SpecificationProperties(\"easy statistics\", \"math\")\n",
       "        return spec\n",
       "\n",
       "    def run(self):\n",
       "        field = self.get_input(0, dpf.Field)\n",
       "        if field is None:\n",
       "            field = self.get_input(0, dpf.FieldsContainer)[0]\n",
       "        # compute stats\n",
       "        first_quartile_val = np.quantile(field.data, 0.25)\n",
       "        median_val = np.quantile(field.data, 0.5)\n",
       "        third_quartile_val = np.quantile(field.data, 0.75)\n",
       "        variance_val = np.var(field.data)\n",
       "        self.set_output(0, first_quartile_val)\n",
       "        self.set_output(1, median_val)\n",
       "        self.set_output(2, third_quartile_val)\n",
       "        self.set_output(3, float(variance_val))\n",
       "        self.set_succeeded()\n",
       "\n",
       "\n",
       "def load_operators(*args):\n",
       "    record_operator(EasyStatistics, *args)"
      ]
     },
     "execution_count": 1,
     "metadata": {},
     "output_type": "execute_result"
    }
   ],
   "source": [
    "import IPython\n",
    "import os\n",
    "IPython.display.Code(os.path.join(os.getcwd(),\"../plugins/easy_statistics.py\"))"
   ]
  },
  {
   "cell_type": "markdown",
   "metadata": {},
   "source": [
    "## Load Plugin\n",
    "Once a python plugin is written, it can be loaded with the function `ansys.dpf.core.core.load_library`\n",
    "taking as first argument the path to the directory of the plugin, as second argument ``py_`` + the name of\n",
    "the python script, and as last argument the function's name used to record operators.\n",
    "\n"
   ]
  },
  {
   "cell_type": "code",
   "execution_count": 2,
   "metadata": {
    "collapsed": false,
    "jupyter": {
     "outputs_hidden": false
    }
   },
   "outputs": [
    {
     "name": "stderr",
     "output_type": "stream",
     "text": [
      "Established connection to DPF gRPC\n"
     ]
    },
    {
     "name": "stdout",
     "output_type": "stream",
     "text": [
      "/tmp/dataProcessingTemp140166535345920/easy_statistics.py\n"
     ]
    },
    {
     "data": {
      "text/plain": [
       "'py_easy_statistics successfully loaded'"
      ]
     },
     "execution_count": 2,
     "metadata": {},
     "output_type": "execute_result"
    }
   ],
   "source": [
    "import os\n",
    "from ansys.dpf import core as dpf\n",
    "from ansys.dpf.core import examples\n",
    "\n",
    "operator_file = dpf.upload_file_in_tmp_folder(\n",
    "    os.path.join(os.getcwd(),\"../plugins/easy_statistics.py\"))\n",
    "print(operator_file)\n",
    "dpf.load_library(os.path.dirname(operator_file), \"py_easy_statistics\", \"load_operators\")"
   ]
  },
  {
   "cell_type": "markdown",
   "metadata": {},
   "source": [
    "Once the Operator loaded, it can be instantiated with:\n",
    "\n"
   ]
  },
  {
   "cell_type": "code",
   "execution_count": 3,
   "metadata": {
    "collapsed": false,
    "jupyter": {
     "outputs_hidden": false
    }
   },
   "outputs": [],
   "source": [
    "new_operator = dpf.Operator(\"easy_statistics\")"
   ]
  },
  {
   "cell_type": "markdown",
   "metadata": {},
   "source": [
    "To use this new Operator, a workflow computing the norm of the displacement\n",
    "is connected to the \"easy_statistics\" Operator.\n",
    "Methods of the class ``easy_statistics`` are dynamically added thanks to the Operator's\n",
    "specification defined in the plugin.\n",
    "\n"
   ]
  },
  {
   "cell_type": "markdown",
   "metadata": {},
   "source": [
    "## Use the Custom Operator\n",
    "\n"
   ]
  },
  {
   "cell_type": "code",
   "execution_count": 4,
   "metadata": {
    "collapsed": false,
    "jupyter": {
     "outputs_hidden": false
    }
   },
   "outputs": [
    {
     "name": "stdout",
     "output_type": "stream",
     "text": [
      "first quartile is 0.0\n",
      "median is 7.491665033689507e-09\n",
      "third quartile is 1.4276663319275634e-08\n",
      "variance is 3.054190175494998e-17\n"
     ]
    }
   ],
   "source": [
    "ds = dpf.DataSources(dpf.upload_file_in_tmp_folder(examples.static_rst))\n",
    "displacement = dpf.operators.result.displacement(data_sources=ds)\n",
    "norm = dpf.operators.math.norm(displacement)\n",
    "new_operator.inputs.connect(norm)\n",
    "\n",
    "\n",
    "print(\"first quartile is\", new_operator.outputs.first_quartile())\n",
    "print(\"median is\", new_operator.outputs.median())\n",
    "print(\"third quartile is\", new_operator.outputs.third_quartile())\n",
    "print(\"variance is\", new_operator.outputs.variance())"
   ]
  },
  {
   "cell_type": "code",
   "execution_count": null,
   "metadata": {},
   "outputs": [],
   "source": []
  }
 ],
 "metadata": {
  "kernelspec": {
   "display_name": "Python 3 (ipykernel)",
   "language": "python",
   "name": "python3"
  },
  "language_info": {
   "codemirror_mode": {
    "name": "ipython",
    "version": 3
   },
   "file_extension": ".py",
   "mimetype": "text/x-python",
   "name": "python",
   "nbconvert_exporter": "python",
   "pygments_lexer": "ipython3",
   "version": "3.9.12"
  }
 },
 "nbformat": 4,
 "nbformat_minor": 4
}
