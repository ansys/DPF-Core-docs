{
 "cells": [
  {
   "cell_type": "code",
   "execution_count": null,
   "metadata": {
    "collapsed": false,
    "jupyter": {
     "outputs_hidden": false
    }
   },
   "outputs": [],
   "source": [
    "%matplotlib inline"
   ]
  },
  {
   "cell_type": "markdown",
   "metadata": {},
   "source": [
    "\n",
    "\n",
    "# Write/Load and Upload/Download a Result File\n",
    "DPF-Core can upload files to and download files from the server machine.\n",
    "\n",
    "This example shows how to write and upload files on the server machine and then\n",
    "download them back on the client side. The resulting fields container is exported\n",
    "in CSV format.\n"
   ]
  },
  {
   "cell_type": "markdown",
   "metadata": {},
   "source": [
    "Load a model from the DPF-Core examples:\n",
    "``ansys.dpf.core`` module.\n",
    "\n"
   ]
  },
  {
   "cell_type": "code",
   "execution_count": null,
   "metadata": {
    "collapsed": false,
    "jupyter": {
     "outputs_hidden": false
    }
   },
   "outputs": [],
   "source": [
    "from ansys.dpf import core \n",
    "from ansys.dpf.core import examples\n",
    "\n",
    "\n",
    "server_file_path = core.upload_file_in_tmp_folder(examples.simple_bar)\n",
    "model = core.Model(server_file_path)\n",
    "mesh = model.metadata.meshed_region"
   ]
  },
  {
   "cell_type": "markdown",
   "metadata": {},
   "source": [
    "# Get and Plot the Fields Container for the Result\n",
    "Get the fields container for the result and plot it so you can compare it later:\n",
    "\n"
   ]
  },
  {
   "cell_type": "code",
   "execution_count": null,
   "metadata": {
    "collapsed": false,
    "jupyter": {
     "outputs_hidden": false
    }
   },
   "outputs": [],
   "source": [
    "displacement_operator = model.results.displacement()\n",
    "fc_out = displacement_operator.outputs.fields_container()\n",
    "mesh.plot(fc_out)"
   ]
  },
  {
   "cell_type": "markdown",
   "metadata": {},
   "source": [
    "# Export Result\n",
    "Get the fields container for the result and export it in the CSV format:\n",
    "\n"
   ]
  },
  {
   "cell_type": "code",
   "execution_count": null,
   "metadata": {
    "collapsed": false,
    "jupyter": {
     "outputs_hidden": false
    }
   },
   "outputs": [],
   "source": [
    "file_path = \"simple_bar_fc.csv\"\n",
    "\n",
    "export_csv_operator = core.operators.serialization.field_to_csv()\n",
    "export_csv_operator.inputs.field_or_fields_container.connect(fc_out)\n",
    "export_csv_operator.inputs.file_path.connect(file_path)\n",
    "export_csv_operator.run()"
   ]
  },
  {
   "cell_type": "markdown",
   "metadata": {},
   "source": [
    "Download csv file from server"
   ]
  },
  {
   "cell_type": "code",
   "execution_count": null,
   "metadata": {},
   "outputs": [],
   "source": [
    "import os\n",
    "local_file_path = os.path.join(\"/tmp\", \"simple_bar_fc.csv\")\n",
    "core.download_file(file_path, local_file_path)"
   ]
  },
  {
   "cell_type": "markdown",
   "metadata": {},
   "source": [
    "Navigating to File > New > Terminal and running `ls /tmp/` should show the file `simple_bar_fc.csv` listed."
   ]
  },
  {
   "cell_type": "markdown",
   "metadata": {},
   "source": [
    "# Upload CSV Result File\n",
    "Upload the file ``simple_bar_fc.csv`` on the server side.\n",
    "Here, :func:`upload_file_in_tmp_folder` is used because\n",
    "it is assumed that the server machine architecture is unknown.\n",
    "However, when the server file path is known, :func:`upload_file`\n",
    "can be used.\n",
    "\n"
   ]
  },
  {
   "cell_type": "code",
   "execution_count": null,
   "metadata": {
    "collapsed": false,
    "jupyter": {
     "outputs_hidden": false
    }
   },
   "outputs": [],
   "source": [
    "server_file_path = core.upload_file_in_tmp_folder(local_file_path)\n",
    "print(server_file_path)\n",
    "\n",
    "# Remove file to avoid polluting.\n",
    "os.remove(local_file_path)"
   ]
  },
  {
   "cell_type": "markdown",
   "metadata": {},
   "source": [
    "# Download CSV Result File\n",
    "Download the file ``simple_bar_fc.csv``:\n",
    "\n"
   ]
  },
  {
   "cell_type": "code",
   "execution_count": null,
   "metadata": {
    "collapsed": false,
    "jupyter": {
     "outputs_hidden": false
    }
   },
   "outputs": [],
   "source": [
    "downloaded_client_file_path = os.path.join(\"/tmp\", \"simple_bar_fc_downloaded.csv\")\n",
    "core.download_file(server_file_path, downloaded_client_file_path)"
   ]
  },
  {
   "cell_type": "markdown",
   "metadata": {},
   "source": [
    "Navigating to File > New > Terminal and running `ls /tmp/` should show the file `simple_bar_fc_downloaded.csv` listed."
   ]
  },
  {
   "cell_type": "markdown",
   "metadata": {},
   "source": [
    "# Load CSV Result File as Operator Input\n",
    "Load the fields container contained in the CSV file as an operator input:\n",
    "\n"
   ]
  },
  {
   "cell_type": "code",
   "execution_count": null,
   "metadata": {
    "collapsed": false,
    "jupyter": {
     "outputs_hidden": false
    }
   },
   "outputs": [],
   "source": [
    "my_data_sources = core.DataSources(server_file_path)\n",
    "import_csv_operator = core.operators.serialization.csv_to_field()\n",
    "import_csv_operator.inputs.data_sources.connect(my_data_sources)\n",
    "downloaded_fc_out = import_csv_operator.outputs.fields_container()\n",
    "mesh.plot(downloaded_fc_out)\n",
    "\n",
    "# Remove file to avoid polluting.\n",
    "os.remove(downloaded_client_file_path)"
   ]
  },
  {
   "cell_type": "markdown",
   "metadata": {},
   "source": [
    "# Make Operations Over the Imported Fields Container\n",
    "Use this fields container:\n",
    "\n"
   ]
  },
  {
   "cell_type": "code",
   "execution_count": null,
   "metadata": {
    "collapsed": false,
    "jupyter": {
     "outputs_hidden": false
    }
   },
   "outputs": [],
   "source": [
    "min_max_op = core.operators.min_max.min_max_fc()\n",
    "min_max_op.inputs.fields_container.connect(downloaded_fc_out)\n",
    "min_field = min_max_op.outputs.field_min()\n",
    "min_field.data"
   ]
  }
 ],
 "metadata": {
  "kernelspec": {
   "display_name": "Python 3 (ipykernel)",
   "language": "python",
   "name": "python3"
  },
  "language_info": {
   "codemirror_mode": {
    "name": "ipython",
    "version": 3
   },
   "file_extension": ".py",
   "mimetype": "text/x-python",
   "name": "python",
   "nbconvert_exporter": "python",
   "pygments_lexer": "ipython3",
   "version": "3.9.7"
  }
 },
 "nbformat": 4,
 "nbformat_minor": 4
}
