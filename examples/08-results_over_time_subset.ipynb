{
 "cells": [
  {
   "cell_type": "code",
   "execution_count": null,
   "metadata": {
    "collapsed": false,
    "jupyter": {
     "outputs_hidden": false
    }
   },
   "outputs": [],
   "source": [
    "%matplotlib inline"
   ]
  },
  {
   "cell_type": "markdown",
   "metadata": {},
   "source": [
    "\n",
    "\n",
    "# Scope results over custom time domains\n",
    "The ``Result`` class, which are instances created by the ``Model``, give\n",
    "access to helpers for requesting results on specific mesh and time scopings.\n",
    "With these helpers, working on a temporal subset of the\n",
    "model is straightforward. In this example, different ways to choose the temporal subset to\n",
    "evaluate a result are exposed. This example can be extended to frequency subsets.\n",
    "\n",
    "Import necessary modules:\n"
   ]
  },
  {
   "cell_type": "code",
   "execution_count": null,
   "metadata": {
    "collapsed": false,
    "jupyter": {
     "outputs_hidden": false
    }
   },
   "outputs": [],
   "source": [
    "from ansys.dpf import core as dpf\n",
    "from ansys.dpf.core import examples"
   ]
  },
  {
   "cell_type": "markdown",
   "metadata": {},
   "source": [
    "Create a model object to establish a connection with an example result file:\n",
    "\n"
   ]
  },
  {
   "cell_type": "code",
   "execution_count": null,
   "metadata": {
    "collapsed": false,
    "jupyter": {
     "outputs_hidden": false
    }
   },
   "outputs": [],
   "source": [
    "\n",
    "local_file = examples.download_transient_result()\n",
    "server_file_path = dpf.upload_file_in_tmp_folder(local_file)\n",
    "model = dpf.Model(server_file_path)\n",
    "print(model)"
   ]
  },
  {
   "cell_type": "markdown",
   "metadata": {},
   "source": [
    "# Request specific time sets\n",
    "If specific time sets are of interest, looking into the ``TimeFreqSupport``\n",
    "and connect a given ``time_scoping`` accordingly to the cumulative indexes can be useful.\n",
    "\n"
   ]
  },
  {
   "cell_type": "code",
   "execution_count": null,
   "metadata": {
    "collapsed": false,
    "jupyter": {
     "outputs_hidden": false
    }
   },
   "outputs": [],
   "source": [
    "print(model.metadata.time_freq_support)\n",
    "\n",
    "time_sets = [1, 3, 10]\n",
    "disp = model.results.displacement.on_time_scoping(time_sets).eval()\n",
    "\n",
    "print(disp)\n",
    "\n",
    "# Or using a scoping\n",
    "time_sets_scoping = dpf.time_freq_scoping_factory.scoping_by_sets([1, 3, 10])\n",
    "disp = model.results.displacement.on_time_scoping(time_sets_scoping).eval()\n",
    "\n",
    "print(disp)"
   ]
  },
  {
   "cell_type": "markdown",
   "metadata": {},
   "source": [
    "Equivalent to:\n",
    "\n"
   ]
  },
  {
   "cell_type": "code",
   "execution_count": null,
   "metadata": {
    "collapsed": false,
    "jupyter": {
     "outputs_hidden": false
    }
   },
   "outputs": [],
   "source": [
    "disp_op = model.results.displacement()\n",
    "disp_op.inputs.time_scoping(time_sets)\n",
    "disp = disp_op.outputs.fields_container()"
   ]
  },
  {
   "cell_type": "markdown",
   "metadata": {},
   "source": [
    "Equivalent to:\n",
    "\n"
   ]
  },
  {
   "cell_type": "code",
   "execution_count": null,
   "metadata": {
    "collapsed": false,
    "jupyter": {
     "outputs_hidden": false
    }
   },
   "outputs": [],
   "source": [
    "disp = model.results.displacement(time_scoping=time_sets_scoping).eval()"
   ]
  },
  {
   "cell_type": "markdown",
   "metadata": {},
   "source": [
    "# Request specific time steps\n",
    "If specific time steps or load steps are of interest, looking into the\n",
    "``TimeFreqSupport`` and connect a given ``time_scoping`` located on steps can be done.\n",
    "\n"
   ]
  },
  {
   "cell_type": "code",
   "execution_count": null,
   "metadata": {
    "collapsed": false,
    "jupyter": {
     "outputs_hidden": false
    }
   },
   "outputs": [],
   "source": [
    "time_steps_scoping = dpf.time_freq_scoping_factory.scoping_by_load_step(1)\n",
    "disp = model.results.displacement.on_time_scoping(time_steps_scoping).eval()\n",
    "\n",
    "print(disp)"
   ]
  },
  {
   "cell_type": "markdown",
   "metadata": {},
   "source": [
    "Equivalent to:\n",
    "\n"
   ]
  },
  {
   "cell_type": "code",
   "execution_count": null,
   "metadata": {
    "collapsed": false,
    "jupyter": {
     "outputs_hidden": false
    }
   },
   "outputs": [],
   "source": [
    "disp_op = model.results.displacement()\n",
    "disp_op.inputs.time_scoping(time_steps_scoping)\n",
    "disp = disp_op.outputs.fields_container()"
   ]
  },
  {
   "cell_type": "markdown",
   "metadata": {},
   "source": [
    "# Using helpers\n",
    "Evaluate at all times.\n",
    "\n"
   ]
  },
  {
   "cell_type": "code",
   "execution_count": null,
   "metadata": {
    "collapsed": false,
    "jupyter": {
     "outputs_hidden": false
    }
   },
   "outputs": [],
   "source": [
    "disp = model.results.displacement.on_all_time_freqs().eval()"
   ]
  },
  {
   "cell_type": "markdown",
   "metadata": {},
   "source": [
    "Evaluate at first and last times\n",
    "\n"
   ]
  },
  {
   "cell_type": "code",
   "execution_count": null,
   "metadata": {
    "collapsed": false,
    "jupyter": {
     "outputs_hidden": false
    }
   },
   "outputs": [],
   "source": [
    "disp = model.results.displacement.on_first_time_freq().eval()\n",
    "print(disp)\n",
    "disp = model.results.displacement.on_last_time_freq().eval()\n",
    "print(disp)"
   ]
  }
 ],
 "metadata": {
  "kernelspec": {
   "display_name": "Python 3 (ipykernel)",
   "language": "python",
   "name": "python3"
  },
  "language_info": {
   "codemirror_mode": {
    "name": "ipython",
    "version": 3
   },
   "file_extension": ".py",
   "mimetype": "text/x-python",
   "name": "python",
   "nbconvert_exporter": "python",
   "pygments_lexer": "ipython3",
   "version": "3.9.7"
  }
 },
 "nbformat": 4,
 "nbformat_minor": 4
}
