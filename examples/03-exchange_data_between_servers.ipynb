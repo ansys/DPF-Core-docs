{
 "cells": [
  {
   "cell_type": "code",
   "execution_count": null,
   "metadata": {
    "collapsed": false,
    "jupyter": {
     "outputs_hidden": false
    }
   },
   "outputs": [],
   "source": [
    "%matplotlib inline"
   ]
  },
  {
   "cell_type": "markdown",
   "metadata": {},
   "source": [
    "\n",
    "\n",
    "# Exchange Data Between Servers\n",
    "In this example, 2 dpf's servers will be started and a workflow will be\n",
    "created with a part on both servers. This example opens the possibility for a\n",
    "user to read data from a given machine and transform this data on another\n",
    "without any more difficulties than working on a local computer\n"
   ]
  },
  {
   "cell_type": "code",
   "execution_count": null,
   "metadata": {
    "collapsed": false,
    "jupyter": {
     "outputs_hidden": false
    }
   },
   "outputs": [],
   "source": [
    "from ansys.dpf import core as dpf\n",
    "from ansys.dpf.core import examples\n",
    "from ansys.dpf.core import operators as ops\n",
    "from ansys.jupyterhub.manager import spawn_dpf, delete_pod"
   ]
  },
  {
   "cell_type": "markdown",
   "metadata": {},
   "source": [
    "# Create 2 servers\n",
    "Start two dpf servers.\n",
    "\n"
   ]
  },
  {
   "cell_type": "code",
   "execution_count": null,
   "metadata": {
    "collapsed": false,
    "jupyter": {
     "outputs_hidden": false
    }
   },
   "outputs": [],
   "source": [
    "server1, pod1_name = spawn_dpf()\n",
    "server2, pod2_name = spawn_dpf()\n",
    "servers = [server1, server2]"
   ]
  },
  {
   "cell_type": "markdown",
   "metadata": {},
   "source": [
    "# Send the result file\n",
    "Here, the result file is sent in a temporary dir of the first server.\n",
    "\n"
   ]
  },
  {
   "cell_type": "code",
   "execution_count": null,
   "metadata": {
    "collapsed": false,
    "jupyter": {
     "outputs_hidden": false
    }
   },
   "outputs": [],
   "source": [
    "file = examples.complex_rst\n",
    "file_path_in_tmp = dpf.upload_file_in_tmp_folder(file, server=server1)"
   ]
  },
  {
   "cell_type": "markdown",
   "metadata": {},
   "source": [
    "# Create a workflow on the first server\n",
    "Create the model\n",
    "\n"
   ]
  },
  {
   "cell_type": "code",
   "execution_count": null,
   "metadata": {
    "collapsed": false,
    "jupyter": {
     "outputs_hidden": false
    }
   },
   "outputs": [],
   "source": [
    "model = dpf.Model(file_path_in_tmp, server=server1)\n",
    "\n",
    "# Read displacement\n",
    "disp = model.results.displacement()\n",
    "disp.inputs.time_scoping(len(model.metadata.time_freq_support.time_frequencies))"
   ]
  },
  {
   "cell_type": "markdown",
   "metadata": {},
   "source": [
    "# Create a workflow on the second server\n",
    "\n"
   ]
  },
  {
   "cell_type": "code",
   "execution_count": null,
   "metadata": {
    "collapsed": false,
    "jupyter": {
     "outputs_hidden": false
    }
   },
   "outputs": [],
   "source": [
    "# Change the cartesian coordinates to cylindrical coordinates cs\n",
    "coordinates = ops.geo.rotate_in_cylindrical_cs_fc(server=server2)\n",
    "\n",
    "# Create the cartesian coordinate cs\n",
    "cs = dpf.fields_factory.create_scalar_field(12, server=server2)\n",
    "cs.data = [1, 0, 0, 0, 1, 0, 0, 0, 1, 0, 0, 0]\n",
    "\n",
    "coordinates.inputs.coordinate_system(cs)\n",
    "\n",
    "# choose the radial component to plot\n",
    "comp = dpf.operators.logic.component_selector_fc(coordinates, 0, server=server2)"
   ]
  },
  {
   "cell_type": "markdown",
   "metadata": {},
   "source": [
    "# Pass data from on server to another\n",
    "\n"
   ]
  },
  {
   "cell_type": "code",
   "execution_count": null,
   "metadata": {
    "collapsed": false,
    "jupyter": {
     "outputs_hidden": false
    }
   },
   "outputs": [],
   "source": [
    "fc_disp = disp.outputs.fields_container()\n",
    "fc_copy = fc_disp.deep_copy(server=server2)\n",
    "\n",
    "mesh_copy = model.metadata.meshed_region.deep_copy(server=server2)\n",
    "# give a mesh to the field\n",
    "fc_copy[0].meshed_region = mesh_copy\n",
    "fc_copy[1].meshed_region = mesh_copy\n",
    "\n",
    "coordinates.inputs.field(fc_copy)"
   ]
  },
  {
   "cell_type": "markdown",
   "metadata": {},
   "source": [
    "# Plot the output\n",
    "\n"
   ]
  },
  {
   "cell_type": "code",
   "execution_count": null,
   "metadata": {
    "collapsed": false,
    "jupyter": {
     "outputs_hidden": false
    }
   },
   "outputs": [],
   "source": [
    "out = comp.outputs.fields_container()\n",
    "\n",
    "# real part\n",
    "mesh_copy.plot(out.get_field({\"complex\": 0}))\n",
    "\n",
    "# imaginary part\n",
    "mesh_copy.plot(out.get_field({\"complex\": 1}))"
   ]
  },
  {
   "cell_type": "code",
   "execution_count": null,
   "metadata": {},
   "outputs": [],
   "source": [
    "delete_pod(pod1_name)\n",
    "delete_pod(pod2_name)"
   ]
  },
  {
   "cell_type": "code",
   "execution_count": null,
   "metadata": {},
   "outputs": [],
   "source": []
  }
 ],
 "metadata": {
  "kernelspec": {
   "display_name": "Python 3 (ipykernel)",
   "language": "python",
   "name": "python3"
  },
  "language_info": {
   "codemirror_mode": {
    "name": "ipython",
    "version": 3
   },
   "file_extension": ".py",
   "mimetype": "text/x-python",
   "name": "python",
   "nbconvert_exporter": "python",
   "pygments_lexer": "ipython3",
   "version": "3.9.7"
  }
 },
 "nbformat": 4,
 "nbformat_minor": 4
}
