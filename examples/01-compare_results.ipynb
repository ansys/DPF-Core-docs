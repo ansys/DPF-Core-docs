{
 "cells": [
  {
   "cell_type": "code",
   "execution_count": null,
   "metadata": {
    "collapsed": false,
    "jupyter": {
     "outputs_hidden": false
    }
   },
   "outputs": [],
   "source": [
    "%matplotlib inline"
   ]
  },
  {
   "cell_type": "markdown",
   "metadata": {},
   "source": [
    "\n",
    "\n",
    "# Compare Results Using the Plotter\n",
    "This example shows how to plot several meshes/results combination\n",
    "over the same plotter, in order to compare them. The usecase will be\n",
    "to compare results at different time steps.\n"
   ]
  },
  {
   "cell_type": "code",
   "execution_count": null,
   "metadata": {
    "collapsed": false,
    "jupyter": {
     "outputs_hidden": false
    }
   },
   "outputs": [],
   "source": [
    "from ansys.dpf import core as dpf\n",
    "from ansys.dpf.core import examples\n",
    "from ansys.dpf.core.plotter import DpfPlotter\n",
    "from ansys.jupyterhub.manager import spawn_dpf, delete_pod"
   ]
  },
  {
   "cell_type": "markdown",
   "metadata": {},
   "source": [
    "# Compare two results\n",
    "Now we will use an :class:`ansys.dpf.core.plotter.DpfPlotter` to plot two different\n",
    "results over the same mesh and make a comparison.\n",
    "\n"
   ]
  },
  {
   "cell_type": "code",
   "execution_count": null,
   "metadata": {
    "collapsed": false,
    "jupyter": {
     "outputs_hidden": false
    }
   },
   "outputs": [],
   "source": [
    "server, pod_name = spawn_dpf()\n",
    "# Here we create a Model and request its mesh\n",
    "server_file_path = dpf.upload_file_in_tmp_folder(examples.msup_transient, server=server)\n",
    "model = dpf.Model(server_file_path)\n",
    "mesh_set2 = model.metadata.meshed_region\n",
    "\n",
    "# Then we need to request the displacement for two different time steps\n",
    "displacement_operator = model.results.displacement()\n",
    "displacement_operator.inputs.time_scoping.connect([2, 15])\n",
    "displacement_set2 = displacement_operator.outputs.fields_container()[0]\n",
    "displacement_set15 = displacement_operator.outputs.fields_container()[1]"
   ]
  },
  {
   "cell_type": "markdown",
   "metadata": {},
   "source": [
    "Now we create an :class:`ansys.dpf.core.plotter.DpfPlotter` and add the\n",
    "first mesh and the first result\n",
    "\n"
   ]
  },
  {
   "cell_type": "code",
   "execution_count": null,
   "metadata": {
    "collapsed": false,
    "jupyter": {
     "outputs_hidden": false
    }
   },
   "outputs": [],
   "source": [
    "pl = DpfPlotter()\n",
    "pl.add_field(displacement_set2, mesh_set2)\n",
    "\n",
    "# Then it is needed to create a new mesh and translate it along x axis\n",
    "mesh_set15 = mesh_set2.deep_copy()\n",
    "overall_field = dpf.fields_factory.create_3d_vector_field(1, dpf.locations.overall)\n",
    "overall_field.append([0.2, 0.0, 0.0], 1)\n",
    "coordinates_to_update = mesh_set15.nodes.coordinates_field\n",
    "add_operator = dpf.operators.math.add(coordinates_to_update, overall_field)\n",
    "coordinates_updated = add_operator.outputs.field()\n",
    "coordinates_to_update.data = coordinates_updated.data\n",
    "\n",
    "# Finally we feed the DpfPlotter with the second mesh and the second result\n",
    "# and we plot the result\n",
    "pl.add_field(displacement_set15, mesh_set15)\n",
    "pl.show_figure(show_axes=True)"
   ]
  },
  {
   "cell_type": "code",
   "execution_count": null,
   "metadata": {},
   "outputs": [],
   "source": [
    "delete_pod(pod_name)"
   ]
  },
  {
   "cell_type": "code",
   "execution_count": null,
   "metadata": {},
   "outputs": [],
   "source": []
  }
 ],
 "metadata": {
  "kernelspec": {
   "display_name": "Python 3 (ipykernel)",
   "language": "python",
   "name": "python3"
  },
  "language_info": {
   "codemirror_mode": {
    "name": "ipython",
    "version": 3
   },
   "file_extension": ".py",
   "mimetype": "text/x-python",
   "name": "python",
   "nbconvert_exporter": "python",
   "pygments_lexer": "ipython3",
   "version": "3.9.7"
  }
 },
 "nbformat": 4,
 "nbformat_minor": 4
}
