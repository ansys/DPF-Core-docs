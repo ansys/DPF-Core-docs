{
 "cells": [
  {
   "cell_type": "code",
   "execution_count": null,
   "metadata": {
    "collapsed": false,
    "jupyter": {
     "outputs_hidden": false
    }
   },
   "outputs": [],
   "source": [
    "%matplotlib inline"
   ]
  },
  {
   "cell_type": "markdown",
   "metadata": {},
   "source": [
    "# Extract results from a modal cyclic symmetry model"
   ]
  },
  {
   "cell_type": "markdown",
   "metadata": {},
   "source": [
    "::: {#ref_basic_cyclic}\n",
    "Get base and duplicate sectors (real and imaginary) results for modal\n",
    "cyclic symmetry\n",
    "\\~\\~\\~\\~\\~\\~\\~\\~\\~\\~\\~\\~\\~\\~\\~\\~\\~\\~\\~\\~\\~\\~\\~\\~\\~\\~\\~\\~\\~\\~\\~\\~\\~\\~\\~\\~\\~\\~\\~\\~\\~\\~\\~\\~\\~\\~\\~\\~\\~\\~\\~\\~\\~\\~\\~\\~\\~\\~\\~\\~\\~\\~\\~\\~\\~\\~\\~\\~\\~\\~\\~\\~\\~\\~\\~\\~\\~\\~\\~\\~\\~\\~\\~\\~\n",
    ":::\n",
    "\n",
    "This example shows how to extract results from a modal cyclic symmetry\n",
    "model.\n"
   ]
  },
  {
   "cell_type": "code",
   "execution_count": null,
   "metadata": {
    "collapsed": false,
    "jupyter": {
     "outputs_hidden": false
    }
   },
   "outputs": [],
   "source": [
    "from ansys.dpf import core as dpf\n",
    "from ansys.dpf.core import examples"
   ]
  },
  {
   "cell_type": "markdown",
   "metadata": {},
   "source": [
    "Create the model and display the state of the result.\n"
   ]
  },
  {
   "cell_type": "code",
   "execution_count": null,
   "metadata": {
    "collapsed": false,
    "jupyter": {
     "outputs_hidden": false
    }
   },
   "outputs": [],
   "source": [
    "model = dpf.Model(examples.find_simple_cyclic())\n",
    "print(model)"
   ]
  },
  {
   "cell_type": "markdown",
   "metadata": {},
   "source": [
    "# Get base and duplicate sectors displacement results\n",
    "\n",
    "By default, the result providers (stress, displacement, and so on) will\n",
    "return results for base and duplicate sectors for a cyclic symmetry\n",
    "model.\n"
   ]
  },
  {
   "cell_type": "code",
   "execution_count": null,
   "metadata": {
    "collapsed": false,
    "jupyter": {
     "outputs_hidden": false
    }
   },
   "outputs": [],
   "source": [
    "# Create displacement operator\n",
    "u_cyc = model.results.displacement.on_all_time_freqs()\n",
    "fields = u_cyc.outputs.fields_container()"
   ]
  },
  {
   "cell_type": "markdown",
   "metadata": {},
   "source": [
    "The output fields container print displays the organization of the\n",
    "different fields in the container. The label \\\"base_sector\\\" gives\n",
    "access to base sectors results with base_sector=1 and duplicate sector\n",
    "with base_sector=0 for all modes. The print also displays that there is\n",
    "no duplicate sectors for the first 6 modes. Indeed, modes with harmonic\n",
    "index 0 have 0.0 displacement, stresses\\... on duplicate sectors.\n"
   ]
  },
  {
   "cell_type": "code",
   "execution_count": null,
   "metadata": {
    "collapsed": false,
    "jupyter": {
     "outputs_hidden": false
    }
   },
   "outputs": [],
   "source": [
    "print(fields)\n",
    "print(model.metadata.time_freq_support)\n",
    "\n",
    "# plot mode 7 base sector (real) result\n",
    "mode_7_base = fields.get_field({\"base_sector\": 1, \"time\": 7})\n",
    "model.metadata.meshed_region.plot(mode_7_base)\n",
    "\n",
    "# plot mode 7 duplicate sector (imaginary) result\n",
    "mode_7_duplicate = fields.get_field({\"base_sector\": 0, \"time\": 7})\n",
    "model.metadata.meshed_region.plot(mode_7_duplicate)"
   ]
  },
  {
   "cell_type": "markdown",
   "metadata": {},
   "source": [
    "# Get displacement results on the first sector with a cyclic phase\n",
    "\n",
    "`ansys.dpf.result.cyclic_expanded_displacement`{.interpreted-text\n",
    "role=\"class\"} gives access to all cyclic expansion configuration. By\n",
    "default all sectors will be expanded. The cyclic phase (in degree) can\n",
    "be changed with the phi argument.\n"
   ]
  },
  {
   "cell_type": "code",
   "execution_count": null,
   "metadata": {
    "collapsed": false,
    "jupyter": {
     "outputs_hidden": false
    }
   },
   "outputs": [],
   "source": [
    "u_cyc = dpf.operators.result.cyclic_expanded_displacement(\n",
    "    streams_container=model.metadata.streams_provider,\n",
    "    sectors_to_expand=[0],\n",
    "    time_scoping=[7],\n",
    "    phi=0.0,\n",
    ")\n",
    "# # get the mesh expanded on the first sector for consistency between results and mesh\n",
    "mesh_provider = model.metadata.mesh_provider\n",
    "mesh_provider.inputs.read_cyclic(2)  # read_cyclic=2 allows to expand cyclic result\n",
    "mesh_provider.connect(18, [0])  # connect the sectors_to_expand\n",
    "mesh = mesh_provider.outputs.mesh()\n",
    "\n",
    "mode_7_base = u_cyc.outputs.fields_container()\n",
    "print(mode_7_base)\n",
    "mesh.plot(mode_7_base[0])\n",
    "\n",
    "# a phase phi=90° is equivalent to returning the duplicate sector results:\n",
    "u_cyc.inputs.phi(90.0)\n",
    "mode_7_duplicate = u_cyc.outputs.fields_container()\n",
    "print(mode_7_duplicate)\n",
    "mesh.plot(mode_7_duplicate[0])\n",
    "\n",
    "# with phi=45°\n",
    "u_cyc.inputs.phi(45.0)\n",
    "mode_7_45 = u_cyc.outputs.fields_container()\n",
    "print(mode_7_45)\n",
    "mesh.plot(mode_7_45[0])"
   ]
  },
  {
   "cell_type": "markdown",
   "metadata": {},
   "source": [
    "# Get nodal stress results on the first sector with a cyclic phase\n"
   ]
  },
  {
   "cell_type": "code",
   "execution_count": null,
   "metadata": {
    "collapsed": false,
    "jupyter": {
     "outputs_hidden": false
    }
   },
   "outputs": [],
   "source": [
    "s_cyc = dpf.operators.result.cyclic_expanded_stress(\n",
    "    streams_container=model.metadata.streams_provider,\n",
    "    sectors_to_expand=[0],\n",
    "    time_scoping=[7],\n",
    "    phi=45.0,\n",
    "    requested_location=dpf.locations.nodal,\n",
    ")\n",
    "\n",
    "s_7_45 = s_cyc.outputs.fields_container()\n",
    "print(s_7_45)\n",
    "mesh.plot(s_7_45[0])"
   ]
  },
  {
   "cell_type": "markdown",
   "metadata": {},
   "source": [
    "# Get elemental_nodal stress results on the first sector with a cyclic phase\n",
    "\n",
    "Elemental nodal is the default result location for stress and strain.\n"
   ]
  },
  {
   "cell_type": "code",
   "execution_count": null,
   "metadata": {
    "collapsed": false,
    "jupyter": {
     "outputs_hidden": false
    }
   },
   "outputs": [],
   "source": [
    "s_cyc = dpf.operators.result.cyclic_expanded_stress(\n",
    "    streams_container=model.metadata.streams_provider,\n",
    "    sectors_to_expand=[0],\n",
    "    time_scoping=[7],\n",
    "    phi=45.0,\n",
    ")\n",
    "\n",
    "s_7_45 = s_cyc.outputs.fields_container()\n",
    "print(s_7_45)\n",
    "\n",
    "# To average the result for each element\n",
    "to_elemental = dpf.operators.averaging.to_elemental_fc(s_cyc)\n",
    "s_7_45 = to_elemental.outputs.fields_container()\n",
    "print(s_7_45)\n",
    "mesh.plot(s_7_45[0])"
   ]
  },
  {
   "cell_type": "markdown",
   "metadata": {},
   "source": [
    "# Get nodal stress results expanded\n"
   ]
  },
  {
   "cell_type": "code",
   "execution_count": null,
   "metadata": {
    "collapsed": false,
    "jupyter": {
     "outputs_hidden": false
    }
   },
   "outputs": [],
   "source": [
    "s_cyc = dpf.operators.result.cyclic_expanded_stress(\n",
    "    streams_container=model.metadata.streams_provider,\n",
    "    time_scoping=[7],\n",
    "    requested_location=dpf.locations.nodal,\n",
    ")\n",
    "\n",
    "mesh_provider = model.metadata.mesh_provider\n",
    "mesh_provider.inputs.read_cyclic(2)  # read_cyclic=2 allows to expand cyclic result\n",
    "mesh = mesh_provider.outputs.mesh()\n",
    "s = s_cyc.outputs.fields_container()\n",
    "\n",
    "mesh.plot(s[0])"
   ]
  }
 ],
 "metadata": {
  "kernelspec": {
   "display_name": "Python 3 (ipykernel)",
   "language": "python",
   "name": "python3"
  },
  "language_info": {
   "codemirror_mode": {
    "name": "ipython",
    "version": 3
   },
   "file_extension": ".py",
   "mimetype": "text/x-python",
   "name": "python",
   "nbconvert_exporter": "python",
   "pygments_lexer": "ipython3",
   "version": "3.9.12"
  }
 },
 "nbformat": 4,
 "nbformat_minor": 4
}
