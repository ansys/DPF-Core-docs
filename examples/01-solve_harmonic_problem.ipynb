{
 "cells": [
  {
   "cell_type": "code",
   "execution_count": null,
   "metadata": {
    "collapsed": false,
    "jupyter": {
     "outputs_hidden": false
    }
   },
   "outputs": [],
   "source": [
    "%matplotlib inline"
   ]
  },
  {
   "cell_type": "markdown",
   "metadata": {},
   "source": [
    "\n",
    "\n",
    "# Solve Harmonic Problem (with damping) Using Matrix Inverse\n",
    "This example shows how to create an harmonic (over frequencies) fields\n",
    "container for an analysis with damping. This fields container is then used to\n",
    "solve the problem Ma+Dv+Ku =F by inversing the matrix\n"
   ]
  },
  {
   "cell_type": "code",
   "execution_count": null,
   "metadata": {
    "collapsed": false,
    "jupyter": {
     "outputs_hidden": false
    }
   },
   "outputs": [],
   "source": [
    "import math\n",
    "\n",
    "from ansys.dpf import core as dpf\n",
    "from ansys.dpf.core import operators as ops"
   ]
  },
  {
   "cell_type": "markdown",
   "metadata": {},
   "source": [
    "Create 2D (x,y) matrix fields for inertia, damping and stiffness\n",
    "\n"
   ]
  },
  {
   "cell_type": "code",
   "execution_count": null,
   "metadata": {
    "collapsed": false,
    "jupyter": {
     "outputs_hidden": false
    }
   },
   "outputs": [],
   "source": [
    "\n",
    "freq = [25, 50, 100, 200, 400]\n",
    "dim = 2  # dimension of matrix\n",
    "\n",
    "fM0 = dpf.fields_factory.create_matrix_field(1, dim, dim)\n",
    "fM0.append([0.0, 1.0, 2.0, 3.0], 1)\n",
    "fK0 = dpf.fields_factory.create_matrix_field(1, dim, dim)\n",
    "fK0.append([4.0, 8.0, 0.0, 1.0], 1)\n",
    "fC0 = dpf.fields_factory.create_matrix_field(1, dim, dim)\n",
    "fC0.append([7.0, 5.0, 9.0, 1.0], 1)"
   ]
  },
  {
   "cell_type": "markdown",
   "metadata": {},
   "source": [
    "Create a fields container for real and imaginary parts\n",
    "for each frequency\n",
    "\n"
   ]
  },
  {
   "cell_type": "code",
   "execution_count": null,
   "metadata": {
    "collapsed": false,
    "jupyter": {
     "outputs_hidden": false
    }
   },
   "outputs": [],
   "source": [
    "reals = {}\n",
    "ims = {}\n",
    "for k, f in enumerate(freq):\n",
    "    omega = 2.0 * math.pi * f\n",
    "    omega2 = omega ** 2\n",
    "    real = fK0 + fM0 * omega2\n",
    "    imag = fC0 * omega\n",
    "    reals[f] = real.outputs.field()\n",
    "    ims[f] = imag.outputs.field()\n",
    "\n",
    "cplx_fc = dpf.fields_container_factory.over_time_freq_complex_fields_container(\n",
    "    reals, ims, time_freq_unit=\"Hz\"\n",
    ")"
   ]
  },
  {
   "cell_type": "markdown",
   "metadata": {},
   "source": [
    "Use dpf's operators to inverse the matrix, compute the amplitude\n",
    "and the phase\n",
    "\n"
   ]
  },
  {
   "cell_type": "code",
   "execution_count": null,
   "metadata": {
    "collapsed": false,
    "jupyter": {
     "outputs_hidden": false
    }
   },
   "outputs": [],
   "source": [
    "inverse = ops.math.matrix_inverse(cplx_fc)\n",
    "component = ops.logic.component_selector_fc(inverse, 0)\n",
    "amp = ops.math.amplitude_fc(component)\n",
    "phase = ops.math.phase_fc(component)"
   ]
  },
  {
   "cell_type": "markdown",
   "metadata": {},
   "source": [
    "Get the phase and amplitude and plot it over frequencies\n",
    "\n"
   ]
  },
  {
   "cell_type": "code",
   "execution_count": null,
   "metadata": {
    "collapsed": false,
    "jupyter": {
     "outputs_hidden": false
    }
   },
   "outputs": [],
   "source": [
    "amp_over_frequency = amp.outputs.fields_container()\n",
    "phase_over_frequency = phase.outputs.fields_container()\n",
    "time_freq_support = amp_over_frequency.time_freq_support\n",
    "\n",
    "amp_array = []\n",
    "phase_array = []\n",
    "for f in amp_over_frequency:\n",
    "    amp_array.append(f.data)\n",
    "\n",
    "for f in phase_over_frequency:\n",
    "    phase_array.append(f.data * 180.0 / math.pi)\n",
    "\n",
    "import matplotlib.pyplot as plt\n",
    "\n",
    "plt.figure()\n",
    "plt.plot(time_freq_support.time_frequencies.data, amp_array, \"r\", label=\"amplitude\")\n",
    "plt.xlabel(\"Frequency (Hz)\")\n",
    "plt.ylabel(\"Displacement ampliude (m)\")\n",
    "plt.legend()\n",
    "plt.show()\n",
    "\n",
    "plt.figure()\n",
    "plt.plot(time_freq_support.time_frequencies.data, phase_array, \"r\", label=\"phase\")\n",
    "plt.xlabel(\"Frequency (Hz)\")\n",
    "plt.ylabel(\"Displacement phase (deg)\")\n",
    "plt.legend()\n",
    "plt.show()"
   ]
  }
 ],
 "metadata": {
  "kernelspec": {
   "display_name": "Python 3 (ipykernel)",
   "language": "python",
   "name": "python3"
  },
  "language_info": {
   "codemirror_mode": {
    "name": "ipython",
    "version": 3
   },
   "file_extension": ".py",
   "mimetype": "text/x-python",
   "name": "python",
   "nbconvert_exporter": "python",
   "pygments_lexer": "ipython3",
   "version": "3.9.7"
  }
 },
 "nbformat": 4,
 "nbformat_minor": 4
}
